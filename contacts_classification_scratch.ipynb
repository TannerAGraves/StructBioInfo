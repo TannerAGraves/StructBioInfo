{
  "cells": [
    {
      "cell_type": "code",
      "execution_count": 82,
      "metadata": {
        "colab": {
          "base_uri": "https://localhost:8080/"
        },
        "id": "ewVXNIEM7IV_",
        "outputId": "d8dd2f32-5ac0-483a-ce41-43eb603c5b9a"
      },
      "outputs": [
        {
          "output_type": "stream",
          "name": "stdout",
          "text": [
            "Requirement already satisfied: scikit-learn in /usr/local/lib/python3.10/dist-packages (1.2.2)\n",
            "Requirement already satisfied: numpy>=1.17.3 in /usr/local/lib/python3.10/dist-packages (from scikit-learn) (1.22.4)\n",
            "Requirement already satisfied: scipy>=1.3.2 in /usr/local/lib/python3.10/dist-packages (from scikit-learn) (1.10.1)\n",
            "Requirement already satisfied: joblib>=1.1.1 in /usr/local/lib/python3.10/dist-packages (from scikit-learn) (1.2.0)\n",
            "Requirement already satisfied: threadpoolctl>=2.0.0 in /usr/local/lib/python3.10/dist-packages (from scikit-learn) (3.1.0)\n",
            "Requirement already satisfied: torch in /usr/local/lib/python3.10/dist-packages (2.0.1+cu118)\n",
            "Requirement already satisfied: filelock in /usr/local/lib/python3.10/dist-packages (from torch) (3.12.2)\n",
            "Requirement already satisfied: typing-extensions in /usr/local/lib/python3.10/dist-packages (from torch) (4.6.3)\n",
            "Requirement already satisfied: sympy in /usr/local/lib/python3.10/dist-packages (from torch) (1.11.1)\n",
            "Requirement already satisfied: networkx in /usr/local/lib/python3.10/dist-packages (from torch) (3.1)\n",
            "Requirement already satisfied: jinja2 in /usr/local/lib/python3.10/dist-packages (from torch) (3.1.2)\n",
            "Requirement already satisfied: triton==2.0.0 in /usr/local/lib/python3.10/dist-packages (from torch) (2.0.0)\n",
            "Requirement already satisfied: cmake in /usr/local/lib/python3.10/dist-packages (from triton==2.0.0->torch) (3.25.2)\n",
            "Requirement already satisfied: lit in /usr/local/lib/python3.10/dist-packages (from triton==2.0.0->torch) (16.0.6)\n",
            "Requirement already satisfied: MarkupSafe>=2.0 in /usr/local/lib/python3.10/dist-packages (from jinja2->torch) (2.1.3)\n",
            "Requirement already satisfied: mpmath>=0.19 in /usr/local/lib/python3.10/dist-packages (from sympy->torch) (1.3.0)\n",
            "Requirement already satisfied: torchinfo in /usr/local/lib/python3.10/dist-packages (1.8.0)\n"
          ]
        }
      ],
      "source": [
        "!pip3 install scikit-learn\n",
        "!pip3 install torch\n",
        "!pip3 install torchinfo\n"
      ]
    },
    {
      "cell_type": "code",
      "execution_count": 83,
      "metadata": {
        "colab": {
          "base_uri": "https://localhost:8080/"
        },
        "id": "AKx-1SDs7IWH",
        "outputId": "bd303512-2b84-41b0-9a9f-c8dc2fe3cd5a"
      },
      "outputs": [
        {
          "output_type": "stream",
          "name": "stdout",
          "text": [
            "Requirement already satisfied: google-colab in /usr/local/lib/python3.10/dist-packages (1.0.0)\n",
            "Requirement already satisfied: google-auth==2.17.3 in /usr/local/lib/python3.10/dist-packages (from google-colab) (2.17.3)\n",
            "Requirement already satisfied: ipykernel==5.5.6 in /usr/local/lib/python3.10/dist-packages (from google-colab) (5.5.6)\n",
            "Requirement already satisfied: ipython==7.34.0 in /usr/local/lib/python3.10/dist-packages (from google-colab) (7.34.0)\n",
            "Requirement already satisfied: notebook==6.4.8 in /usr/local/lib/python3.10/dist-packages (from google-colab) (6.4.8)\n",
            "Requirement already satisfied: pandas==1.5.3 in /usr/local/lib/python3.10/dist-packages (from google-colab) (1.5.3)\n",
            "Requirement already satisfied: portpicker==1.5.2 in /usr/local/lib/python3.10/dist-packages (from google-colab) (1.5.2)\n",
            "Requirement already satisfied: requests==2.27.1 in /usr/local/lib/python3.10/dist-packages (from google-colab) (2.27.1)\n",
            "Requirement already satisfied: tornado==6.3.1 in /usr/local/lib/python3.10/dist-packages (from google-colab) (6.3.1)\n",
            "Requirement already satisfied: cachetools<6.0,>=2.0.0 in /usr/local/lib/python3.10/dist-packages (from google-auth==2.17.3->google-colab) (5.3.1)\n",
            "Requirement already satisfied: pyasn1-modules>=0.2.1 in /usr/local/lib/python3.10/dist-packages (from google-auth==2.17.3->google-colab) (0.3.0)\n",
            "Requirement already satisfied: six>=1.9.0 in /usr/local/lib/python3.10/dist-packages (from google-auth==2.17.3->google-colab) (1.16.0)\n",
            "Requirement already satisfied: rsa<5,>=3.1.4 in /usr/local/lib/python3.10/dist-packages (from google-auth==2.17.3->google-colab) (4.9)\n",
            "Requirement already satisfied: ipython-genutils in /usr/local/lib/python3.10/dist-packages (from ipykernel==5.5.6->google-colab) (0.2.0)\n",
            "Requirement already satisfied: traitlets>=4.1.0 in /usr/local/lib/python3.10/dist-packages (from ipykernel==5.5.6->google-colab) (5.7.1)\n",
            "Requirement already satisfied: jupyter-client in /usr/local/lib/python3.10/dist-packages (from ipykernel==5.5.6->google-colab) (6.1.12)\n",
            "Requirement already satisfied: setuptools>=18.5 in /usr/local/lib/python3.10/dist-packages (from ipython==7.34.0->google-colab) (67.7.2)\n",
            "Requirement already satisfied: jedi>=0.16 in /usr/local/lib/python3.10/dist-packages (from ipython==7.34.0->google-colab) (0.18.2)\n",
            "Requirement already satisfied: decorator in /usr/local/lib/python3.10/dist-packages (from ipython==7.34.0->google-colab) (4.4.2)\n",
            "Requirement already satisfied: pickleshare in /usr/local/lib/python3.10/dist-packages (from ipython==7.34.0->google-colab) (0.7.5)\n",
            "Requirement already satisfied: prompt-toolkit!=3.0.0,!=3.0.1,<3.1.0,>=2.0.0 in /usr/local/lib/python3.10/dist-packages (from ipython==7.34.0->google-colab) (3.0.38)\n",
            "Requirement already satisfied: pygments in /usr/local/lib/python3.10/dist-packages (from ipython==7.34.0->google-colab) (2.14.0)\n",
            "Requirement already satisfied: backcall in /usr/local/lib/python3.10/dist-packages (from ipython==7.34.0->google-colab) (0.2.0)\n",
            "Requirement already satisfied: matplotlib-inline in /usr/local/lib/python3.10/dist-packages (from ipython==7.34.0->google-colab) (0.1.6)\n",
            "Requirement already satisfied: pexpect>4.3 in /usr/local/lib/python3.10/dist-packages (from ipython==7.34.0->google-colab) (4.8.0)\n",
            "Requirement already satisfied: jinja2 in /usr/local/lib/python3.10/dist-packages (from notebook==6.4.8->google-colab) (3.1.2)\n",
            "Requirement already satisfied: pyzmq>=17 in /usr/local/lib/python3.10/dist-packages (from notebook==6.4.8->google-colab) (23.2.1)\n",
            "Requirement already satisfied: argon2-cffi in /usr/local/lib/python3.10/dist-packages (from notebook==6.4.8->google-colab) (21.3.0)\n",
            "Requirement already satisfied: jupyter-core>=4.6.1 in /usr/local/lib/python3.10/dist-packages (from notebook==6.4.8->google-colab) (5.3.1)\n",
            "Requirement already satisfied: nbformat in /usr/local/lib/python3.10/dist-packages (from notebook==6.4.8->google-colab) (5.9.0)\n",
            "Requirement already satisfied: nbconvert in /usr/local/lib/python3.10/dist-packages (from notebook==6.4.8->google-colab) (6.5.4)\n",
            "Requirement already satisfied: nest-asyncio>=1.5 in /usr/local/lib/python3.10/dist-packages (from notebook==6.4.8->google-colab) (1.5.6)\n",
            "Requirement already satisfied: Send2Trash>=1.8.0 in /usr/local/lib/python3.10/dist-packages (from notebook==6.4.8->google-colab) (1.8.2)\n",
            "Requirement already satisfied: terminado>=0.8.3 in /usr/local/lib/python3.10/dist-packages (from notebook==6.4.8->google-colab) (0.17.1)\n",
            "Requirement already satisfied: prometheus-client in /usr/local/lib/python3.10/dist-packages (from notebook==6.4.8->google-colab) (0.17.0)\n",
            "Requirement already satisfied: python-dateutil>=2.8.1 in /usr/local/lib/python3.10/dist-packages (from pandas==1.5.3->google-colab) (2.8.2)\n",
            "Requirement already satisfied: pytz>=2020.1 in /usr/local/lib/python3.10/dist-packages (from pandas==1.5.3->google-colab) (2022.7.1)\n",
            "Requirement already satisfied: numpy>=1.21.0 in /usr/local/lib/python3.10/dist-packages (from pandas==1.5.3->google-colab) (1.22.4)\n",
            "Requirement already satisfied: psutil in /usr/local/lib/python3.10/dist-packages (from portpicker==1.5.2->google-colab) (5.9.5)\n",
            "Requirement already satisfied: urllib3<1.27,>=1.21.1 in /usr/local/lib/python3.10/dist-packages (from requests==2.27.1->google-colab) (1.26.16)\n",
            "Requirement already satisfied: certifi>=2017.4.17 in /usr/local/lib/python3.10/dist-packages (from requests==2.27.1->google-colab) (2023.5.7)\n",
            "Requirement already satisfied: charset-normalizer~=2.0.0 in /usr/local/lib/python3.10/dist-packages (from requests==2.27.1->google-colab) (2.0.12)\n",
            "Requirement already satisfied: idna<4,>=2.5 in /usr/local/lib/python3.10/dist-packages (from requests==2.27.1->google-colab) (3.4)\n",
            "Requirement already satisfied: parso<0.9.0,>=0.8.0 in /usr/local/lib/python3.10/dist-packages (from jedi>=0.16->ipython==7.34.0->google-colab) (0.8.3)\n",
            "Requirement already satisfied: platformdirs>=2.5 in /usr/local/lib/python3.10/dist-packages (from jupyter-core>=4.6.1->notebook==6.4.8->google-colab) (3.7.0)\n",
            "Requirement already satisfied: ptyprocess>=0.5 in /usr/local/lib/python3.10/dist-packages (from pexpect>4.3->ipython==7.34.0->google-colab) (0.7.0)\n",
            "Requirement already satisfied: wcwidth in /usr/local/lib/python3.10/dist-packages (from prompt-toolkit!=3.0.0,!=3.0.1,<3.1.0,>=2.0.0->ipython==7.34.0->google-colab) (0.2.6)\n",
            "Requirement already satisfied: pyasn1<0.6.0,>=0.4.6 in /usr/local/lib/python3.10/dist-packages (from pyasn1-modules>=0.2.1->google-auth==2.17.3->google-colab) (0.5.0)\n",
            "Requirement already satisfied: argon2-cffi-bindings in /usr/local/lib/python3.10/dist-packages (from argon2-cffi->notebook==6.4.8->google-colab) (21.2.0)\n",
            "Requirement already satisfied: MarkupSafe>=2.0 in /usr/local/lib/python3.10/dist-packages (from jinja2->notebook==6.4.8->google-colab) (2.1.3)\n",
            "Requirement already satisfied: lxml in /usr/local/lib/python3.10/dist-packages (from nbconvert->notebook==6.4.8->google-colab) (4.9.2)\n",
            "Requirement already satisfied: beautifulsoup4 in /usr/local/lib/python3.10/dist-packages (from nbconvert->notebook==6.4.8->google-colab) (4.11.2)\n",
            "Requirement already satisfied: bleach in /usr/local/lib/python3.10/dist-packages (from nbconvert->notebook==6.4.8->google-colab) (6.0.0)\n",
            "Requirement already satisfied: defusedxml in /usr/local/lib/python3.10/dist-packages (from nbconvert->notebook==6.4.8->google-colab) (0.7.1)\n",
            "Requirement already satisfied: entrypoints>=0.2.2 in /usr/local/lib/python3.10/dist-packages (from nbconvert->notebook==6.4.8->google-colab) (0.4)\n",
            "Requirement already satisfied: jupyterlab-pygments in /usr/local/lib/python3.10/dist-packages (from nbconvert->notebook==6.4.8->google-colab) (0.2.2)\n",
            "Requirement already satisfied: mistune<2,>=0.8.1 in /usr/local/lib/python3.10/dist-packages (from nbconvert->notebook==6.4.8->google-colab) (0.8.4)\n",
            "Requirement already satisfied: nbclient>=0.5.0 in /usr/local/lib/python3.10/dist-packages (from nbconvert->notebook==6.4.8->google-colab) (0.8.0)\n",
            "Requirement already satisfied: packaging in /usr/local/lib/python3.10/dist-packages (from nbconvert->notebook==6.4.8->google-colab) (23.1)\n",
            "Requirement already satisfied: pandocfilters>=1.4.1 in /usr/local/lib/python3.10/dist-packages (from nbconvert->notebook==6.4.8->google-colab) (1.5.0)\n",
            "Requirement already satisfied: tinycss2 in /usr/local/lib/python3.10/dist-packages (from nbconvert->notebook==6.4.8->google-colab) (1.2.1)\n",
            "Requirement already satisfied: fastjsonschema in /usr/local/lib/python3.10/dist-packages (from nbformat->notebook==6.4.8->google-colab) (2.17.1)\n",
            "Requirement already satisfied: jsonschema>=2.6 in /usr/local/lib/python3.10/dist-packages (from nbformat->notebook==6.4.8->google-colab) (4.3.3)\n",
            "Requirement already satisfied: attrs>=17.4.0 in /usr/local/lib/python3.10/dist-packages (from jsonschema>=2.6->nbformat->notebook==6.4.8->google-colab) (23.1.0)\n",
            "Requirement already satisfied: pyrsistent!=0.17.0,!=0.17.1,!=0.17.2,>=0.14.0 in /usr/local/lib/python3.10/dist-packages (from jsonschema>=2.6->nbformat->notebook==6.4.8->google-colab) (0.19.3)\n",
            "Requirement already satisfied: cffi>=1.0.1 in /usr/local/lib/python3.10/dist-packages (from argon2-cffi-bindings->argon2-cffi->notebook==6.4.8->google-colab) (1.15.1)\n",
            "Requirement already satisfied: soupsieve>1.2 in /usr/local/lib/python3.10/dist-packages (from beautifulsoup4->nbconvert->notebook==6.4.8->google-colab) (2.4.1)\n",
            "Requirement already satisfied: webencodings in /usr/local/lib/python3.10/dist-packages (from bleach->nbconvert->notebook==6.4.8->google-colab) (0.5.1)\n",
            "Requirement already satisfied: pycparser in /usr/local/lib/python3.10/dist-packages (from cffi>=1.0.1->argon2-cffi-bindings->argon2-cffi->notebook==6.4.8->google-colab) (2.21)\n"
          ]
        }
      ],
      "source": [
        "!pip3 install google-colab"
      ]
    },
    {
      "cell_type": "code",
      "execution_count": 84,
      "metadata": {
        "id": "i1nJM4827IWE"
      },
      "outputs": [],
      "source": [
        "import pandas as pd\n",
        "import os\n",
        "from sklearn.preprocessing import StandardScaler\n",
        "from sklearn.model_selection import train_test_split, KFold\n",
        "from sklearn.metrics import accuracy_score\n",
        "import torch\n",
        "import torch.nn as nn\n",
        "import torch.nn.functional as F\n",
        "from torchinfo import summary\n",
        "import numpy as np\n",
        "import matplotlib.pyplot as plt\n",
        "\n",
        "from imblearn.over_sampling import SMOTE\n",
        "from imblearn.under_sampling import OneSidedSelection, InstanceHardnessThreshold, NearMiss, ClusterCentroids\n",
        "from sklearn.ensemble import AdaBoostClassifier\n",
        "from sklearn.preprocessing import LabelBinarizer\n",
        "\n",
        "from sklearn.metrics import classification_report, confusion_matrix, ConfusionMatrixDisplay\n",
        "from torch import nn, optim\n",
        "from torch.utils.data import TensorDataset, DataLoader\n",
        "import seaborn as sns\n"
      ]
    },
    {
      "cell_type": "code",
      "execution_count": 85,
      "metadata": {
        "colab": {
          "base_uri": "https://localhost:8080/"
        },
        "id": "uquAXNAzpjba",
        "outputId": "32dc4867-c87d-4e73-8a79-f1fd6e6b1bab"
      },
      "outputs": [
        {
          "output_type": "stream",
          "name": "stdout",
          "text": [
            "Drive already mounted at /content/drive; to attempt to forcibly remount, call drive.mount(\"/content/drive\", force_remount=True).\n"
          ]
        }
      ],
      "source": [
        "'''CONFIG FOR LOCAL / CLOUD RUNNING'''\n",
        "running_local = 'content' not in os.getcwd()\n",
        "if running_local:\n",
        "    path = ''\n",
        "else:\n",
        "    from google.colab import drive\n",
        "    drive.mount('/content/drive')\n",
        "    path = 'drive/MyDrive/StructuralBioinformatics/'"
      ]
    },
    {
      "cell_type": "code",
      "execution_count": 86,
      "metadata": {
        "id": "_GVRc7Ky7IWG"
      },
      "outputs": [],
      "source": [
        "# RUN ONLY TO REBUILD DATASET CSV\n",
        "#dfs = []\n",
        "#for filename in os.listdir('features_ring'):\n",
        "#    if filename[-4:] == '.tsv':\n",
        "#        dfs.append(pd.read_csv('features_ring/' + filename, sep='\\t'))\n",
        "#df = pd.concat(dfs)\n",
        "#df"
      ]
    },
    {
      "cell_type": "code",
      "execution_count": 87,
      "metadata": {
        "id": "rmKCVbWQ7IWG"
      },
      "outputs": [],
      "source": [
        "# don't need to execute - only to export df for training in cloud\n",
        "#df.to_csv('contact_df.csv')"
      ]
    },
    {
      "cell_type": "code",
      "execution_count": 88,
      "metadata": {
        "colab": {
          "base_uri": "https://localhost:8080/"
        },
        "id": "PcBk80rJ7IWI",
        "outputId": "a0bfb46d-a202-471f-bfa9-a2e9412fb3bb"
      },
      "outputs": [
        {
          "output_type": "execute_result",
          "data": {
            "text/plain": [
              "0               VDW\n",
              "1             HBOND\n",
              "2             HBOND\n",
              "3         PIPISTACK\n",
              "4             HBOND\n",
              "            ...    \n",
              "454188          VDW\n",
              "454189        HBOND\n",
              "454190          VDW\n",
              "454191        HBOND\n",
              "454192        HBOND\n",
              "Name: Interaction, Length: 454193, dtype: category\n",
              "Categories (6, object): ['HBOND', 'IONIC', 'PICATION', 'PIPISTACK', 'SSBOND', 'VDW']"
            ]
          },
          "metadata": {},
          "execution_count": 88
        }
      ],
      "source": [
        "df = pd.read_csv(path + 'data/contact_df.csv')\n",
        "df.dropna(inplace=True)\n",
        "\n",
        "# Define ground truth values\n",
        "y = df['Interaction'].astype('category')\n",
        "y_oneHot = pd.get_dummies(y)\n",
        "cat_names = list(y.cat.categories)\n",
        "y\n"
      ]
    },
    {
      "cell_type": "code",
      "source": [
        "# Define training features\n",
        "X = df[['s_rsa', 's_up', 's_down', 's_phi', 's_psi', 's_a1', 's_a2', 's_a3', 's_a4', 's_a5',\n",
        "        't_rsa', 't_up', 't_down', 't_phi', 't_psi', 't_a1', 't_a2', 't_a3', 't_a4', 't_a5']]\n",
        "\n",
        "#is this working?\n",
        "X = X.fillna({col: X[col].mode()[0] for col in X.columns})\n",
        "\n",
        "print(\"Scaling data...\")\n",
        "scaler = StandardScaler()\n",
        "X_scaled = scaler.fit_transform(X)"
      ],
      "metadata": {
        "colab": {
          "base_uri": "https://localhost:8080/"
        },
        "id": "xwKYDnU7qLwa",
        "outputId": "b31fbfa9-d87a-485b-c79d-f56f1ad9ff81"
      },
      "execution_count": 89,
      "outputs": [
        {
          "output_type": "stream",
          "name": "stdout",
          "text": [
            "Scaling data...\n"
          ]
        }
      ]
    },
    {
      "cell_type": "code",
      "execution_count": 90,
      "metadata": {
        "id": "tPxPV5w_7IWK"
      },
      "outputs": [],
      "source": [
        "# Create the test and train split (from ORIGINAL data)\n",
        "\n",
        "X_train, X_test, y_train, y_test = train_test_split(X_scaled, y_oneHot, test_size=0.1, random_state=123)\n",
        "\n",
        "# TO FIX: WE NEED A VALIDATION SET THAT IS NOT AFFECTED BY THE PREPROCESSING!\n",
        "# For now, I'm using the test set with a constraint on the indexes in the training function to use as a validation set, but we need a better solution.\n",
        "\n",
        "n_splits=10\n",
        "kf = KFold(n_splits=n_splits, shuffle=True)"
      ]
    },
    {
      "cell_type": "code",
      "execution_count": 91,
      "metadata": {
        "colab": {
          "base_uri": "https://localhost:8080/"
        },
        "id": "God_1B2t7IWJ",
        "outputId": "47794c1a-f3a9-4f06-d0be-4d3320b9b254"
      },
      "outputs": [
        {
          "output_type": "stream",
          "name": "stdout",
          "text": [
            "Undersampling data...\n",
            "Oversampling data...\n"
          ]
        }
      ],
      "source": [
        "# Preprocessing TRAIN DATA ONLY\n",
        "\n",
        "#X_scaled = pd.DataFrame(X_scaled, columns=X.columns) #why are we casting it to a DF?\n",
        "X_train = np.array(X_train) #undersampler and oversampler expects arrays\n",
        "y_train = np.array(y_train) #undersampler and oversampler expects arrays\n",
        "\n",
        "\n",
        "print(\"Undersampling data...\")\n",
        "undersample = InstanceHardnessThreshold(estimator=AdaBoostClassifier(),sampling_strategy={0:50000,5:50000})\n",
        "X_train, y_train = undersample.fit_resample(X_train, y_train)\n",
        "\n",
        "print(\"Oversampling data...\")\n",
        "oversample = SMOTE(sampling_strategy={1:50000,3:50000,2:50000,4:50000})\n",
        "X_train, y_train = oversample.fit_resample(X_train, y_train)"
      ]
    },
    {
      "cell_type": "code",
      "execution_count": 92,
      "metadata": {
        "id": "uy9HuXulU1gw"
      },
      "outputs": [],
      "source": [
        "# Recast into Dataframes (to fix: conventionally np.arrays are to be fed to the network, not DataFrames)\n",
        "\n",
        "X_train = pd.DataFrame(X_train, columns=X.columns)\n",
        "y_train = pd.DataFrame(y_train)\n",
        "\n",
        "X_test = pd.DataFrame(X_test, columns=X.columns)\n",
        "y_test = pd.DataFrame(y_test)"
      ]
    },
    {
      "cell_type": "code",
      "execution_count": 93,
      "metadata": {
        "colab": {
          "base_uri": "https://localhost:8080/",
          "height": 452
        },
        "id": "Hb14_Lg-pjbb",
        "outputId": "cb6db2e9-0e68-4f52-cf94-61a1c9aae652"
      },
      "outputs": [
        {
          "output_type": "display_data",
          "data": {
            "text/plain": [
              "<Figure size 640x480 with 1 Axes>"
            ],
            "image/png": "[encoded data removed]"
          },
          "metadata": {}
        }
      ],
      "source": [
        "y_arg = np.argmax(y_oneHot.values, axis=1)\n",
        "y_arg_processed = np.argmax(y_train.values, axis=1)\n",
        "_, count = np.unique(y_arg, return_counts=True)\n",
        "class_count = dict(zip(cat_names, count))\n",
        "_, count_processed = np.unique(y_arg_processed, return_counts=True)\n",
        "class_count_processed = dict(zip(cat_names, count_processed))\n",
        "\n",
        "fig, ax = plt.subplots()\n",
        "x = np.arange(len(cat_names))  # label locations\n",
        "width = 0.35  # width of the bars\n",
        "rects1 = ax.bar(x - width/2, count, width, label='Orginal')\n",
        "rects2 = ax.bar(x + width/2, count_processed, width, label='Preprocessed')\n",
        "\n",
        "# Add labels, title, and legend\n",
        "ax.set_ylabel('Examples')\n",
        "ax.set_ylabel('Contact type')\n",
        "ax.set_title('Number of contacts by bond type')\n",
        "ax.set_xticks(x)\n",
        "ax.set_xticklabels(cat_names)\n",
        "ax.legend()\n",
        "\n",
        "plt.show()"
      ]
    },
    {
      "cell_type": "code",
      "execution_count": 148,
      "metadata": {
        "colab": {
          "base_uri": "https://localhost:8080/"
        },
        "id": "u0Y845Xj7IWL",
        "outputId": "b1af84ee-79c1-4b95-a688-2965c4cc016b"
      },
      "outputs": [
        {
          "output_type": "execute_result",
          "data": {
            "text/plain": [
              "=================================================================\n",
              "Layer (type:depth-idx)                   Param #\n",
              "=================================================================\n",
              "ContactNet                               --\n",
              "├─ModuleList: 1-1                        --\n",
              "│    └─Linear: 2-1                       1,260\n",
              "│    └─Linear: 2-2                       3,660\n",
              "│    └─Linear: 2-3                       7,808\n",
              "│    └─Linear: 2-4                       16,512\n",
              "│    └─Linear: 2-5                       16,512\n",
              "│    └─Linear: 2-6                       33,024\n",
              "│    └─Linear: 2-7                       65,792\n",
              "│    └─Linear: 2-8                       65,792\n",
              "│    └─Linear: 2-9                       1,542\n",
              "=================================================================\n",
              "Total params: 211,902\n",
              "Trainable params: 211,902\n",
              "Non-trainable params: 0\n",
              "================================================================="
            ]
          },
          "metadata": {},
          "execution_count": 148
        }
      ],
      "source": [
        "class ContactNet(nn.Module):\n",
        "    def __init__(self, input_dim, num_classes, hidden_layers_dim=[]):\n",
        "        super().__init__()\n",
        "        self.layers = nn.ModuleList()\n",
        "        if len(hidden_layers_dim) == 0:\n",
        "            self.layers = self.layers.append(nn.Linear(input_dim, num_classes))\n",
        "        else:\n",
        "            for layer_idx in range(len(hidden_layers_dim)):\n",
        "                if layer_idx == 0:  # first layer, from input to hidden\n",
        "                    self.layers = self.layers.append(nn.Linear(input_dim, hidden_layers_dim[layer_idx]))\n",
        "                else:  # hidden layers, depending on the input\n",
        "                    self.layers = self.layers.append(nn.Linear(hidden_layers_dim[layer_idx-1], hidden_layers_dim[layer_idx]))\n",
        "            self.layers = self.layers.append(nn.Linear(hidden_layers_dim[-1], num_classes))  # final output layer\n",
        "        self.apply(self._init_weights)\n",
        "\n",
        "    def _init_weights(self, module):\n",
        "        if isinstance(module, nn.Linear):\n",
        "            module.weight.data.normal_(mean=0.0, std=.1)\n",
        "            if module.bias is not None:\n",
        "                module.bias.data.zero_()\n",
        "\n",
        "    def forward(self, x):\n",
        "        if not isinstance(x, torch.Tensor):\n",
        "            x = torch.Tensor(x)\n",
        "        if x.dtype != torch.float32:\n",
        "            x = x.float()\n",
        "        if len(self.layers) == 1:\n",
        "            return self.layers[0](x)\n",
        "        else:\n",
        "            for layer in self.layers[:-1]:\n",
        "                x = F.relu(layer(x))\n",
        "        return F.log_softmax(x, dim=1)#self.layers[-1](x)\n",
        "\n",
        "input_size = X.shape[1]  # The number of input features\n",
        "num_classes = y_oneHot.shape[1] # The number of output classes\n",
        "\n",
        "model = ContactNet(input_size, num_classes, [60, 60, 128, 128, 128, 256, 256, 256])\n",
        "\n",
        "# Criterion and optimizer\n",
        "criterion = nn.CrossEntropyLoss()\n",
        "\n",
        "lr = 1e-3\n",
        "optimizer = torch.optim.Adam(model.parameters(), lr=lr)\n",
        "\n",
        "summary(model)"
      ]
    },
    {
      "cell_type": "code",
      "execution_count": 150,
      "metadata": {
        "id": "Ik79A97A7IWM"
      },
      "outputs": [],
      "source": [
        "class EarlyStopping:\n",
        "    def __init__(self, tolerance):\n",
        "        self.tolerance = tolerance\n",
        "        self.counter = 0\n",
        "        self.best_val_loss= 0\n",
        "        self.early_stop = False\n",
        "\n",
        "    def __call__(self, val_loss):\n",
        "          if val_loss < self.best_val_loss:\n",
        "              self.best_val_loss = val_loss\n",
        "              self.counter = 0\n",
        "          else:\n",
        "              self.counter += 1\n",
        "              if self.counter >= self.tolerance:\n",
        "                  self.early_stop=True\n",
        "\n",
        "device = torch.device(\"cuda\" if torch.cuda.is_available() else \"cpu\")\n",
        "\n",
        "# TO DO: Cast all dataframes to np.arrays or torch.tensors\n",
        "\n",
        "def train(model, optimizer, num_epochs, l2_lambda):\n",
        "    early_stopping = EarlyStopping(tolerance=20) # slow to learn, so it has to be VERY tolerant\n",
        "\n",
        "    train_losses = []\n",
        "    val_losses = []\n",
        "    train_accuracies = []\n",
        "    val_accuracies = []\n",
        "\n",
        "    current_fold_counter=0\n",
        "\n",
        "    for train_index, val_index in kf.split(X_train): # temporarily discarding kfold to test on test set and have a baseline. Remember to reindent all under this\n",
        "\n",
        "      current_fold_counter += 1\n",
        "\n",
        "      early_stopping.early_stop = False\n",
        "      early_stopping.counter = 0\n",
        "\n",
        "      X_train_fold = X_train.values[train_index] #Recasted to a pd.DataFrame but ideally we should use np.ndarray everywhere\n",
        "      y_train_fold = y_train.values[train_index]\n",
        "\n",
        "\n",
        "      # Here I'm just trying to see if maybe I can reuse the entire test set with validation indexes from X_train without going out of bound.\n",
        "      # I don't even know if this makes sense but that's the only thing that I could think as of right now\n",
        "      val_index_adjusted = val_index[val_index < len(X_test)]\n",
        "      X_val_fold = X_test.values[val_index_adjusted]\n",
        "      y_val_fold = y_test.values[val_index_adjusted]\n",
        "\n",
        "      #X_val_fold = X_train.values[val_index]\n",
        "      #y_val_fold = y_train.values[val_index]\n",
        "\n",
        "\n",
        "      for epoch in range(num_epochs):\n",
        "          model.train()\n",
        "          out = model(torch.tensor(X_train_fold))\n",
        "          y_train_fold_labels = np.argmax(y_train_fold, axis=1)\n",
        "          loss = criterion(out, torch.tensor(y_train_fold_labels).long())\n",
        "\n",
        "          ############## L2 Regularization ################\n",
        "          parameters = torch.tensor([], device=device)\n",
        "          parameters = torch.cat([param.view(-1) for param in model.parameters()], dim=0)\n",
        "\n",
        "          l2_norm = torch.linalg.norm(parameters, 2).pow(2)\n",
        "          loss = loss + l2_norm * l2_lambda\n",
        "\n",
        "          #################################################\n",
        "\n",
        "          optimizer.zero_grad()\n",
        "          loss.backward()\n",
        "          optimizer.step()\n",
        "\n",
        "          with torch.no_grad():\n",
        "            val_outputs = model(X_val_fold)\n",
        "            y_val_fold_labels = np.argmax(y_val_fold, axis=1)\n",
        "            val_loss = criterion(val_outputs, torch.tensor(y_val_fold_labels).long())\n",
        "            _, val_preds = torch.max(val_outputs, 1)\n",
        "            val_accuracy = (val_preds == torch.tensor(y_val_fold_labels)).sum().item() / len(y_val_fold_labels)\n",
        "            train_preds = torch.argmax(out, 1)\n",
        "            train_accuracy = (train_preds == torch.tensor(y_train_fold_labels)).sum().item() / len(y_train_fold_labels)\n",
        "\n",
        "\n",
        "          print(f'Fold: {current_fold_counter}/{n_splits} - Epoch {epoch+1}/{num_epochs}')\n",
        "          print(f'Train Loss: {loss.item()} - Validation Loss: {val_loss.item()} - Train Accuracy: {train_accuracy} - Validation Accuracy: {val_accuracy}')\n",
        "\n",
        "          train_losses.append(loss.item())\n",
        "          val_losses.append(val_loss.item())\n",
        "          train_accuracies.append(train_accuracy)\n",
        "          val_accuracies.append(val_accuracy)\n",
        "\n",
        "          #early_stopping(val_loss.item())\n",
        "          #if early_stopping.early_stop:\n",
        "          #    print('Early stopping triggered...')\n",
        "          #    break\n",
        "\n",
        "      #if early_stopping.early_stop:\n",
        "      #    break\n",
        "\n",
        "    return train_losses, val_losses, train_accuracies, val_accuracies"
      ]
    },
    {
      "cell_type": "code",
      "execution_count": 151,
      "metadata": {
        "colab": {
          "base_uri": "https://localhost:8080/"
        },
        "id": "ywIQxX5ZhY8e",
        "outputId": "de2a0efd-66ff-416e-d17d-817e73e19e0f"
      },
      "outputs": [
        {
          "output_type": "stream",
          "name": "stdout",
          "text": [
            "Fold: 1/10 - Epoch 1/20\n",
            "Train Loss: 26.532135009765625 - Validation Loss: 5.470612049102783 - Train Accuracy: 0.0029538585678108666 - Validation Accuracy: 0.20066152149944874\n",
            "Fold: 1/10 - Epoch 2/20\n",
            "Train Loss: 26.170486450195312 - Validation Loss: 5.426048278808594 - Train Accuracy: 0.13357204352978894 - Validation Accuracy: 0.2855567805953694\n",
            "Fold: 1/10 - Epoch 3/20\n",
            "Train Loss: 25.812036514282227 - Validation Loss: 5.378032207489014 - Train Accuracy: 0.19987175931095846 - Validation Accuracy: 0.2681367144432194\n",
            "Fold: 1/10 - Epoch 4/20\n",
            "Train Loss: 25.454801559448242 - Validation Loss: 5.322123050689697 - Train Accuracy: 0.2184054206906986 - Validation Accuracy: 0.24961411245865492\n",
            "Fold: 1/10 - Epoch 5/20\n",
            "Train Loss: 25.09511375427246 - Validation Loss: 5.2538228034973145 - Train Accuracy: 0.2233369235923243 - Validation Accuracy: 0.2368246968026461\n",
            "Fold: 1/10 - Epoch 6/20\n",
            "Train Loss: 24.728919982910156 - Validation Loss: 5.168322563171387 - Train Accuracy: 0.2225084022867188 - Validation Accuracy: 0.21764057331863285\n",
            "Fold: 1/10 - Epoch 7/20\n",
            "Train Loss: 24.351890563964844 - Validation Loss: 5.060330867767334 - Train Accuracy: 0.21936362359196407 - Validation Accuracy: 0.20132304299889747\n",
            "Fold: 1/10 - Epoch 8/20\n",
            "Train Loss: 23.959278106689453 - Validation Loss: 4.923601150512695 - Train Accuracy: 0.21555602785272493 - Validation Accuracy: 0.18544652701212788\n",
            "Fold: 1/10 - Epoch 9/20\n",
            "Train Loss: 23.54520034790039 - Validation Loss: 4.751152515411377 - Train Accuracy: 0.21220591996484187 - Validation Accuracy: 0.17089305402425578\n",
            "Fold: 1/10 - Epoch 10/20\n",
            "Train Loss: 23.102832794189453 - Validation Loss: 4.5361104011535645 - Train Accuracy: 0.2101850484324737 - Validation Accuracy: 0.1627342888643881\n",
            "Fold: 1/10 - Epoch 11/20\n",
            "Train Loss: 22.6258487701416 - Validation Loss: 4.273138523101807 - Train Accuracy: 0.20836590382668776 - Validation Accuracy: 0.1528114663726571\n",
            "Fold: 1/10 - Epoch 12/20\n",
            "Train Loss: 22.110538482666016 - Validation Loss: 3.964966058731079 - Train Accuracy: 0.20619733936592904 - Validation Accuracy: 0.14840132304299888\n",
            "Fold: 1/10 - Epoch 13/20\n",
            "Train Loss: 21.564861297607422 - Validation Loss: 3.640045404434204 - Train Accuracy: 0.20507703447008857 - Validation Accuracy: 0.14906284454244764\n",
            "Fold: 1/10 - Epoch 14/20\n",
            "Train Loss: 21.028636932373047 - Validation Loss: 3.375514268875122 - Train Accuracy: 0.20516709113374135 - Validation Accuracy: 0.16361631753031974\n",
            "Fold: 1/10 - Epoch 15/20\n",
            "Train Loss: 20.593862533569336 - Validation Loss: 3.274873733520508 - Train Accuracy: 0.20895667554024994 - Validation Accuracy: 0.24211686879823593\n",
            "Fold: 1/10 - Epoch 16/20\n",
            "Train Loss: 20.339197158813477 - Validation Loss: 3.336203098297119 - Train Accuracy: 0.23407528016628062 - Validation Accuracy: 0.4088202866593164\n",
            "Fold: 1/10 - Epoch 17/20\n",
            "Train Loss: 20.177566528320312 - Validation Loss: 3.4572741985321045 - Train Accuracy: 0.28308051425957215 - Validation Accuracy: 0.39250275633958104\n",
            "Fold: 1/10 - Epoch 18/20\n",
            "Train Loss: 19.9886531829834 - Validation Loss: 3.5448055267333984 - Train Accuracy: 0.3572872051094549 - Validation Accuracy: 0.06372657111356118\n",
            "Fold: 1/10 - Epoch 19/20\n",
            "Train Loss: 19.738710403442383 - Validation Loss: 3.556042432785034 - Train Accuracy: 0.24793680183571504 - Validation Accuracy: 0.022050716648291068\n",
            "Fold: 1/10 - Epoch 20/20\n",
            "Train Loss: 19.42855453491211 - Validation Loss: 3.5106563568115234 - Train Accuracy: 0.3062574972172491 - Validation Accuracy: 0.017420066152149943\n",
            "Fold: 2/10 - Epoch 1/20\n",
            "Train Loss: 19.08361053466797 - Validation Loss: 3.5286011695861816 - Train Accuracy: 0.3281844936834256 - Validation Accuracy: 0.060222561640846606\n",
            "Fold: 2/10 - Epoch 2/20\n",
            "Train Loss: 18.74716567993164 - Validation Loss: 3.5038812160491943 - Train Accuracy: 0.3492685597778122 - Validation Accuracy: 0.20619681431376827\n",
            "Fold: 2/10 - Epoch 3/20\n",
            "Train Loss: 18.45159149169922 - Validation Loss: 3.522369861602783 - Train Accuracy: 0.3929748597817747 - Validation Accuracy: 0.34518874099934543\n",
            "Fold: 2/10 - Epoch 4/20\n",
            "Train Loss: 18.204612731933594 - Validation Loss: 3.5689971446990967 - Train Accuracy: 0.4015158337626034 - Validation Accuracy: 0.41893955924067205\n",
            "Fold: 2/10 - Epoch 5/20\n",
            "Train Loss: 17.991344451904297 - Validation Loss: 3.6228742599487305 - Train Accuracy: 0.37603340021541554 - Validation Accuracy: 0.4182849661793585\n",
            "Fold: 2/10 - Epoch 6/20\n",
            "Train Loss: 17.78995132446289 - Validation Loss: 3.6681745052337646 - Train Accuracy: 0.4020741850772506 - Validation Accuracy: 0.3844643246781584\n",
            "Fold: 2/10 - Epoch 7/20\n",
            "Train Loss: 17.584882736206055 - Validation Loss: 3.6974711418151855 - Train Accuracy: 0.4254168722960487 - Validation Accuracy: 0.3478071132445996\n",
            "Fold: 2/10 - Epoch 8/20\n",
            "Train Loss: 17.369213104248047 - Validation Loss: 3.708646535873413 - Train Accuracy: 0.4172289204367388 - Validation Accuracy: 0.31704123936286277\n",
            "Fold: 2/10 - Epoch 9/20\n",
            "Train Loss: 17.14368438720703 - Validation Loss: 3.7033586502075195 - Train Accuracy: 0.40421393140564044 - Validation Accuracy: 0.3035129827623827\n",
            "Fold: 2/10 - Epoch 10/20\n",
            "Train Loss: 16.913127899169922 - Validation Loss: 3.6834795475006104 - Train Accuracy: 0.3995742120942497 - Validation Accuracy: 0.30787693650447306\n",
            "Fold: 2/10 - Epoch 11/20\n",
            "Train Loss: 16.682632446289062 - Validation Loss: 3.650400400161743 - Train Accuracy: 0.4061411440078097 - Validation Accuracy: 0.3323150774601789\n",
            "Fold: 2/10 - Epoch 12/20\n",
            "Train Loss: 16.45492172241211 - Validation Loss: 3.6052143573760986 - Train Accuracy: 0.41724693176946936 - Validation Accuracy: 0.3790093825005455\n",
            "Fold: 2/10 - Epoch 13/20\n",
            "Train Loss: 16.23222541809082 - Validation Loss: 3.5497074127197266 - Train Accuracy: 0.4275854367568074 - Validation Accuracy: 0.4261400829151211\n",
            "Fold: 2/10 - Epoch 14/20\n",
            "Train Loss: 16.015913009643555 - Validation Loss: 3.4882214069366455 - Train Accuracy: 0.42988008054668 - Validation Accuracy: 0.46716124809077025\n",
            "Fold: 2/10 - Epoch 15/20\n",
            "Train Loss: 15.808526992797852 - Validation Loss: 3.4275426864624023 - Train Accuracy: 0.4984744401177221 - Validation Accuracy: 0.47894392319441415\n",
            "Fold: 2/10 - Epoch 16/20\n",
            "Train Loss: 15.610912322998047 - Validation Loss: 3.374526262283325 - Train Accuracy: 0.52356782887793 - Validation Accuracy: 0.4809077023783548\n",
            "Fold: 2/10 - Epoch 17/20\n",
            "Train Loss: 15.419057846069336 - Validation Loss: 3.3326640129089355 - Train Accuracy: 0.4653371901600487 - Validation Accuracy: 0.4885446214270129\n",
            "Fold: 2/10 - Epoch 18/20\n",
            "Train Loss: 15.224842071533203 - Validation Loss: 3.3015289306640625 - Train Accuracy: 0.4553445027611373 - Validation Accuracy: 0.4981453196596116\n",
            "Fold: 2/10 - Epoch 19/20\n",
            "Train Loss: 15.024707794189453 - Validation Loss: 3.27797532081604 - Train Accuracy: 0.4608055388450413 - Validation Accuracy: 0.5062186340824787\n",
            "Fold: 2/10 - Epoch 20/20\n",
            "Train Loss: 14.821455955505371 - Validation Loss: 3.257542610168457 - Train Accuracy: 0.49913005262911425 - Validation Accuracy: 0.5153829369408685\n",
            "Fold: 3/10 - Epoch 1/20\n",
            "Train Loss: 14.623077392578125 - Validation Loss: 3.1502511501312256 - Train Accuracy: 0.5414530822793702 - Validation Accuracy: 0.5329960404751429\n",
            "Fold: 3/10 - Epoch 2/20\n",
            "Train Loss: 14.426114082336426 - Validation Loss: 3.125910758972168 - Train Accuracy: 0.5641077365878611 - Validation Accuracy: 0.5391553013638364\n",
            "Fold: 3/10 - Epoch 3/20\n",
            "Train Loss: 14.234458923339844 - Validation Loss: 3.096815347671509 - Train Accuracy: 0.5769894417567534 - Validation Accuracy: 0.545754509458865\n",
            "Fold: 3/10 - Epoch 4/20\n",
            "Train Loss: 14.047937393188477 - Validation Loss: 3.0666306018829346 - Train Accuracy: 0.5860383353205837 - Validation Accuracy: 0.5505939287285526\n",
            "Fold: 3/10 - Epoch 5/20\n",
            "Train Loss: 13.865826606750488 - Validation Loss: 3.0403034687042236 - Train Accuracy: 0.5885130924377618 - Validation Accuracy: 0.5519137703475583\n",
            "Fold: 3/10 - Epoch 6/20\n",
            "Train Loss: 13.688077926635742 - Validation Loss: 3.0213162899017334 - Train Accuracy: 0.5850873369524104 - Validation Accuracy: 0.5519137703475583\n",
            "Fold: 3/10 - Epoch 7/20\n",
            "Train Loss: 13.514673233032227 - Validation Loss: 3.0110509395599365 - Train Accuracy: 0.5791219835520509 - Validation Accuracy: 0.5494940607127144\n",
            "Fold: 3/10 - Epoch 8/20\n",
            "Train Loss: 13.344818115234375 - Validation Loss: 3.0088632106781006 - Train Accuracy: 0.5752495470149819 - Validation Accuracy: 0.5426748790145183\n",
            "Fold: 3/10 - Epoch 9/20\n",
            "Train Loss: 13.177472114562988 - Validation Loss: 3.012223482131958 - Train Accuracy: 0.5767805102970789 - Validation Accuracy: 0.5360756709194897\n",
            "Fold: 3/10 - Epoch 10/20\n",
            "Train Loss: 13.012722969055176 - Validation Loss: 3.017390727996826 - Train Accuracy: 0.582763875030169 - Validation Accuracy: 0.5334359876814783\n",
            "Fold: 3/10 - Epoch 11/20\n",
            "Train Loss: 12.851574897766113 - Validation Loss: 3.0202670097351074 - Train Accuracy: 0.5908401566265494 - Validation Accuracy: 0.531236251649802\n",
            "Fold: 3/10 - Epoch 12/20\n",
            "Train Loss: 12.694841384887695 - Validation Loss: 3.0170347690582275 - Train Accuracy: 0.5994315623390237 - Validation Accuracy: 0.5321161460624725\n",
            "Fold: 3/10 - Epoch 13/20\n",
            "Train Loss: 12.5420503616333 - Validation Loss: 3.005263566970825 - Train Accuracy: 0.6067333566279903 - Validation Accuracy: 0.5369555653321602\n",
            "Fold: 3/10 - Epoch 14/20\n",
            "Train Loss: 12.391557693481445 - Validation Loss: 2.9858522415161133 - Train Accuracy: 0.6118197569910988 - Validation Accuracy: 0.5400351957765068\n",
            "Fold: 3/10 - Epoch 15/20\n",
            "Train Loss: 12.242481231689453 - Validation Loss: 2.9630370140075684 - Train Accuracy: 0.6150942172815135 - Validation Accuracy: 0.5490541135063792\n",
            "Fold: 3/10 - Epoch 16/20\n",
            "Train Loss: 12.09548568725586 - Validation Loss: 2.943113327026367 - Train Accuracy: 0.6174212814703011 - Validation Accuracy: 0.5554333479982402\n",
            "Fold: 3/10 - Epoch 17/20\n",
            "Train Loss: 11.951739311218262 - Validation Loss: 2.9319798946380615 - Train Accuracy: 0.618977460618221 - Validation Accuracy: 0.5631324241091069\n",
            "Fold: 3/10 - Epoch 18/20\n",
            "Train Loss: 11.811554908752441 - Validation Loss: 2.93215274810791 - Train Accuracy: 0.6212937180073702 - Validation Accuracy: 0.567091948966124\n",
            "Fold: 3/10 - Epoch 19/20\n",
            "Train Loss: 11.674357414245605 - Validation Loss: 2.9409053325653076 - Train Accuracy: 0.6229579651516735 - Validation Accuracy: 0.5673119225692916\n",
            "Fold: 3/10 - Epoch 20/20\n",
            "Train Loss: 11.539382934570312 - Validation Loss: 2.9513537883758545 - Train Accuracy: 0.6244853261672244 - Validation Accuracy: 0.567751869775627\n",
            "Fold: 4/10 - Epoch 1/20\n",
            "Train Loss: 11.40121078491211 - Validation Loss: 3.0118937492370605 - Train Accuracy: 0.6266971178265365 - Validation Accuracy: 0.5587583148558758\n",
            "Fold: 4/10 - Epoch 2/20\n",
            "Train Loss: 11.270748138427734 - Validation Loss: 3.005098819732666 - Train Accuracy: 0.6275148323325036 - Validation Accuracy: 0.5587583148558758\n",
            "Fold: 4/10 - Epoch 3/20\n",
            "Train Loss: 11.142608642578125 - Validation Loss: 2.986315965652466 - Train Accuracy: 0.6281524335111652 - Validation Accuracy: 0.5611973392461197\n",
            "Fold: 4/10 - Epoch 4/20\n",
            "Train Loss: 11.016739845275879 - Validation Loss: 2.961109161376953 - Train Accuracy: 0.628988159349863 - Validation Accuracy: 0.5651884700665188\n",
            "Fold: 4/10 - Epoch 5/20\n",
            "Train Loss: 10.893284797668457 - Validation Loss: 2.938333749771118 - Train Accuracy: 0.6298599078540218 - Validation Accuracy: 0.5685144124168514\n",
            "Fold: 4/10 - Epoch 6/20\n",
            "Train Loss: 10.772201538085938 - Validation Loss: 2.9259889125823975 - Train Accuracy: 0.6304074523690306 - Validation Accuracy: 0.5711751662971175\n",
            "Fold: 4/10 - Epoch 7/20\n",
            "Train Loss: 10.653192520141602 - Validation Loss: 2.9267282485961914 - Train Accuracy: 0.6309045651523939 - Validation Accuracy: 0.5707317073170731\n",
            "Fold: 4/10 - Epoch 8/20\n",
            "Train Loss: 10.535908699035645 - Validation Loss: 2.936807155609131 - Train Accuracy: 0.6312792008731894 - Validation Accuracy: 0.5687361419068736\n",
            "Fold: 4/10 - Epoch 9/20\n",
            "Train Loss: 10.420530319213867 - Validation Loss: 2.9485080242156982 - Train Accuracy: 0.6315529731306938 - Validation Accuracy: 0.5669623059866963\n",
            "Fold: 4/10 - Epoch 10/20\n",
            "Train Loss: 10.307280540466309 - Validation Loss: 2.9545018672943115 - Train Accuracy: 0.6319816428496811 - Validation Accuracy: 0.5662971175166297\n",
            "Fold: 4/10 - Epoch 11/20\n",
            "Train Loss: 10.19604206085205 - Validation Loss: 2.9514975547790527 - Train Accuracy: 0.6324067103021221 - Validation Accuracy: 0.5669623059866963\n",
            "Fold: 4/10 - Epoch 12/20\n",
            "Train Loss: 10.086553573608398 - Validation Loss: 2.9411427974700928 - Train Accuracy: 0.632792152822556 - Validation Accuracy: 0.5700665188470067\n",
            "Fold: 4/10 - Epoch 13/20\n",
            "Train Loss: 9.978713989257812 - Validation Loss: 2.928391933441162 - Train Accuracy: 0.6331271636113442 - Validation Accuracy: 0.5742793791574279\n",
            "Fold: 4/10 - Epoch 14/20\n",
            "Train Loss: 9.872594833374023 - Validation Loss: 2.9185683727264404 - Train Accuracy: 0.6333036746721037 - Validation Accuracy: 0.5778270509977828\n",
            "Fold: 4/10 - Epoch 15/20\n",
            "Train Loss: 9.768132209777832 - Validation Loss: 2.9146888256073 - Train Accuracy: 0.6335918559957926 - Validation Accuracy: 0.5791574279379157\n",
            "Fold: 4/10 - Epoch 16/20\n",
            "Train Loss: 9.665260314941406 - Validation Loss: 2.916274070739746 - Train Accuracy: 0.633898048652212 - Validation Accuracy: 0.5787139689578714\n",
            "Fold: 4/10 - Epoch 17/20\n",
            "Train Loss: 9.563915252685547 - Validation Loss: 2.920062303543091 - Train Accuracy: 0.6342798889060998 - Validation Accuracy: 0.5787139689578714\n",
            "Fold: 4/10 - Epoch 18/20\n",
            "Train Loss: 9.464190483093262 - Validation Loss: 2.922156572341919 - Train Accuracy: 0.6344275818344902 - Validation Accuracy: 0.5793791574279379\n",
            "Fold: 4/10 - Epoch 19/20\n",
            "Train Loss: 9.366026878356934 - Validation Loss: 2.920513868331909 - Train Accuracy: 0.634582479295973 - Validation Accuracy: 0.5802660753880267\n",
            "Fold: 4/10 - Epoch 20/20\n",
            "Train Loss: 9.26934814453125 - Validation Loss: 2.9161548614501953 - Train Accuracy: 0.6347013540919947 - Validation Accuracy: 0.5818181818181818\n",
            "Fold: 5/10 - Epoch 1/20\n",
            "Train Loss: 9.175045013427734 - Validation Loss: 2.983476161956787 - Train Accuracy: 0.6347373767574558 - Validation Accuracy: 0.5666666666666667\n",
            "Fold: 5/10 - Epoch 2/20\n",
            "Train Loss: 9.081499099731445 - Validation Loss: 2.9823434352874756 - Train Accuracy: 0.6348814674193002 - Validation Accuracy: 0.5675555555555556\n",
            "Fold: 5/10 - Epoch 3/20\n",
            "Train Loss: 8.989436149597168 - Validation Loss: 2.985973358154297 - Train Accuracy: 0.6350976034120669 - Validation Accuracy: 0.5677777777777778\n",
            "Fold: 5/10 - Epoch 4/20\n",
            "Train Loss: 8.898738861083984 - Validation Loss: 2.9919347763061523 - Train Accuracy: 0.6352056714084502 - Validation Accuracy: 0.5673333333333334\n",
            "Fold: 5/10 - Epoch 5/20\n",
            "Train Loss: 8.809471130371094 - Validation Loss: 2.9961137771606445 - Train Accuracy: 0.635364171136479 - Validation Accuracy: 0.5675555555555556\n",
            "Fold: 5/10 - Epoch 6/20\n",
            "Train Loss: 8.721625328063965 - Validation Loss: 2.9957261085510254 - Train Accuracy: 0.6354974549986852 - Validation Accuracy: 0.5686666666666667\n",
            "Fold: 5/10 - Epoch 7/20\n",
            "Train Loss: 8.635110855102539 - Validation Loss: 2.991144895553589 - Train Accuracy: 0.6356739660594446 - Validation Accuracy: 0.5691111111111111\n",
            "Fold: 5/10 - Epoch 8/20\n",
            "Train Loss: 8.549915313720703 - Validation Loss: 2.985506772994995 - Train Accuracy: 0.6357243977910901 - Validation Accuracy: 0.5708888888888889\n",
            "Fold: 5/10 - Epoch 9/20\n",
            "Train Loss: 8.466022491455078 - Validation Loss: 2.9824399948120117 - Train Accuracy: 0.6358864997856651 - Validation Accuracy: 0.5711111111111111\n",
            "Fold: 5/10 - Epoch 10/20\n",
            "Train Loss: 8.383399963378906 - Validation Loss: 2.983642816543579 - Train Accuracy: 0.6361062380449779 - Validation Accuracy: 0.5713333333333334\n",
            "Fold: 5/10 - Epoch 11/20\n",
            "Train Loss: 8.302000045776367 - Validation Loss: 2.9879279136657715 - Train Accuracy: 0.6362791468391912 - Validation Accuracy: 0.5708888888888889\n",
            "Fold: 5/10 - Epoch 12/20\n",
            "Train Loss: 8.221884727478027 - Validation Loss: 2.9924190044403076 - Train Accuracy: 0.6364988850985039 - Validation Accuracy: 0.5702222222222222\n",
            "Fold: 5/10 - Epoch 13/20\n",
            "Train Loss: 8.142979621887207 - Validation Loss: 2.994833469390869 - Train Accuracy: 0.636660987093079 - Validation Accuracy: 0.5708888888888889\n",
            "Fold: 5/10 - Epoch 14/20\n",
            "Train Loss: 8.06525707244873 - Validation Loss: 2.9948253631591797 - Train Accuracy: 0.6368374981538384 - Validation Accuracy: 0.5715555555555556\n",
            "Fold: 5/10 - Epoch 15/20\n",
            "Train Loss: 7.988687515258789 - Validation Loss: 2.9937796592712402 - Train Accuracy: 0.6369959978818672 - Validation Accuracy: 0.572\n",
            "Fold: 5/10 - Epoch 16/20\n",
            "Train Loss: 7.9132890701293945 - Validation Loss: 2.9935286045074463 - Train Accuracy: 0.6371256794775273 - Validation Accuracy: 0.5731111111111111\n",
            "Fold: 5/10 - Epoch 17/20\n",
            "Train Loss: 7.839024543762207 - Validation Loss: 2.9949963092803955 - Train Accuracy: 0.6372733724059177 - Validation Accuracy: 0.5735555555555556\n",
            "Fold: 5/10 - Epoch 18/20\n",
            "Train Loss: 7.765896320343018 - Validation Loss: 2.9977831840515137 - Train Accuracy: 0.6373490200033861 - Validation Accuracy: 0.5733333333333334\n",
            "Fold: 5/10 - Epoch 19/20\n",
            "Train Loss: 7.693857192993164 - Validation Loss: 3.0007383823394775 - Train Accuracy: 0.6374823038655922 - Validation Accuracy: 0.5733333333333334\n",
            "Fold: 5/10 - Epoch 20/20\n",
            "Train Loss: 7.622869491577148 - Validation Loss: 3.0028700828552246 - Train Accuracy: 0.6375687582626989 - Validation Accuracy: 0.5731111111111111\n",
            "Fold: 6/10 - Epoch 1/20\n",
            "Train Loss: 7.554922103881836 - Validation Loss: 2.968139410018921 - Train Accuracy: 0.637309395071379 - Validation Accuracy: 0.5788308237378211\n",
            "Fold: 6/10 - Epoch 2/20\n",
            "Train Loss: 7.486027717590332 - Validation Loss: 2.969087839126587 - Train Accuracy: 0.6373994517350317 - Validation Accuracy: 0.5788308237378211\n",
            "Fold: 6/10 - Epoch 3/20\n",
            "Train Loss: 7.418158531188965 - Validation Loss: 2.969484567642212 - Train Accuracy: 0.6374787015990461 - Validation Accuracy: 0.579273693534101\n",
            "Fold: 6/10 - Epoch 4/20\n",
            "Train Loss: 7.351293563842773 - Validation Loss: 2.9696929454803467 - Train Accuracy: 0.6375975763950678 - Validation Accuracy: 0.5797165633303809\n",
            "Fold: 6/10 - Epoch 5/20\n",
            "Train Loss: 7.285420894622803 - Validation Loss: 2.9703400135040283 - Train Accuracy: 0.6377092466579972 - Validation Accuracy: 0.5797165633303809\n",
            "Fold: 6/10 - Epoch 6/20\n",
            "Train Loss: 7.220516204833984 - Validation Loss: 2.9718985557556152 - Train Accuracy: 0.6377308602572739 - Validation Accuracy: 0.5799379982285208\n",
            "Fold: 6/10 - Epoch 7/20\n",
            "Train Loss: 7.156579494476318 - Validation Loss: 2.974266290664673 - Train Accuracy: 0.6378353259871111 - Validation Accuracy: 0.5801594331266607\n",
            "Fold: 6/10 - Epoch 8/20\n",
            "Train Loss: 7.093584060668945 - Validation Loss: 2.9766459465026855 - Train Accuracy: 0.6378929622518489 - Validation Accuracy: 0.5797165633303809\n",
            "Fold: 6/10 - Epoch 9/20\n",
            "Train Loss: 7.031520843505859 - Validation Loss: 2.978161573410034 - Train Accuracy: 0.6379758143824095 - Validation Accuracy: 0.5799379982285208\n",
            "Fold: 6/10 - Epoch 10/20\n",
            "Train Loss: 6.970386505126953 - Validation Loss: 2.9786860942840576 - Train Accuracy: 0.6381271095773461 - Validation Accuracy: 0.5806023029229407\n",
            "Fold: 6/10 - Epoch 11/20\n",
            "Train Loss: 6.9101433753967285 - Validation Loss: 2.979008197784424 - Train Accuracy: 0.6381955526417221 - Validation Accuracy: 0.5801594331266607\n",
            "Fold: 6/10 - Epoch 12/20\n",
            "Train Loss: 6.850791931152344 - Validation Loss: 2.9801504611968994 - Train Accuracy: 0.6382459843733678 - Validation Accuracy: 0.5801594331266607\n",
            "Fold: 6/10 - Epoch 13/20\n",
            "Train Loss: 6.792303562164307 - Validation Loss: 2.982412099838257 - Train Accuracy: 0.638321631970836 - Validation Accuracy: 0.5801594331266607\n",
            "Fold: 6/10 - Epoch 14/20\n",
            "Train Loss: 6.734670639038086 - Validation Loss: 2.984976053237915 - Train Accuracy: 0.6383900750352122 - Validation Accuracy: 0.5801594331266607\n",
            "Fold: 6/10 - Epoch 15/20\n",
            "Train Loss: 6.6778788566589355 - Validation Loss: 2.9866530895233154 - Train Accuracy: 0.6384477112999499 - Validation Accuracy: 0.5797165633303809\n",
            "Fold: 6/10 - Epoch 16/20\n",
            "Train Loss: 6.621917247772217 - Validation Loss: 2.987060785293579 - Train Accuracy: 0.6384909384985032 - Validation Accuracy: 0.5794951284322409\n",
            "Fold: 6/10 - Epoch 17/20\n",
            "Train Loss: 6.566781997680664 - Validation Loss: 2.987003803253174 - Train Accuracy: 0.6385629838294254 - Validation Accuracy: 0.5797165633303809\n",
            "Fold: 6/10 - Epoch 18/20\n",
            "Train Loss: 6.512451648712158 - Validation Loss: 2.9877381324768066 - Train Accuracy: 0.6386350291603476 - Validation Accuracy: 0.5797165633303809\n",
            "Fold: 6/10 - Epoch 19/20\n",
            "Train Loss: 6.458915710449219 - Validation Loss: 2.9897875785827637 - Train Accuracy: 0.6387178812909082 - Validation Accuracy: 0.5797165633303809\n",
            "Fold: 6/10 - Epoch 20/20\n",
            "Train Loss: 6.40615177154541 - Validation Loss: 2.9924871921539307 - Train Accuracy: 0.6387575062229155 - Validation Accuracy: 0.5797165633303809\n",
            "Fold: 7/10 - Epoch 1/20\n",
            "Train Loss: 6.358440399169922 - Validation Loss: 2.9815473556518555 - Train Accuracy: 0.6379469962500405 - Validation Accuracy: 0.5825389948006933\n",
            "Fold: 7/10 - Epoch 2/20\n",
            "Train Loss: 6.307196617126465 - Validation Loss: 2.982908248901367 - Train Accuracy: 0.6379722121158633 - Validation Accuracy: 0.5827556325823223\n",
            "Fold: 7/10 - Epoch 3/20\n",
            "Train Loss: 6.256697177886963 - Validation Loss: 2.9835100173950195 - Train Accuracy: 0.6379902234485939 - Validation Accuracy: 0.5829722703639515\n",
            "Fold: 7/10 - Epoch 4/20\n",
            "Train Loss: 6.206947326660156 - Validation Loss: 2.984135627746582 - Train Accuracy: 0.6380226438475088 - Validation Accuracy: 0.5829722703639515\n",
            "Fold: 7/10 - Epoch 5/20\n",
            "Train Loss: 6.1579155921936035 - Validation Loss: 2.9852523803710938 - Train Accuracy: 0.6380586665129699 - Validation Accuracy: 0.5829722703639515\n",
            "Fold: 7/10 - Epoch 6/20\n",
            "Train Loss: 6.109593391418457 - Validation Loss: 2.9867703914642334 - Train Accuracy: 0.6381163027777077 - Validation Accuracy: 0.5825389948006933\n",
            "Fold: 7/10 - Epoch 7/20\n",
            "Train Loss: 6.061977386474609 - Validation Loss: 2.9883713722229004 - Train Accuracy: 0.6381163027777077 - Validation Accuracy: 0.5825389948006933\n",
            "Fold: 7/10 - Epoch 8/20\n",
            "Train Loss: 6.015045642852783 - Validation Loss: 2.989875078201294 - Train Accuracy: 0.6381343141104383 - Validation Accuracy: 0.5825389948006933\n",
            "Fold: 7/10 - Epoch 9/20\n",
            "Train Loss: 5.968789577484131 - Validation Loss: 2.9912586212158203 - Train Accuracy: 0.638155927709715 - Validation Accuracy: 0.5818890814558059\n",
            "Fold: 7/10 - Epoch 10/20\n",
            "Train Loss: 5.923207759857178 - Validation Loss: 2.9925074577331543 - Train Accuracy: 0.6381811435755377 - Validation Accuracy: 0.5818890814558059\n",
            "Fold: 7/10 - Epoch 11/20\n",
            "Train Loss: 5.878285884857178 - Validation Loss: 2.993626117706299 - Train Accuracy: 0.6382099617079067 - Validation Accuracy: 0.5823223570190641\n",
            "Fold: 7/10 - Epoch 12/20\n",
            "Train Loss: 5.834009170532227 - Validation Loss: 2.994746208190918 - Train Accuracy: 0.6382856093053749 - Validation Accuracy: 0.5823223570190641\n",
            "Fold: 7/10 - Epoch 13/20\n",
            "Train Loss: 5.790374755859375 - Validation Loss: 2.996079444885254 - Train Accuracy: 0.6383396433035666 - Validation Accuracy: 0.5823223570190641\n",
            "Fold: 7/10 - Epoch 14/20\n",
            "Train Loss: 5.747359275817871 - Validation Loss: 2.9975857734680176 - Train Accuracy: 0.6383720637024816 - Validation Accuracy: 0.5823223570190641\n",
            "Fold: 7/10 - Epoch 15/20\n",
            "Train Loss: 5.704969882965088 - Validation Loss: 2.998990535736084 - Train Accuracy: 0.6384296999672193 - Validation Accuracy: 0.5823223570190641\n",
            "Fold: 7/10 - Epoch 16/20\n",
            "Train Loss: 5.663190841674805 - Validation Loss: 3.0000224113464355 - Train Accuracy: 0.638480131698865 - Validation Accuracy: 0.5823223570190641\n",
            "Fold: 7/10 - Epoch 17/20\n",
            "Train Loss: 5.622014045715332 - Validation Loss: 3.000783681869507 - Train Accuracy: 0.6385305634305105 - Validation Accuracy: 0.5825389948006933\n",
            "Fold: 7/10 - Epoch 18/20\n",
            "Train Loss: 5.581429958343506 - Validation Loss: 3.001776695251465 - Train Accuracy: 0.6385773928956099 - Validation Accuracy: 0.5827556325823223\n",
            "Fold: 7/10 - Epoch 19/20\n",
            "Train Loss: 5.541433334350586 - Validation Loss: 3.0033648014068604 - Train Accuracy: 0.638580995162156 - Validation Accuracy: 0.5827556325823223\n",
            "Fold: 7/10 - Epoch 20/20\n",
            "Train Loss: 5.502008438110352 - Validation Loss: 3.0052998065948486 - Train Accuracy: 0.6386062110279788 - Validation Accuracy: 0.5827556325823223\n",
            "Fold: 8/10 - Epoch 1/20\n",
            "Train Loss: 5.46002197265625 - Validation Loss: 3.0134494304656982 - Train Accuracy: 0.6394059142012154 - Validation Accuracy: 0.5879559680552557\n",
            "Fold: 8/10 - Epoch 2/20\n",
            "Train Loss: 5.421713829040527 - Validation Loss: 3.0140061378479004 - Train Accuracy: 0.6394419368666765 - Validation Accuracy: 0.5879559680552557\n",
            "Fold: 8/10 - Epoch 3/20\n",
            "Train Loss: 5.3839521408081055 - Validation Loss: 3.014845848083496 - Train Accuracy: 0.6394527436663149 - Validation Accuracy: 0.588171810921649\n",
            "Fold: 8/10 - Epoch 4/20\n",
            "Train Loss: 5.346732139587402 - Validation Loss: 3.0163991451263428 - Train Accuracy: 0.6394815617986838 - Validation Accuracy: 0.588171810921649\n",
            "Fold: 8/10 - Epoch 5/20\n",
            "Train Loss: 5.310037612915039 - Validation Loss: 3.0182266235351562 - Train Accuracy: 0.6395103799310526 - Validation Accuracy: 0.5879559680552557\n",
            "Fold: 8/10 - Epoch 6/20\n",
            "Train Loss: 5.273877143859863 - Validation Loss: 3.019592046737671 - Train Accuracy: 0.6395752207288826 - Validation Accuracy: 0.5879559680552557\n",
            "Fold: 8/10 - Epoch 7/20\n",
            "Train Loss: 5.238219261169434 - Validation Loss: 3.020280599594116 - Train Accuracy: 0.6396076411277976 - Validation Accuracy: 0.5879559680552557\n",
            "Fold: 8/10 - Epoch 8/20\n",
            "Train Loss: 5.203073978424072 - Validation Loss: 3.0208120346069336 - Train Accuracy: 0.6396148456608899 - Validation Accuracy: 0.5886034966544356\n",
            "Fold: 8/10 - Epoch 9/20\n",
            "Train Loss: 5.16843318939209 - Validation Loss: 3.0218489170074463 - Train Accuracy: 0.6396400615267126 - Validation Accuracy: 0.5883876537880423\n",
            "Fold: 8/10 - Epoch 10/20\n",
            "Train Loss: 5.134284019470215 - Validation Loss: 3.023487091064453 - Train Accuracy: 0.6396616751259893 - Validation Accuracy: 0.5879559680552557\n",
            "Fold: 8/10 - Epoch 11/20\n",
            "Train Loss: 5.100621223449707 - Validation Loss: 3.02522873878479 - Train Accuracy: 0.6397121068576348 - Validation Accuracy: 0.5877401251888625\n",
            "Fold: 8/10 - Epoch 12/20\n",
            "Train Loss: 5.067434310913086 - Validation Loss: 3.026550769805908 - Train Accuracy: 0.6397409249900037 - Validation Accuracy: 0.588171810921649\n",
            "Fold: 8/10 - Epoch 13/20\n",
            "Train Loss: 5.034721374511719 - Validation Loss: 3.027442693710327 - Train Accuracy: 0.6397373227234576 - Validation Accuracy: 0.5879559680552557\n",
            "Fold: 8/10 - Epoch 14/20\n",
            "Train Loss: 5.002478122711182 - Validation Loss: 3.0282959938049316 - Train Accuracy: 0.6397337204569115 - Validation Accuracy: 0.5879559680552557\n",
            "Fold: 8/10 - Epoch 15/20\n",
            "Train Loss: 4.970685005187988 - Validation Loss: 3.0294840335845947 - Train Accuracy: 0.6397445272565498 - Validation Accuracy: 0.588171810921649\n",
            "Fold: 8/10 - Epoch 16/20\n",
            "Train Loss: 4.939340591430664 - Validation Loss: 3.0309908390045166 - Train Accuracy: 0.6397553340561881 - Validation Accuracy: 0.588171810921649\n",
            "Fold: 8/10 - Epoch 17/20\n",
            "Train Loss: 4.908445358276367 - Validation Loss: 3.0324547290802 - Train Accuracy: 0.6397625385892803 - Validation Accuracy: 0.5883876537880423\n",
            "Fold: 8/10 - Epoch 18/20\n",
            "Train Loss: 4.877991199493408 - Validation Loss: 3.0335772037506104 - Train Accuracy: 0.6397769476554648 - Validation Accuracy: 0.5883876537880423\n",
            "Fold: 8/10 - Epoch 19/20\n",
            "Train Loss: 4.847973823547363 - Validation Loss: 3.0344552993774414 - Train Accuracy: 0.6397805499220109 - Validation Accuracy: 0.588171810921649\n",
            "Fold: 8/10 - Epoch 20/20\n",
            "Train Loss: 4.818375110626221 - Validation Loss: 3.035395860671997 - Train Accuracy: 0.6397985612547414 - Validation Accuracy: 0.5877401251888625\n",
            "Fold: 9/10 - Epoch 1/20\n",
            "Train Loss: 4.790410041809082 - Validation Loss: 3.0686309337615967 - Train Accuracy: 0.6394396334346767 - Validation Accuracy: 0.5771960958296362\n",
            "Fold: 9/10 - Epoch 2/20\n",
            "Train Loss: 4.761646270751953 - Validation Loss: 3.070218801498413 - Train Accuracy: 0.6394648492096656 - Validation Accuracy: 0.5771960958296362\n",
            "Fold: 9/10 - Epoch 3/20\n",
            "Train Loss: 4.733288764953613 - Validation Loss: 3.07141375541687 - Train Accuracy: 0.639475655970375 - Validation Accuracy: 0.5771960958296362\n",
            "Fold: 9/10 - Epoch 4/20\n",
            "Train Loss: 4.705329418182373 - Validation Loss: 3.0722029209136963 - Train Accuracy: 0.6395044739989337 - Validation Accuracy: 0.5774179236912156\n",
            "Fold: 9/10 - Epoch 5/20\n",
            "Train Loss: 4.677769660949707 - Validation Loss: 3.073070526123047 - Train Accuracy: 0.6395368942810622 - Validation Accuracy: 0.5771960958296362\n",
            "Fold: 9/10 - Epoch 6/20\n",
            "Train Loss: 4.65059757232666 - Validation Loss: 3.0744099617004395 - Train Accuracy: 0.6395585078024812 - Validation Accuracy: 0.5767524401064774\n",
            "Fold: 9/10 - Epoch 7/20\n",
            "Train Loss: 4.623808860778809 - Validation Loss: 3.076075553894043 - Train Accuracy: 0.6395657123096209 - Validation Accuracy: 0.5767524401064774\n",
            "Fold: 9/10 - Epoch 8/20\n",
            "Train Loss: 4.59739351272583 - Validation Loss: 3.077548027038574 - Train Accuracy: 0.6395765190703304 - Validation Accuracy: 0.5767524401064774\n",
            "Fold: 9/10 - Epoch 9/20\n",
            "Train Loss: 4.571350574493408 - Validation Loss: 3.078505039215088 - Train Accuracy: 0.6396089393524589 - Validation Accuracy: 0.5767524401064774\n",
            "Fold: 9/10 - Epoch 10/20\n",
            "Train Loss: 4.5456743240356445 - Validation Loss: 3.0792160034179688 - Train Accuracy: 0.639626950620308 - Validation Accuracy: 0.5767524401064774\n",
            "Fold: 9/10 - Epoch 11/20\n",
            "Train Loss: 4.520364761352539 - Validation Loss: 3.0801873207092285 - Train Accuracy: 0.6396341551274477 - Validation Accuracy: 0.576530612244898\n",
            "Fold: 9/10 - Epoch 12/20\n",
            "Train Loss: 4.495409965515137 - Validation Loss: 3.081498622894287 - Train Accuracy: 0.6396485641417271 - Validation Accuracy: 0.5767524401064774\n",
            "Fold: 9/10 - Epoch 13/20\n",
            "Train Loss: 4.47080135345459 - Validation Loss: 3.082793712615967 - Train Accuracy: 0.6396737799167159 - Validation Accuracy: 0.5767524401064774\n",
            "Fold: 9/10 - Epoch 14/20\n",
            "Train Loss: 4.446540832519531 - Validation Loss: 3.0837366580963135 - Train Accuracy: 0.6397025979452745 - Validation Accuracy: 0.5767524401064774\n",
            "Fold: 9/10 - Epoch 15/20\n",
            "Train Loss: 4.4226179122924805 - Validation Loss: 3.0844168663024902 - Train Accuracy: 0.6397278137202634 - Validation Accuracy: 0.5769742679680568\n",
            "Fold: 9/10 - Epoch 16/20\n",
            "Train Loss: 4.399033546447754 - Validation Loss: 3.0852763652801514 - Train Accuracy: 0.6397242114666936 - Validation Accuracy: 0.5767524401064774\n",
            "Fold: 9/10 - Epoch 17/20\n",
            "Train Loss: 4.375775337219238 - Validation Loss: 3.0865378379821777 - Train Accuracy: 0.6397278137202634 - Validation Accuracy: 0.5769742679680568\n",
            "Fold: 9/10 - Epoch 18/20\n",
            "Train Loss: 4.352848052978516 - Validation Loss: 3.087930202484131 - Train Accuracy: 0.6397422227345427 - Validation Accuracy: 0.5769742679680568\n",
            "Fold: 9/10 - Epoch 19/20\n",
            "Train Loss: 4.33023738861084 - Validation Loss: 3.0890564918518066 - Train Accuracy: 0.6397746430166712 - Validation Accuracy: 0.5769742679680568\n",
            "Fold: 9/10 - Epoch 20/20\n",
            "Train Loss: 4.307947158813477 - Validation Loss: 3.089869737625122 - Train Accuracy: 0.6397710407631014 - Validation Accuracy: 0.5767524401064774\n",
            "Fold: 10/10 - Epoch 1/20\n",
            "Train Loss: 4.2801313400268555 - Validation Loss: 3.0419058799743652 - Train Accuracy: 0.640750853734096 - Validation Accuracy: 0.5788061703554661\n",
            "Fold: 10/10 - Epoch 2/20\n",
            "Train Loss: 4.258453369140625 - Validation Loss: 3.042057514190674 - Train Accuracy: 0.6407436492269564 - Validation Accuracy: 0.5790297339593115\n",
            "Fold: 10/10 - Epoch 3/20\n",
            "Train Loss: 4.237081527709961 - Validation Loss: 3.0434799194335938 - Train Accuracy: 0.6407256379591072 - Validation Accuracy: 0.5788061703554661\n",
            "Fold: 10/10 - Epoch 4/20\n",
            "Train Loss: 4.216006755828857 - Validation Loss: 3.0452444553375244 - Train Accuracy: 0.6407400469733866 - Validation Accuracy: 0.5785826067516209\n",
            "Fold: 10/10 - Epoch 5/20\n",
            "Train Loss: 4.195220947265625 - Validation Loss: 3.046360731124878 - Train Accuracy: 0.6407616604948055 - Validation Accuracy: 0.5785826067516209\n",
            "Fold: 10/10 - Epoch 6/20\n",
            "Train Loss: 4.174717903137207 - Validation Loss: 3.0469255447387695 - Train Accuracy: 0.6408012852840738 - Validation Accuracy: 0.5788061703554661\n",
            "Fold: 10/10 - Epoch 7/20\n",
            "Train Loss: 4.154504299163818 - Validation Loss: 3.0477964878082275 - Train Accuracy: 0.6408120920447832 - Validation Accuracy: 0.5790297339593115\n",
            "Fold: 10/10 - Epoch 8/20\n",
            "Train Loss: 4.1345744132995605 - Validation Loss: 3.0493855476379395 - Train Accuracy: 0.6408301033126323 - Validation Accuracy: 0.5785826067516209\n",
            "Fold: 10/10 - Epoch 9/20\n",
            "Train Loss: 4.114920616149902 - Validation Loss: 3.0509860515594482 - Train Accuracy: 0.6408697281019006 - Validation Accuracy: 0.5785826067516209\n",
            "Fold: 10/10 - Epoch 10/20\n",
            "Train Loss: 4.095542907714844 - Validation Loss: 3.0517377853393555 - Train Accuracy: 0.6408877393697497 - Validation Accuracy: 0.5783590431477755\n",
            "Fold: 10/10 - Epoch 11/20\n",
            "Train Loss: 4.076433181762695 - Validation Loss: 3.051867961883545 - Train Accuracy: 0.6409093528911687 - Validation Accuracy: 0.5783590431477755\n",
            "Fold: 10/10 - Epoch 12/20\n",
            "Train Loss: 4.057585716247559 - Validation Loss: 3.0523769855499268 - Train Accuracy: 0.6409381709197274 - Validation Accuracy: 0.5783590431477755\n",
            "Fold: 10/10 - Epoch 13/20\n",
            "Train Loss: 4.038998126983643 - Validation Loss: 3.053725242614746 - Train Accuracy: 0.6409741934554257 - Validation Accuracy: 0.5783590431477755\n",
            "Fold: 10/10 - Epoch 14/20\n",
            "Train Loss: 4.020668983459473 - Validation Loss: 3.0553672313690186 - Train Accuracy: 0.6410174204982637 - Validation Accuracy: 0.5788061703554661\n",
            "Fold: 10/10 - Epoch 15/20\n",
            "Train Loss: 4.002596378326416 - Validation Loss: 3.0566296577453613 - Train Accuracy: 0.6410534430339621 - Validation Accuracy: 0.5788061703554661\n",
            "Fold: 10/10 - Epoch 16/20\n",
            "Train Loss: 3.984769344329834 - Validation Loss: 3.0575387477874756 - Train Accuracy: 0.6410678520482413 - Validation Accuracy: 0.5790297339593115\n",
            "Fold: 10/10 - Epoch 17/20\n",
            "Train Loss: 3.9671924114227295 - Validation Loss: 3.058617353439331 - Train Accuracy: 0.6410894655696604 - Validation Accuracy: 0.5788061703554661\n",
            "Fold: 10/10 - Epoch 18/20\n",
            "Train Loss: 3.949857711791992 - Validation Loss: 3.06003999710083 - Train Accuracy: 0.6411002723303699 - Validation Accuracy: 0.5790297339593115\n",
            "Fold: 10/10 - Epoch 19/20\n",
            "Train Loss: 3.932767868041992 - Validation Loss: 3.0613741874694824 - Train Accuracy: 0.6411074768375096 - Validation Accuracy: 0.5790297339593115\n",
            "Fold: 10/10 - Epoch 20/20\n",
            "Train Loss: 3.9159107208251953 - Validation Loss: 3.0622735023498535 - Train Accuracy: 0.6411182835982191 - Validation Accuracy: 0.5790297339593115\n"
          ]
        }
      ],
      "source": [
        "EPOCHS = 20 # 50 to have 500 epochs, using 20 for convenience\n",
        "\n",
        "train_loss, val_loss, train_accuracy, val_accuracy = train(model, optimizer, num_epochs=EPOCHS, l2_lambda=0.01)"
      ]
    },
    {
      "cell_type": "code",
      "execution_count": 152,
      "metadata": {
        "colab": {
          "base_uri": "https://localhost:8080/",
          "height": 957
        },
        "id": "KO6yjMr_oKcV",
        "outputId": "9dd09f21-1371-4d70-fa15-a91edbb94682"
      },
      "outputs": [
        {
          "output_type": "display_data",
          "data": {
            "text/plain": [
              "<Figure size 1000x500 with 1 Axes>"
            ],
            "image/png": "[encoded data removed]"
          },
          "metadata": {}
        },
        {
          "output_type": "display_data",
          "data": {
            "text/plain": [
              "<Figure size 1000x500 with 1 Axes>"
            ],
            "image/png": "[encoded data removed]"
          },
          "metadata": {}
        }
      ],
      "source": [
        "\n",
        "\n",
        "# Plotting the losses\n",
        "plt.figure(figsize=(10, 5))\n",
        "plt.plot(train_loss, label='Train Loss')\n",
        "plt.plot(val_loss, label='Validation Loss')\n",
        "plt.xlabel('Epoch')\n",
        "plt.ylabel('Loss')\n",
        "plt.title('Training and Validation Loss')\n",
        "plt.legend()\n",
        "plt.show()\n",
        "\n",
        "# Plotting the accuracies\n",
        "plt.figure(figsize=(10, 5))\n",
        "plt.plot(train_accuracy, label='Train Accuracy')\n",
        "plt.plot(val_accuracy, label='Validation Accuracy')\n",
        "plt.xlabel('Epoch')\n",
        "plt.ylabel('Accuracy')\n",
        "plt.title('Training and Validation Accuracy')\n",
        "plt.legend()\n",
        "plt.show()"
      ]
    },
    {
      "cell_type": "code",
      "execution_count": 153,
      "metadata": {
        "id": "7hHhzJHPpjbd"
      },
      "outputs": [],
      "source": [
        "\n",
        "if running_local:\n",
        "    PATH = \"model/model.pth\"\n",
        "else:\n",
        "    PATH = \"drive/MyDrive/StructuralBioinformatics/model/model.pth\""
      ]
    },
    {
      "cell_type": "code",
      "execution_count": 154,
      "metadata": {
        "id": "AL2RgH5lYOnV"
      },
      "outputs": [],
      "source": [
        "torch.save(model, PATH)"
      ]
    },
    {
      "cell_type": "code",
      "execution_count": 155,
      "metadata": {
        "id": "7D3Bjqr5X9xs",
        "colab": {
          "base_uri": "https://localhost:8080/"
        },
        "outputId": "ee5b0745-586c-4575-efde-f3e2c4cf4a5a"
      },
      "outputs": [
        {
          "output_type": "execute_result",
          "data": {
            "text/plain": [
              "ContactNet(\n",
              "  (layers): ModuleList(\n",
              "    (0): Linear(in_features=20, out_features=60, bias=True)\n",
              "    (1): Linear(in_features=60, out_features=60, bias=True)\n",
              "    (2): Linear(in_features=60, out_features=128, bias=True)\n",
              "    (3-4): 2 x Linear(in_features=128, out_features=128, bias=True)\n",
              "    (5): Linear(in_features=128, out_features=256, bias=True)\n",
              "    (6-7): 2 x Linear(in_features=256, out_features=256, bias=True)\n",
              "    (8): Linear(in_features=256, out_features=6, bias=True)\n",
              "  )\n",
              ")"
            ]
          },
          "metadata": {},
          "execution_count": 155
        }
      ],
      "source": [
        "# Load Model For Inference\n",
        "\n",
        "model = torch.load(PATH)\n",
        "model.eval()"
      ]
    },
    {
      "cell_type": "code",
      "execution_count": 156,
      "metadata": {
        "id": "_6Fz_SP6pjbd"
      },
      "outputs": [],
      "source": [
        "# Convert your test dataset into PyTorch tensors\n",
        "X_test_torch = torch.tensor(X_test.values).float()\n",
        "y_test_torch = torch.tensor(y_test.values).long()\n",
        "\n",
        "# Create a DataLoader for your test set\n",
        "test_dataset = TensorDataset(X_test_torch, y_test_torch)\n",
        "test_loader = DataLoader(test_dataset, batch_size=32)"
      ]
    },
    {
      "cell_type": "code",
      "execution_count": 157,
      "metadata": {
        "colab": {
          "base_uri": "https://localhost:8080/",
          "height": 356
        },
        "id": "IQJyqKtgpjbd",
        "outputId": "4ee20da8-2b70-45aa-d749-236ca80fbe71"
      },
      "outputs": [
        {
          "output_type": "error",
          "ename": "ValueError",
          "evalue": "ignored",
          "traceback": [
            "\u001b[0;31m---------------------------------------------------------------------------\u001b[0m",
            "\u001b[0;31mValueError\u001b[0m                                Traceback (most recent call last)",
            "\u001b[0;32m<ipython-input-157-9874a6536792>\u001b[0m in \u001b[0;36m<cell line: 17>\u001b[0;34m()\u001b[0m\n\u001b[1;32m     15\u001b[0m \u001b[0;34m\u001b[0m\u001b[0m\n\u001b[1;32m     16\u001b[0m \u001b[0my_pred_oneHot\u001b[0m \u001b[0;34m=\u001b[0m \u001b[0mpd\u001b[0m\u001b[0;34m.\u001b[0m\u001b[0mget_dummies\u001b[0m\u001b[0;34m(\u001b[0m\u001b[0my_pred\u001b[0m\u001b[0;34m)\u001b[0m\u001b[0;34m.\u001b[0m\u001b[0mvalues\u001b[0m\u001b[0;34m\u001b[0m\u001b[0;34m\u001b[0m\u001b[0m\n\u001b[0;32m---> 17\u001b[0;31m \u001b[0mprint\u001b[0m\u001b[0;34m(\u001b[0m\u001b[0mclassification_report\u001b[0m\u001b[0;34m(\u001b[0m\u001b[0my_true\u001b[0m\u001b[0;34m,\u001b[0m \u001b[0my_pred_oneHot\u001b[0m\u001b[0;34m,\u001b[0m \u001b[0mtarget_names\u001b[0m \u001b[0;34m=\u001b[0m \u001b[0mcat_names\u001b[0m\u001b[0;34m)\u001b[0m\u001b[0;34m)\u001b[0m\u001b[0;34m\u001b[0m\u001b[0;34m\u001b[0m\u001b[0m\n\u001b[0m",
            "\u001b[0;32m/usr/local/lib/python3.10/dist-packages/sklearn/metrics/_classification.py\u001b[0m in \u001b[0;36mclassification_report\u001b[0;34m(y_true, y_pred, labels, target_names, sample_weight, digits, output_dict, zero_division)\u001b[0m\n\u001b[1;32m   2311\u001b[0m \u001b[0;34m\u001b[0m\u001b[0m\n\u001b[1;32m   2312\u001b[0m     \u001b[0;32mif\u001b[0m \u001b[0mlabels\u001b[0m \u001b[0;32mis\u001b[0m \u001b[0;32mNone\u001b[0m\u001b[0;34m:\u001b[0m\u001b[0;34m\u001b[0m\u001b[0;34m\u001b[0m\u001b[0m\n\u001b[0;32m-> 2313\u001b[0;31m         \u001b[0mlabels\u001b[0m \u001b[0;34m=\u001b[0m \u001b[0munique_labels\u001b[0m\u001b[0;34m(\u001b[0m\u001b[0my_true\u001b[0m\u001b[0;34m,\u001b[0m \u001b[0my_pred\u001b[0m\u001b[0;34m)\u001b[0m\u001b[0;34m\u001b[0m\u001b[0;34m\u001b[0m\u001b[0m\n\u001b[0m\u001b[1;32m   2314\u001b[0m         \u001b[0mlabels_given\u001b[0m \u001b[0;34m=\u001b[0m \u001b[0;32mFalse\u001b[0m\u001b[0;34m\u001b[0m\u001b[0;34m\u001b[0m\u001b[0m\n\u001b[1;32m   2315\u001b[0m     \u001b[0;32melse\u001b[0m\u001b[0;34m:\u001b[0m\u001b[0;34m\u001b[0m\u001b[0;34m\u001b[0m\u001b[0m\n",
            "\u001b[0;32m/usr/local/lib/python3.10/dist-packages/sklearn/utils/multiclass.py\u001b[0m in \u001b[0;36munique_labels\u001b[0;34m(*ys)\u001b[0m\n\u001b[1;32m     98\u001b[0m         \u001b[0;34m>\u001b[0m \u001b[0;36m1\u001b[0m\u001b[0;34m\u001b[0m\u001b[0;34m\u001b[0m\u001b[0m\n\u001b[1;32m     99\u001b[0m     ):\n\u001b[0;32m--> 100\u001b[0;31m         raise ValueError(\n\u001b[0m\u001b[1;32m    101\u001b[0m             \u001b[0;34m\"Multi-label binary indicator input with different numbers of labels\"\u001b[0m\u001b[0;34m\u001b[0m\u001b[0;34m\u001b[0m\u001b[0m\n\u001b[1;32m    102\u001b[0m         )\n",
            "\u001b[0;31mValueError\u001b[0m: Multi-label binary indicator input with different numbers of labels"
          ]
        }
      ],
      "source": [
        "model.eval()\n",
        "y_pred = []\n",
        "y_true = []\n",
        "\n",
        "with torch.no_grad():\n",
        "    for inputs, labels in test_loader:\n",
        "        # Forward pass\n",
        "        outputs = model(inputs)\n",
        "\n",
        "        # Get predicted class indices\n",
        "        _, preds = torch.max(outputs, 1)\n",
        "\n",
        "        y_pred.extend(preds.tolist())\n",
        "        y_true.extend(labels.tolist())\n",
        "\n",
        "y_pred_oneHot = pd.get_dummies(y_pred).values\n",
        "print(classification_report(y_true, y_pred_oneHot, target_names = cat_names))"
      ]
    },
    {
      "cell_type": "code",
      "execution_count": null,
      "metadata": {
        "id": "3rJpN91_pjbd"
      },
      "outputs": [],
      "source": [
        "cm = confusion_matrix(np.argmax(y_true,axis=1), y_pred)\n",
        "cm_norm = cm.astype('float') / cm.sum(axis=1)[:, np.newaxis]\n",
        "\n",
        "fig, ax = plt.subplots(figsize=(10, 8))\n",
        "cm_display = ConfusionMatrixDisplay(confusion_matrix=cm, display_labels=cat_names)\n",
        "cm_display.plot(cmap='Blues', ax=ax)\n",
        "\n",
        "plt.title('Confusion Matrix')\n",
        "plt.ylabel('Actual Contact')\n",
        "plt.xlabel('Predicted Contact')\n",
        "plt.show()"
      ]
    }
  ],
  "metadata": {
    "colab": {
      "provenance": []
    },
    "kernelspec": {
      "display_name": "biopy",
      "language": "python",
      "name": "python3"
    },
    "language_info": {
      "codemirror_mode": {
        "name": "ipython",
        "version": 3
      },
      "file_extension": ".py",
      "mimetype": "text/x-python",
      "name": "python",
      "nbconvert_exporter": "python",
      "pygments_lexer": "ipython3",
      "version": "3.9.16"
    },
    "orig_nbformat": 4
  },
  "nbformat": 4,
  "nbformat_minor": 0
}