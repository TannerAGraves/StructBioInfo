{
  "cells": [
    {
      "cell_type": "code",
      "execution_count": 82,
      "metadata": {
        "colab": {
          "base_uri": "https://localhost:8080/"
        },
        "id": "ewVXNIEM7IV_",
        "outputId": "d8dd2f32-5ac0-483a-ce41-43eb603c5b9a"
      },
      "outputs": [
        {
          "output_type": "stream",
          "name": "stdout",
          "text": [
            "Requirement already satisfied: scikit-learn in /usr/local/lib/python3.10/dist-packages (1.2.2)\n",
            "Requirement already satisfied: numpy>=1.17.3 in /usr/local/lib/python3.10/dist-packages (from scikit-learn) (1.22.4)\n",
            "Requirement already satisfied: scipy>=1.3.2 in /usr/local/lib/python3.10/dist-packages (from scikit-learn) (1.10.1)\n",
            "Requirement already satisfied: joblib>=1.1.1 in /usr/local/lib/python3.10/dist-packages (from scikit-learn) (1.2.0)\n",
            "Requirement already satisfied: threadpoolctl>=2.0.0 in /usr/local/lib/python3.10/dist-packages (from scikit-learn) (3.1.0)\n",
            "Requirement already satisfied: torch in /usr/local/lib/python3.10/dist-packages (2.0.1+cu118)\n",
            "Requirement already satisfied: filelock in /usr/local/lib/python3.10/dist-packages (from torch) (3.12.2)\n",
            "Requirement already satisfied: typing-extensions in /usr/local/lib/python3.10/dist-packages (from torch) (4.6.3)\n",
            "Requirement already satisfied: sympy in /usr/local/lib/python3.10/dist-packages (from torch) (1.11.1)\n",
            "Requirement already satisfied: networkx in /usr/local/lib/python3.10/dist-packages (from torch) (3.1)\n",
            "Requirement already satisfied: jinja2 in /usr/local/lib/python3.10/dist-packages (from torch) (3.1.2)\n",
            "Requirement already satisfied: triton==2.0.0 in /usr/local/lib/python3.10/dist-packages (from torch) (2.0.0)\n",
            "Requirement already satisfied: cmake in /usr/local/lib/python3.10/dist-packages (from triton==2.0.0->torch) (3.25.2)\n",
            "Requirement already satisfied: lit in /usr/local/lib/python3.10/dist-packages (from triton==2.0.0->torch) (16.0.6)\n",
            "Requirement already satisfied: MarkupSafe>=2.0 in /usr/local/lib/python3.10/dist-packages (from jinja2->torch) (2.1.3)\n",
            "Requirement already satisfied: mpmath>=0.19 in /usr/local/lib/python3.10/dist-packages (from sympy->torch) (1.3.0)\n",
            "Requirement already satisfied: torchinfo in /usr/local/lib/python3.10/dist-packages (1.8.0)\n"
          ]
        }
      ],
      "source": [
        "!pip3 install scikit-learn\n",
        "!pip3 install torch\n",
        "!pip3 install torchinfo\n"
      ]
    },
    {
      "cell_type": "code",
      "execution_count": 83,
      "metadata": {
        "colab": {
          "base_uri": "https://localhost:8080/"
        },
        "id": "AKx-1SDs7IWH",
        "outputId": "bd303512-2b84-41b0-9a9f-c8dc2fe3cd5a"
      },
      "outputs": [
        {
          "output_type": "stream",
          "name": "stdout",
          "text": [
            "Requirement already satisfied: google-colab in /usr/local/lib/python3.10/dist-packages (1.0.0)\n",
            "Requirement already satisfied: google-auth==2.17.3 in /usr/local/lib/python3.10/dist-packages (from google-colab) (2.17.3)\n",
            "Requirement already satisfied: ipykernel==5.5.6 in /usr/local/lib/python3.10/dist-packages (from google-colab) (5.5.6)\n",
            "Requirement already satisfied: ipython==7.34.0 in /usr/local/lib/python3.10/dist-packages (from google-colab) (7.34.0)\n",
            "Requirement already satisfied: notebook==6.4.8 in /usr/local/lib/python3.10/dist-packages (from google-colab) (6.4.8)\n",
            "Requirement already satisfied: pandas==1.5.3 in /usr/local/lib/python3.10/dist-packages (from google-colab) (1.5.3)\n",
            "Requirement already satisfied: portpicker==1.5.2 in /usr/local/lib/python3.10/dist-packages (from google-colab) (1.5.2)\n",
            "Requirement already satisfied: requests==2.27.1 in /usr/local/lib/python3.10/dist-packages (from google-colab) (2.27.1)\n",
            "Requirement already satisfied: tornado==6.3.1 in /usr/local/lib/python3.10/dist-packages (from google-colab) (6.3.1)\n",
            "Requirement already satisfied: cachetools<6.0,>=2.0.0 in /usr/local/lib/python3.10/dist-packages (from google-auth==2.17.3->google-colab) (5.3.1)\n",
            "Requirement already satisfied: pyasn1-modules>=0.2.1 in /usr/local/lib/python3.10/dist-packages (from google-auth==2.17.3->google-colab) (0.3.0)\n",
            "Requirement already satisfied: six>=1.9.0 in /usr/local/lib/python3.10/dist-packages (from google-auth==2.17.3->google-colab) (1.16.0)\n",
            "Requirement already satisfied: rsa<5,>=3.1.4 in /usr/local/lib/python3.10/dist-packages (from google-auth==2.17.3->google-colab) (4.9)\n",
            "Requirement already satisfied: ipython-genutils in /usr/local/lib/python3.10/dist-packages (from ipykernel==5.5.6->google-colab) (0.2.0)\n",
            "Requirement already satisfied: traitlets>=4.1.0 in /usr/local/lib/python3.10/dist-packages (from ipykernel==5.5.6->google-colab) (5.7.1)\n",
            "Requirement already satisfied: jupyter-client in /usr/local/lib/python3.10/dist-packages (from ipykernel==5.5.6->google-colab) (6.1.12)\n",
            "Requirement already satisfied: setuptools>=18.5 in /usr/local/lib/python3.10/dist-packages (from ipython==7.34.0->google-colab) (67.7.2)\n",
            "Requirement already satisfied: jedi>=0.16 in /usr/local/lib/python3.10/dist-packages (from ipython==7.34.0->google-colab) (0.18.2)\n",
            "Requirement already satisfied: decorator in /usr/local/lib/python3.10/dist-packages (from ipython==7.34.0->google-colab) (4.4.2)\n",
            "Requirement already satisfied: pickleshare in /usr/local/lib/python3.10/dist-packages (from ipython==7.34.0->google-colab) (0.7.5)\n",
            "Requirement already satisfied: prompt-toolkit!=3.0.0,!=3.0.1,<3.1.0,>=2.0.0 in /usr/local/lib/python3.10/dist-packages (from ipython==7.34.0->google-colab) (3.0.38)\n",
            "Requirement already satisfied: pygments in /usr/local/lib/python3.10/dist-packages (from ipython==7.34.0->google-colab) (2.14.0)\n",
            "Requirement already satisfied: backcall in /usr/local/lib/python3.10/dist-packages (from ipython==7.34.0->google-colab) (0.2.0)\n",
            "Requirement already satisfied: matplotlib-inline in /usr/local/lib/python3.10/dist-packages (from ipython==7.34.0->google-colab) (0.1.6)\n",
            "Requirement already satisfied: pexpect>4.3 in /usr/local/lib/python3.10/dist-packages (from ipython==7.34.0->google-colab) (4.8.0)\n",
            "Requirement already satisfied: jinja2 in /usr/local/lib/python3.10/dist-packages (from notebook==6.4.8->google-colab) (3.1.2)\n",
            "Requirement already satisfied: pyzmq>=17 in /usr/local/lib/python3.10/dist-packages (from notebook==6.4.8->google-colab) (23.2.1)\n",
            "Requirement already satisfied: argon2-cffi in /usr/local/lib/python3.10/dist-packages (from notebook==6.4.8->google-colab) (21.3.0)\n",
            "Requirement already satisfied: jupyter-core>=4.6.1 in /usr/local/lib/python3.10/dist-packages (from notebook==6.4.8->google-colab) (5.3.1)\n",
            "Requirement already satisfied: nbformat in /usr/local/lib/python3.10/dist-packages (from notebook==6.4.8->google-colab) (5.9.0)\n",
            "Requirement already satisfied: nbconvert in /usr/local/lib/python3.10/dist-packages (from notebook==6.4.8->google-colab) (6.5.4)\n",
            "Requirement already satisfied: nest-asyncio>=1.5 in /usr/local/lib/python3.10/dist-packages (from notebook==6.4.8->google-colab) (1.5.6)\n",
            "Requirement already satisfied: Send2Trash>=1.8.0 in /usr/local/lib/python3.10/dist-packages (from notebook==6.4.8->google-colab) (1.8.2)\n",
            "Requirement already satisfied: terminado>=0.8.3 in /usr/local/lib/python3.10/dist-packages (from notebook==6.4.8->google-colab) (0.17.1)\n",
            "Requirement already satisfied: prometheus-client in /usr/local/lib/python3.10/dist-packages (from notebook==6.4.8->google-colab) (0.17.0)\n",
            "Requirement already satisfied: python-dateutil>=2.8.1 in /usr/local/lib/python3.10/dist-packages (from pandas==1.5.3->google-colab) (2.8.2)\n",
            "Requirement already satisfied: pytz>=2020.1 in /usr/local/lib/python3.10/dist-packages (from pandas==1.5.3->google-colab) (2022.7.1)\n",
            "Requirement already satisfied: numpy>=1.21.0 in /usr/local/lib/python3.10/dist-packages (from pandas==1.5.3->google-colab) (1.22.4)\n",
            "Requirement already satisfied: psutil in /usr/local/lib/python3.10/dist-packages (from portpicker==1.5.2->google-colab) (5.9.5)\n",
            "Requirement already satisfied: urllib3<1.27,>=1.21.1 in /usr/local/lib/python3.10/dist-packages (from requests==2.27.1->google-colab) (1.26.16)\n",
            "Requirement already satisfied: certifi>=2017.4.17 in /usr/local/lib/python3.10/dist-packages (from requests==2.27.1->google-colab) (2023.5.7)\n",
            "Requirement already satisfied: charset-normalizer~=2.0.0 in /usr/local/lib/python3.10/dist-packages (from requests==2.27.1->google-colab) (2.0.12)\n",
            "Requirement already satisfied: idna<4,>=2.5 in /usr/local/lib/python3.10/dist-packages (from requests==2.27.1->google-colab) (3.4)\n",
            "Requirement already satisfied: parso<0.9.0,>=0.8.0 in /usr/local/lib/python3.10/dist-packages (from jedi>=0.16->ipython==7.34.0->google-colab) (0.8.3)\n",
            "Requirement already satisfied: platformdirs>=2.5 in /usr/local/lib/python3.10/dist-packages (from jupyter-core>=4.6.1->notebook==6.4.8->google-colab) (3.7.0)\n",
            "Requirement already satisfied: ptyprocess>=0.5 in /usr/local/lib/python3.10/dist-packages (from pexpect>4.3->ipython==7.34.0->google-colab) (0.7.0)\n",
            "Requirement already satisfied: wcwidth in /usr/local/lib/python3.10/dist-packages (from prompt-toolkit!=3.0.0,!=3.0.1,<3.1.0,>=2.0.0->ipython==7.34.0->google-colab) (0.2.6)\n",
            "Requirement already satisfied: pyasn1<0.6.0,>=0.4.6 in /usr/local/lib/python3.10/dist-packages (from pyasn1-modules>=0.2.1->google-auth==2.17.3->google-colab) (0.5.0)\n",
            "Requirement already satisfied: argon2-cffi-bindings in /usr/local/lib/python3.10/dist-packages (from argon2-cffi->notebook==6.4.8->google-colab) (21.2.0)\n",
            "Requirement already satisfied: MarkupSafe>=2.0 in /usr/local/lib/python3.10/dist-packages (from jinja2->notebook==6.4.8->google-colab) (2.1.3)\n",
            "Requirement already satisfied: lxml in /usr/local/lib/python3.10/dist-packages (from nbconvert->notebook==6.4.8->google-colab) (4.9.2)\n",
            "Requirement already satisfied: beautifulsoup4 in /usr/local/lib/python3.10/dist-packages (from nbconvert->notebook==6.4.8->google-colab) (4.11.2)\n",
            "Requirement already satisfied: bleach in /usr/local/lib/python3.10/dist-packages (from nbconvert->notebook==6.4.8->google-colab) (6.0.0)\n",
            "Requirement already satisfied: defusedxml in /usr/local/lib/python3.10/dist-packages (from nbconvert->notebook==6.4.8->google-colab) (0.7.1)\n",
            "Requirement already satisfied: entrypoints>=0.2.2 in /usr/local/lib/python3.10/dist-packages (from nbconvert->notebook==6.4.8->google-colab) (0.4)\n",
            "Requirement already satisfied: jupyterlab-pygments in /usr/local/lib/python3.10/dist-packages (from nbconvert->notebook==6.4.8->google-colab) (0.2.2)\n",
            "Requirement already satisfied: mistune<2,>=0.8.1 in /usr/local/lib/python3.10/dist-packages (from nbconvert->notebook==6.4.8->google-colab) (0.8.4)\n",
            "Requirement already satisfied: nbclient>=0.5.0 in /usr/local/lib/python3.10/dist-packages (from nbconvert->notebook==6.4.8->google-colab) (0.8.0)\n",
            "Requirement already satisfied: packaging in /usr/local/lib/python3.10/dist-packages (from nbconvert->notebook==6.4.8->google-colab) (23.1)\n",
            "Requirement already satisfied: pandocfilters>=1.4.1 in /usr/local/lib/python3.10/dist-packages (from nbconvert->notebook==6.4.8->google-colab) (1.5.0)\n",
            "Requirement already satisfied: tinycss2 in /usr/local/lib/python3.10/dist-packages (from nbconvert->notebook==6.4.8->google-colab) (1.2.1)\n",
            "Requirement already satisfied: fastjsonschema in /usr/local/lib/python3.10/dist-packages (from nbformat->notebook==6.4.8->google-colab) (2.17.1)\n",
            "Requirement already satisfied: jsonschema>=2.6 in /usr/local/lib/python3.10/dist-packages (from nbformat->notebook==6.4.8->google-colab) (4.3.3)\n",
            "Requirement already satisfied: attrs>=17.4.0 in /usr/local/lib/python3.10/dist-packages (from jsonschema>=2.6->nbformat->notebook==6.4.8->google-colab) (23.1.0)\n",
            "Requirement already satisfied: pyrsistent!=0.17.0,!=0.17.1,!=0.17.2,>=0.14.0 in /usr/local/lib/python3.10/dist-packages (from jsonschema>=2.6->nbformat->notebook==6.4.8->google-colab) (0.19.3)\n",
            "Requirement already satisfied: cffi>=1.0.1 in /usr/local/lib/python3.10/dist-packages (from argon2-cffi-bindings->argon2-cffi->notebook==6.4.8->google-colab) (1.15.1)\n",
            "Requirement already satisfied: soupsieve>1.2 in /usr/local/lib/python3.10/dist-packages (from beautifulsoup4->nbconvert->notebook==6.4.8->google-colab) (2.4.1)\n",
            "Requirement already satisfied: webencodings in /usr/local/lib/python3.10/dist-packages (from bleach->nbconvert->notebook==6.4.8->google-colab) (0.5.1)\n",
            "Requirement already satisfied: pycparser in /usr/local/lib/python3.10/dist-packages (from cffi>=1.0.1->argon2-cffi-bindings->argon2-cffi->notebook==6.4.8->google-colab) (2.21)\n"
          ]
        }
      ],
      "source": [
        "!pip3 install google-colab"
      ]
    },
    {
      "cell_type": "code",
      "execution_count": 84,
      "metadata": {
        "id": "i1nJM4827IWE"
      },
      "outputs": [],
      "source": [
        "import pandas as pd\n",
        "import os\n",
        "from sklearn.preprocessing import StandardScaler\n",
        "from sklearn.model_selection import train_test_split, KFold\n",
        "from sklearn.metrics import accuracy_score\n",
        "import torch\n",
        "import torch.nn as nn\n",
        "import torch.nn.functional as F\n",
        "from torchinfo import summary\n",
        "import numpy as np\n",
        "import matplotlib.pyplot as plt\n",
        "\n",
        "from imblearn.over_sampling import SMOTE\n",
        "from imblearn.under_sampling import OneSidedSelection, InstanceHardnessThreshold, NearMiss, ClusterCentroids\n",
        "from sklearn.ensemble import AdaBoostClassifier\n",
        "from sklearn.preprocessing import LabelBinarizer\n",
        "\n",
        "from sklearn.metrics import classification_report, confusion_matrix, ConfusionMatrixDisplay\n",
        "from torch import nn, optim\n",
        "from torch.utils.data import TensorDataset, DataLoader\n",
        "import seaborn as sns\n"
      ]
    },
    {
      "cell_type": "code",
      "execution_count": 85,
      "metadata": {
        "colab": {
          "base_uri": "https://localhost:8080/"
        },
        "id": "uquAXNAzpjba",
        "outputId": "32dc4867-c87d-4e73-8a79-f1fd6e6b1bab"
      },
      "outputs": [
        {
          "output_type": "stream",
          "name": "stdout",
          "text": [
            "Drive already mounted at /content/drive; to attempt to forcibly remount, call drive.mount(\"/content/drive\", force_remount=True).\n"
          ]
        }
      ],
      "source": [
        "'''CONFIG FOR LOCAL / CLOUD RUNNING'''\n",
        "running_local = 'content' not in os.getcwd()\n",
        "if running_local:\n",
        "    path = ''\n",
        "else:\n",
        "    from google.colab import drive\n",
        "    drive.mount('/content/drive')\n",
        "    path = 'drive/MyDrive/StructuralBioinformatics/'"
      ]
    },
    {
      "cell_type": "code",
      "execution_count": 86,
      "metadata": {
        "id": "_GVRc7Ky7IWG"
      },
      "outputs": [],
      "source": [
        "# RUN ONLY TO REBUILD DATASET CSV\n",
        "#dfs = []\n",
        "#for filename in os.listdir('features_ring'):\n",
        "#    if filename[-4:] == '.tsv':\n",
        "#        dfs.append(pd.read_csv('features_ring/' + filename, sep='\\t'))\n",
        "#df = pd.concat(dfs)\n",
        "#df"
      ]
    },
    {
      "cell_type": "code",
      "execution_count": 87,
      "metadata": {
        "id": "rmKCVbWQ7IWG"
      },
      "outputs": [],
      "source": [
        "# don't need to execute - only to export df for training in cloud\n",
        "#df.to_csv('contact_df.csv')"
      ]
    },
    {
      "cell_type": "code",
      "execution_count": 88,
      "metadata": {
        "colab": {
          "base_uri": "https://localhost:8080/"
        },
        "id": "PcBk80rJ7IWI",
        "outputId": "a0bfb46d-a202-471f-bfa9-a2e9412fb3bb"
      },
      "outputs": [
        {
          "output_type": "execute_result",
          "data": {
            "text/plain": [
              "0               VDW\n",
              "1             HBOND\n",
              "2             HBOND\n",
              "3         PIPISTACK\n",
              "4             HBOND\n",
              "            ...    \n",
              "454188          VDW\n",
              "454189        HBOND\n",
              "454190          VDW\n",
              "454191        HBOND\n",
              "454192        HBOND\n",
              "Name: Interaction, Length: 454193, dtype: category\n",
              "Categories (6, object): ['HBOND', 'IONIC', 'PICATION', 'PIPISTACK', 'SSBOND', 'VDW']"
            ]
          },
          "metadata": {},
          "execution_count": 88
        }
      ],
      "source": [
        "df = pd.read_csv(path + 'data/contact_df.csv')\n",
        "df.dropna(inplace=True)\n",
        "\n",
        "# Define ground truth values\n",
        "y = df['Interaction'].astype('category')\n",
        "y_oneHot = pd.get_dummies(y)\n",
        "cat_names = list(y.cat.categories)\n",
        "y\n"
      ]
    },
    {
      "cell_type": "code",
      "source": [
        "# Define training features\n",
        "X = df[['s_rsa', 's_up', 's_down', 's_phi', 's_psi', 's_a1', 's_a2', 's_a3', 's_a4', 's_a5',\n",
        "        't_rsa', 't_up', 't_down', 't_phi', 't_psi', 't_a1', 't_a2', 't_a3', 't_a4', 't_a5']]\n",
        "\n",
        "#is this working?\n",
        "X = X.fillna({col: X[col].mode()[0] for col in X.columns})\n",
        "\n",
        "print(\"Scaling data...\")\n",
        "scaler = StandardScaler()\n",
        "X_scaled = scaler.fit_transform(X)"
      ],
      "metadata": {
        "colab": {
          "base_uri": "https://localhost:8080/"
        },
        "id": "xwKYDnU7qLwa",
        "outputId": "b31fbfa9-d87a-485b-c79d-f56f1ad9ff81"
      },
      "execution_count": 89,
      "outputs": [
        {
          "output_type": "stream",
          "name": "stdout",
          "text": [
            "Scaling data...\n"
          ]
        }
      ]
    },
    {
      "cell_type": "code",
      "execution_count": 90,
      "metadata": {
        "id": "tPxPV5w_7IWK"
      },
      "outputs": [],
      "source": [
        "# Create the test and train split (from ORIGINAL data)\n",
        "\n",
        "X_train, X_test, y_train, y_test = train_test_split(X_scaled, y_oneHot, test_size=0.1, random_state=123)\n",
        "\n",
        "# TO FIX: WE NEED A VALIDATION SET THAT IS NOT AFFECTED BY THE PREPROCESSING!\n",
        "# For now, I'm using the test set with a constraint on the indexes in the training function to use as a validation set, but we need a better solution.\n",
        "\n",
        "n_splits=10\n",
        "kf = KFold(n_splits=n_splits, shuffle=True)"
      ]
    },
    {
      "cell_type": "code",
      "execution_count": 91,
      "metadata": {
        "colab": {
          "base_uri": "https://localhost:8080/"
        },
        "id": "God_1B2t7IWJ",
        "outputId": "47794c1a-f3a9-4f06-d0be-4d3320b9b254"
      },
      "outputs": [
        {
          "output_type": "stream",
          "name": "stdout",
          "text": [
            "Undersampling data...\n",
            "Oversampling data...\n"
          ]
        }
      ],
      "source": [
        "# Preprocessing TRAIN DATA ONLY\n",
        "\n",
        "#X_scaled = pd.DataFrame(X_scaled, columns=X.columns) #why are we casting it to a DF?\n",
        "X_train = np.array(X_train) #undersampler and oversampler expects arrays\n",
        "y_train = np.array(y_train) #undersampler and oversampler expects arrays\n",
        "\n",
        "\n",
        "print(\"Undersampling data...\")\n",
        "undersample = InstanceHardnessThreshold(estimator=AdaBoostClassifier(),sampling_strategy={0:50000,5:50000})\n",
        "X_train, y_train = undersample.fit_resample(X_train, y_train)\n",
        "\n",
        "print(\"Oversampling data...\")\n",
        "oversample = SMOTE(sampling_strategy={1:50000,3:50000,2:50000,4:50000})\n",
        "X_train, y_train = oversample.fit_resample(X_train, y_train)"
      ]
    },
    {
      "cell_type": "code",
      "execution_count": 92,
      "metadata": {
        "id": "uy9HuXulU1gw"
      },
      "outputs": [],
      "source": [
        "# Recast into Dataframes (to fix: conventionally np.arrays are to be fed to the network, not DataFrames)\n",
        "\n",
        "X_train = pd.DataFrame(X_train, columns=X.columns)\n",
        "y_train = pd.DataFrame(y_train)\n",
        "\n",
        "X_test = pd.DataFrame(X_test, columns=X.columns)\n",
        "y_test = pd.DataFrame(y_test)"
      ]
    },
    {
      "cell_type": "code",
      "execution_count": 93,
      "metadata": {
        "colab": {
          "base_uri": "https://localhost:8080/",
          "height": 452
        },
        "id": "Hb14_Lg-pjbb",
        "outputId": "cb6db2e9-0e68-4f52-cf94-61a1c9aae652"
      },
      "outputs": [
        {
          "output_type": "display_data",
          "data": {
            "text/plain": [
              "<Figure size 640x480 with 1 Axes>"
            ],
            "image/png": "[encoded data removed]"
          },
          "metadata": {}
        }
      ],
      "source": [
        "y_arg = np.argmax(y_oneHot.values, axis=1)\n",
        "y_arg_processed = np.argmax(y_train.values, axis=1)\n",
        "_, count = np.unique(y_arg, return_counts=True)\n",
        "class_count = dict(zip(cat_names, count))\n",
        "_, count_processed = np.unique(y_arg_processed, return_counts=True)\n",
        "class_count_processed = dict(zip(cat_names, count_processed))\n",
        "\n",
        "fig, ax = plt.subplots()\n",
        "x = np.arange(len(cat_names))  # label locations\n",
        "width = 0.35  # width of the bars\n",
        "rects1 = ax.bar(x - width/2, count, width, label='Orginal')\n",
        "rects2 = ax.bar(x + width/2, count_processed, width, label='Preprocessed')\n",
        "\n",
        "# Add labels, title, and legend\n",
        "ax.set_ylabel('Examples')\n",
        "ax.set_ylabel('Contact type')\n",
        "ax.set_title('Number of contacts by bond type')\n",
        "ax.set_xticks(x)\n",
        "ax.set_xticklabels(cat_names)\n",
        "ax.legend()\n",
        "\n",
        "plt.show()"
      ]
    },
    {
      "cell_type": "code",
      "execution_count": 127,
      "metadata": {
        "colab": {
          "base_uri": "https://localhost:8080/"
        },
        "id": "u0Y845Xj7IWL",
        "outputId": "23b6727c-47f5-456c-f025-9b4422e7e7c8"
      },
      "outputs": [
        {
          "output_type": "execute_result",
          "data": {
            "text/plain": [
              "=================================================================\n",
              "Layer (type:depth-idx)                   Param #\n",
              "=================================================================\n",
              "ContactNet                               --\n",
              "├─ModuleList: 1-1                        --\n",
              "│    └─Linear: 2-1                       1,260\n",
              "│    └─Linear: 2-2                       3,660\n",
              "│    └─Linear: 2-3                       7,808\n",
              "│    └─Linear: 2-4                       16,512\n",
              "│    └─Linear: 2-5                       16,512\n",
              "│    └─Linear: 2-6                       16,512\n",
              "│    └─Linear: 2-7                       33,024\n",
              "│    └─Linear: 2-8                       65,792\n",
              "│    └─Linear: 2-9                       65,792\n",
              "│    └─Linear: 2-10                      65,792\n",
              "│    └─Linear: 2-11                      1,542\n",
              "=================================================================\n",
              "Total params: 294,206\n",
              "Trainable params: 294,206\n",
              "Non-trainable params: 0\n",
              "================================================================="
            ]
          },
          "metadata": {},
          "execution_count": 127
        }
      ],
      "source": [
        "class ContactNet(nn.Module):\n",
        "    def __init__(self, input_dim, num_classes, hidden_layers_dim=[]):\n",
        "        super().__init__()\n",
        "        self.layers = nn.ModuleList()\n",
        "        if len(hidden_layers_dim) == 0:\n",
        "            self.layers = self.layers.append(nn.Linear(input_dim, num_classes))\n",
        "        else:\n",
        "            for layer_idx in range(len(hidden_layers_dim)):\n",
        "                if layer_idx == 0:  # first layer, from input to hidden\n",
        "                    self.layers = self.layers.append(nn.Linear(input_dim, hidden_layers_dim[layer_idx]))\n",
        "                else:  # hidden layers, depending on the input\n",
        "                    self.layers = self.layers.append(nn.Linear(hidden_layers_dim[layer_idx-1], hidden_layers_dim[layer_idx]))\n",
        "            self.layers = self.layers.append(nn.Linear(hidden_layers_dim[-1], num_classes))  # final output layer\n",
        "        self.apply(self._init_weights)\n",
        "\n",
        "    def _init_weights(self, module):\n",
        "        if isinstance(module, nn.Linear):\n",
        "            module.weight.data.normal_(mean=0.0, std=.1)\n",
        "            if module.bias is not None:\n",
        "                module.bias.data.zero_()\n",
        "\n",
        "    def forward(self, x):\n",
        "        if not isinstance(x, torch.Tensor):\n",
        "            x = torch.Tensor(x)\n",
        "        if x.dtype != torch.float32:\n",
        "            x = x.float()\n",
        "        if len(self.layers) == 1:\n",
        "            return self.layers[0](x)\n",
        "        else:\n",
        "            for layer in self.layers[:-1]:\n",
        "                x = F.relu(layer(x))\n",
        "        return F.log_softmax(x, dim=1)#self.layers[-1](x)\n",
        "\n",
        "input_size = X.shape[1]  # The number of input features\n",
        "num_classes = y_oneHot.shape[1] # The number of output classes\n",
        "\n",
        "model = ContactNet(input_size, num_classes, [60, 60, 128, 128, 128, 128, 256, 256, 256, 256])\n",
        "\n",
        "# Criterion and optimizer\n",
        "criterion = nn.CrossEntropyLoss()\n",
        "\n",
        "lr = 1e-3\n",
        "optimizer = torch.optim.Adam(model.parameters(), lr=lr)\n",
        "\n",
        "summary(model)"
      ]
    },
    {
      "cell_type": "code",
      "execution_count": 130,
      "metadata": {
        "id": "Ik79A97A7IWM"
      },
      "outputs": [],
      "source": [
        "class EarlyStopping:\n",
        "    def __init__(self, tolerance):\n",
        "        self.tolerance = tolerance\n",
        "        self.counter = 0\n",
        "        self.best_val_loss= 0\n",
        "        self.early_stop = False\n",
        "\n",
        "    def __call__(self, val_loss):\n",
        "          if val_loss < self.best_val_loss:\n",
        "              self.best_val_loss = val_loss\n",
        "              self.counter = 0\n",
        "          else:\n",
        "              self.counter += 1\n",
        "              if self.counter >= self.tolerance:\n",
        "                  self.early_stop=True\n",
        "\n",
        "device = torch.device(\"cuda\" if torch.cuda.is_available() else \"cpu\")\n",
        "\n",
        "# TO DO: Cast all dataframes to np.arrays or torch.tensors\n",
        "\n",
        "def train(model, optimizer, num_epochs, l1_lambda):\n",
        "    early_stopping = EarlyStopping(tolerance=20) # slow to learn, so it has to be VERY tolerant\n",
        "\n",
        "    train_losses = []\n",
        "    val_losses = []\n",
        "    train_accuracies = []\n",
        "    val_accuracies = []\n",
        "\n",
        "    current_fold_counter=0\n",
        "\n",
        "    for train_index, val_index in kf.split(X_train): # temporarily discarding kfold to test on test set and have a baseline. Remember to reindent all under this\n",
        "\n",
        "      current_fold_counter += 1\n",
        "\n",
        "      early_stopping.early_stop = False\n",
        "      early_stopping.counter = 0\n",
        "\n",
        "      X_train_fold = X_train.values[train_index] #Recasted to a pd.DataFrame but ideally we should use np.ndarray everywhere\n",
        "      y_train_fold = y_train.values[train_index]\n",
        "\n",
        "\n",
        "      # Here I'm just trying to see if maybe I can reuse the entire test set with validation indexes from X_train without going out of bound.\n",
        "      # I don't even know if this makes sense but that's the only thing that I could think as of right now\n",
        "      val_index_adjusted = val_index[val_index < len(X_test)]\n",
        "      X_val_fold = X_test.values[val_index_adjusted]\n",
        "      y_val_fold = y_test.values[val_index_adjusted]\n",
        "\n",
        "      #X_val_fold = X_train.values[val_index]\n",
        "      #y_val_fold = y_train.values[val_index]\n",
        "\n",
        "\n",
        "      for epoch in range(num_epochs):\n",
        "          model.train()\n",
        "          out = model(torch.tensor(X_train_fold))\n",
        "          y_train_fold_labels = np.argmax(y_train_fold, axis=1)\n",
        "          loss = criterion(out, torch.tensor(y_train_fold_labels).long())\n",
        "\n",
        "          ############## L1 Regularization ################\n",
        "          parameters = torch.tensor([], device=device)\n",
        "          parameters = torch.cat([param.view(-1) for param in model.parameters()], dim=0)\n",
        "\n",
        "          l1_norm = torch.linalg.norm(parameters, 1)\n",
        "          loss = loss + l1_norm * l1_lambda\n",
        "\n",
        "          #################################################\n",
        "\n",
        "          optimizer.zero_grad()\n",
        "          loss.backward()\n",
        "          optimizer.step()\n",
        "\n",
        "          with torch.no_grad():\n",
        "            val_outputs = model(X_val_fold)\n",
        "            y_val_fold_labels = np.argmax(y_val_fold, axis=1)\n",
        "            val_loss = criterion(val_outputs, torch.tensor(y_val_fold_labels).long())\n",
        "            _, val_preds = torch.max(val_outputs, 1)\n",
        "            val_accuracy = (val_preds == torch.tensor(y_val_fold_labels)).sum().item() / len(y_val_fold_labels)\n",
        "            train_preds = torch.argmax(out, 1)\n",
        "            train_accuracy = (train_preds == torch.tensor(y_train_fold_labels)).sum().item() / len(y_train_fold_labels)\n",
        "\n",
        "\n",
        "          print(f'Fold: {current_fold_counter}/{n_splits} - Epoch {epoch+1}/{num_epochs}')\n",
        "          print(f'Train Loss: {loss.item()} - Validation Loss: {val_loss.item()} - Train Accuracy: {train_accuracy} - Validation Accuracy: {val_accuracy}')\n",
        "\n",
        "          train_losses.append(loss.item())\n",
        "          val_losses.append(val_loss.item())\n",
        "          train_accuracies.append(train_accuracy)\n",
        "          val_accuracies.append(val_accuracy)\n",
        "\n",
        "          #early_stopping(val_loss.item())\n",
        "          #if early_stopping.early_stop:\n",
        "          #    print('Early stopping triggered...')\n",
        "          #    break\n",
        "\n",
        "      #if early_stopping.early_stop:\n",
        "      #    break\n",
        "\n",
        "    return train_losses, val_losses, train_accuracies, val_accuracies"
      ]
    },
    {
      "cell_type": "code",
      "execution_count": 131,
      "metadata": {
        "colab": {
          "base_uri": "https://localhost:8080/"
        },
        "id": "ywIQxX5ZhY8e",
        "outputId": "dc9acca7-41cf-4e90-989b-da43dd8c1a0c"
      },
      "outputs": [
        {
          "output_type": "stream",
          "name": "stdout",
          "text": [
            "Fold: 1/10 - Epoch 1/50\n",
            "Train Loss: 235.52879333496094 - Validation Loss: 5.45695161819458 - Train Accuracy: 0.0005439422484627328 - Validation Accuracy: 0.007244736246321032\n",
            "Fold: 1/10 - Epoch 2/50\n",
            "Train Loss: 232.63018798828125 - Validation Loss: 5.440510272979736 - Train Accuracy: 0.0020316783320064986 - Validation Accuracy: 0.016753452569617387\n",
            "Fold: 1/10 - Epoch 3/50\n",
            "Train Loss: 229.76573181152344 - Validation Loss: 5.424048900604248 - Train Accuracy: 0.005363774887159001 - Validation Accuracy: 0.03780846728548789\n",
            "Fold: 1/10 - Epoch 4/50\n",
            "Train Loss: 226.93704223632812 - Validation Loss: 5.407153606414795 - Train Accuracy: 0.012283728922237872 - Validation Accuracy: 0.09667194928684628\n",
            "Fold: 1/10 - Epoch 5/50\n",
            "Train Loss: 224.13038635253906 - Validation Loss: 5.390138149261475 - Train Accuracy: 0.03273019383796285 - Validation Accuracy: 0.2223228435589767\n",
            "Fold: 1/10 - Epoch 6/50\n",
            "Train Loss: 221.34706115722656 - Validation Loss: 5.373048305511475 - Train Accuracy: 0.07931830707881399 - Validation Accuracy: 0.39710210550147157\n",
            "Fold: 1/10 - Epoch 7/50\n",
            "Train Loss: 218.5927734375 - Validation Loss: 5.355759620666504 - Train Accuracy: 0.13914474987662237 - Validation Accuracy: 0.5254697758659724\n",
            "Fold: 1/10 - Epoch 8/50\n",
            "Train Loss: 215.86502075195312 - Validation Loss: 5.338233947753906 - Train Accuracy: 0.1766623559543665 - Validation Accuracy: 0.5782205116594974\n",
            "Fold: 1/10 - Epoch 9/50\n",
            "Train Loss: 213.16033935546875 - Validation Loss: 5.32029914855957 - Train Accuracy: 0.17948653292651737 - Validation Accuracy: 0.6076522526601766\n",
            "Fold: 1/10 - Epoch 10/50\n",
            "Train Loss: 210.4830780029297 - Validation Loss: 5.301948547363281 - Train Accuracy: 0.17392103111277615 - Validation Accuracy: 0.6223681231605162\n",
            "Fold: 1/10 - Epoch 11/50\n",
            "Train Loss: 207.82627868652344 - Validation Loss: 5.283123016357422 - Train Accuracy: 0.17079426375075196 - Validation Accuracy: 0.631650441476115\n",
            "Fold: 1/10 - Epoch 12/50\n",
            "Train Loss: 205.19252014160156 - Validation Loss: 5.263611793518066 - Train Accuracy: 0.16894630101259714 - Validation Accuracy: 0.6398007697532262\n",
            "Fold: 1/10 - Epoch 13/50\n",
            "Train Loss: 202.57861328125 - Validation Loss: 5.2432780265808105 - Train Accuracy: 0.16753781479306779 - Validation Accuracy: 0.642291147837899\n",
            "Fold: 1/10 - Epoch 14/50\n",
            "Train Loss: 199.99197387695312 - Validation Loss: 5.221948623657227 - Train Accuracy: 0.1669038158809523 - Validation Accuracy: 0.6454607199456645\n",
            "Fold: 1/10 - Epoch 15/50\n",
            "Train Loss: 197.42605590820312 - Validation Loss: 5.199436664581299 - Train Accuracy: 0.16653278242670289 - Validation Accuracy: 0.6459135159610595\n",
            "Fold: 1/10 - Epoch 16/50\n",
            "Train Loss: 194.88388061523438 - Validation Loss: 5.175455570220947 - Train Accuracy: 0.16660843002417122 - Validation Accuracy: 0.6479510980303373\n",
            "Fold: 1/10 - Epoch 17/50\n",
            "Train Loss: 192.36244201660156 - Validation Loss: 5.1499104499816895 - Train Accuracy: 0.16659762322453286 - Validation Accuracy: 0.6488566900611275\n",
            "Fold: 1/10 - Epoch 18/50\n",
            "Train Loss: 189.8638458251953 - Validation Loss: 5.12254524230957 - Train Accuracy: 0.16662283909035566 - Validation Accuracy: 0.6493094860765225\n",
            "Fold: 1/10 - Epoch 19/50\n",
            "Train Loss: 187.38795471191406 - Validation Loss: 5.093090057373047 - Train Accuracy: 0.16659762322453286 - Validation Accuracy: 0.649083088068825\n",
            "Fold: 1/10 - Epoch 20/50\n",
            "Train Loss: 184.93655395507812 - Validation Loss: 5.061140537261963 - Train Accuracy: 0.16656520282561788 - Validation Accuracy: 0.6493094860765225\n",
            "Early stopping triggered...\n"
          ]
        }
      ],
      "source": [
        "EPOCHS = 50\n",
        "\n",
        "train_loss, val_loss, train_accuracy, val_accuracy = train(model, optimizer, num_epochs=EPOCHS, l1_lambda=0.01)"
      ]
    },
    {
      "cell_type": "code",
      "execution_count": 132,
      "metadata": {
        "colab": {
          "base_uri": "https://localhost:8080/",
          "height": 957
        },
        "id": "KO6yjMr_oKcV",
        "outputId": "ec89e2bd-2b53-48ea-8898-5ccc65122d65"
      },
      "outputs": [
        {
          "output_type": "display_data",
          "data": {
            "text/plain": [
              "<Figure size 1000x500 with 1 Axes>"
            ],
            "image/png": "[encoded data removed]"
          },
          "metadata": {}
        },
        {
          "output_type": "display_data",
          "data": {
            "text/plain": [
              "<Figure size 1000x500 with 1 Axes>"
            ],
            "image/png": "[encoded data removed]"
          },
          "metadata": {}
        }
      ],
      "source": [
        "\n",
        "\n",
        "# Plotting the losses\n",
        "plt.figure(figsize=(10, 5))\n",
        "plt.plot(train_loss, label='Train Loss')\n",
        "plt.plot(val_loss, label='Validation Loss')\n",
        "plt.xlabel('Epoch')\n",
        "plt.ylabel('Loss')\n",
        "plt.title('Training and Validation Loss')\n",
        "plt.legend()\n",
        "plt.show()\n",
        "\n",
        "# Plotting the accuracies\n",
        "plt.figure(figsize=(10, 5))\n",
        "plt.plot(train_accuracy, label='Train Accuracy')\n",
        "plt.plot(val_accuracy, label='Validation Accuracy')\n",
        "plt.xlabel('Epoch')\n",
        "plt.ylabel('Accuracy')\n",
        "plt.title('Training and Validation Accuracy')\n",
        "plt.legend()\n",
        "plt.show()"
      ]
    },
    {
      "cell_type": "code",
      "execution_count": null,
      "metadata": {
        "id": "7hHhzJHPpjbd"
      },
      "outputs": [],
      "source": [
        "\n",
        "if running_local:\n",
        "    PATH = \"model/model.pth\"\n",
        "else:\n",
        "    PATH = \"drive/MyDrive/StructuralBioinformatics/model/model.pth\""
      ]
    },
    {
      "cell_type": "code",
      "execution_count": null,
      "metadata": {
        "id": "AL2RgH5lYOnV"
      },
      "outputs": [],
      "source": [
        "torch.save(model, PATH)"
      ]
    },
    {
      "cell_type": "code",
      "execution_count": null,
      "metadata": {
        "id": "7D3Bjqr5X9xs"
      },
      "outputs": [],
      "source": [
        "# Load Model For Inference\n",
        "\n",
        "model = torch.load(PATH)\n",
        "model.eval()"
      ]
    },
    {
      "cell_type": "code",
      "execution_count": null,
      "metadata": {
        "id": "_6Fz_SP6pjbd"
      },
      "outputs": [],
      "source": [
        "# Convert your test dataset into PyTorch tensors\n",
        "X_test_torch = torch.tensor(X_test.values).float()\n",
        "y_test_torch = torch.tensor(y_test.values).long()\n",
        "\n",
        "# Create a DataLoader for your test set\n",
        "test_dataset = TensorDataset(X_test_torch, y_test_torch)\n",
        "test_loader = DataLoader(test_dataset, batch_size=32)"
      ]
    },
    {
      "cell_type": "code",
      "execution_count": null,
      "metadata": {
        "id": "IQJyqKtgpjbd"
      },
      "outputs": [],
      "source": [
        "model.eval()\n",
        "y_pred = []\n",
        "y_true = []\n",
        "\n",
        "with torch.no_grad():\n",
        "    for inputs, labels in test_loader:\n",
        "        # Forward pass\n",
        "        outputs = model(inputs)\n",
        "\n",
        "        # Get predicted class indices\n",
        "        _, preds = torch.max(outputs, 1)\n",
        "\n",
        "        y_pred.extend(preds.tolist())\n",
        "        y_true.extend(labels.tolist())\n",
        "\n",
        "y_pred_oneHot = pd.get_dummies(y_pred).values\n",
        "print(classification_report(y_true, y_pred_oneHot, target_names = cat_names))"
      ]
    },
    {
      "cell_type": "code",
      "execution_count": null,
      "metadata": {
        "id": "3rJpN91_pjbd"
      },
      "outputs": [],
      "source": [
        "cm = confusion_matrix(np.argmax(y_true,axis=1), y_pred)\n",
        "cm_norm = cm.astype('float') / cm.sum(axis=1)[:, np.newaxis]\n",
        "\n",
        "fig, ax = plt.subplots(figsize=(10, 8))\n",
        "cm_display = ConfusionMatrixDisplay(confusion_matrix=cm, display_labels=cat_names)\n",
        "cm_display.plot(cmap='Blues', ax=ax)\n",
        "\n",
        "plt.title('Confusion Matrix')\n",
        "plt.ylabel('Actual Contact')\n",
        "plt.xlabel('Predicted Contact')\n",
        "plt.show()"
      ]
    }
  ],
  "metadata": {
    "colab": {
      "provenance": []
    },
    "kernelspec": {
      "display_name": "biopy",
      "language": "python",
      "name": "python3"
    },
    "language_info": {
      "codemirror_mode": {
        "name": "ipython",
        "version": 3
      },
      "file_extension": ".py",
      "mimetype": "text/x-python",
      "name": "python",
      "nbconvert_exporter": "python",
      "pygments_lexer": "ipython3",
      "version": "3.9.16"
    },
    "orig_nbformat": 4
  },
  "nbformat": 4,
  "nbformat_minor": 0
}