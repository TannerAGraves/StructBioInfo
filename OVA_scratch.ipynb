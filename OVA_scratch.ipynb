{
  "cells": [
    {
      "cell_type": "code",
      "execution_count": null,
      "metadata": {
        "colab": {
          "base_uri": "https://localhost:8080/"
        },
        "id": "ewVXNIEM7IV_",
        "outputId": "dcce2371-6030-4da6-a222-a6b8a1ff9746"
      },
      "outputs": [
        {
          "output_type": "stream",
          "name": "stdout",
          "text": [
            "Requirement already satisfied: scikit-learn in /usr/local/lib/python3.10/dist-packages (1.2.2)\n",
            "Requirement already satisfied: numpy>=1.17.3 in /usr/local/lib/python3.10/dist-packages (from scikit-learn) (1.22.4)\n",
            "Requirement already satisfied: scipy>=1.3.2 in /usr/local/lib/python3.10/dist-packages (from scikit-learn) (1.10.1)\n",
            "Requirement already satisfied: joblib>=1.1.1 in /usr/local/lib/python3.10/dist-packages (from scikit-learn) (1.2.0)\n",
            "Requirement already satisfied: threadpoolctl>=2.0.0 in /usr/local/lib/python3.10/dist-packages (from scikit-learn) (3.1.0)\n",
            "Requirement already satisfied: torch in /usr/local/lib/python3.10/dist-packages (2.0.1+cu118)\n",
            "Requirement already satisfied: filelock in /usr/local/lib/python3.10/dist-packages (from torch) (3.12.2)\n",
            "Requirement already satisfied: typing-extensions in /usr/local/lib/python3.10/dist-packages (from torch) (4.6.3)\n",
            "Requirement already satisfied: sympy in /usr/local/lib/python3.10/dist-packages (from torch) (1.11.1)\n",
            "Requirement already satisfied: networkx in /usr/local/lib/python3.10/dist-packages (from torch) (3.1)\n",
            "Requirement already satisfied: jinja2 in /usr/local/lib/python3.10/dist-packages (from torch) (3.1.2)\n",
            "Requirement already satisfied: triton==2.0.0 in /usr/local/lib/python3.10/dist-packages (from torch) (2.0.0)\n",
            "Requirement already satisfied: cmake in /usr/local/lib/python3.10/dist-packages (from triton==2.0.0->torch) (3.25.2)\n",
            "Requirement already satisfied: lit in /usr/local/lib/python3.10/dist-packages (from triton==2.0.0->torch) (16.0.6)\n",
            "Requirement already satisfied: MarkupSafe>=2.0 in /usr/local/lib/python3.10/dist-packages (from jinja2->torch) (2.1.3)\n",
            "Requirement already satisfied: mpmath>=0.19 in /usr/local/lib/python3.10/dist-packages (from sympy->torch) (1.3.0)\n",
            "Requirement already satisfied: torchinfo in /usr/local/lib/python3.10/dist-packages (1.8.0)\n"
          ]
        }
      ],
      "source": [
        "!pip3 install scikit-learn\n",
        "!pip3 install torch\n",
        "!pip3 install torchinfo\n"
      ]
    },
    {
      "cell_type": "code",
      "execution_count": null,
      "metadata": {
        "colab": {
          "base_uri": "https://localhost:8080/"
        },
        "id": "AKx-1SDs7IWH",
        "outputId": "e9922949-1b2a-44bc-a170-0900f0b8645c"
      },
      "outputs": [
        {
          "output_type": "stream",
          "name": "stdout",
          "text": [
            "Requirement already satisfied: google-colab in /usr/local/lib/python3.10/dist-packages (1.0.0)\n",
            "Requirement already satisfied: google-auth==2.17.3 in /usr/local/lib/python3.10/dist-packages (from google-colab) (2.17.3)\n",
            "Requirement already satisfied: ipykernel==5.5.6 in /usr/local/lib/python3.10/dist-packages (from google-colab) (5.5.6)\n",
            "Requirement already satisfied: ipython==7.34.0 in /usr/local/lib/python3.10/dist-packages (from google-colab) (7.34.0)\n",
            "Requirement already satisfied: notebook==6.4.8 in /usr/local/lib/python3.10/dist-packages (from google-colab) (6.4.8)\n",
            "Requirement already satisfied: pandas==1.5.3 in /usr/local/lib/python3.10/dist-packages (from google-colab) (1.5.3)\n",
            "Requirement already satisfied: portpicker==1.5.2 in /usr/local/lib/python3.10/dist-packages (from google-colab) (1.5.2)\n",
            "Requirement already satisfied: requests==2.27.1 in /usr/local/lib/python3.10/dist-packages (from google-colab) (2.27.1)\n",
            "Requirement already satisfied: tornado==6.3.1 in /usr/local/lib/python3.10/dist-packages (from google-colab) (6.3.1)\n",
            "Requirement already satisfied: cachetools<6.0,>=2.0.0 in /usr/local/lib/python3.10/dist-packages (from google-auth==2.17.3->google-colab) (5.3.1)\n",
            "Requirement already satisfied: pyasn1-modules>=0.2.1 in /usr/local/lib/python3.10/dist-packages (from google-auth==2.17.3->google-colab) (0.3.0)\n",
            "Requirement already satisfied: six>=1.9.0 in /usr/local/lib/python3.10/dist-packages (from google-auth==2.17.3->google-colab) (1.16.0)\n",
            "Requirement already satisfied: rsa<5,>=3.1.4 in /usr/local/lib/python3.10/dist-packages (from google-auth==2.17.3->google-colab) (4.9)\n",
            "Requirement already satisfied: ipython-genutils in /usr/local/lib/python3.10/dist-packages (from ipykernel==5.5.6->google-colab) (0.2.0)\n",
            "Requirement already satisfied: traitlets>=4.1.0 in /usr/local/lib/python3.10/dist-packages (from ipykernel==5.5.6->google-colab) (5.7.1)\n",
            "Requirement already satisfied: jupyter-client in /usr/local/lib/python3.10/dist-packages (from ipykernel==5.5.6->google-colab) (6.1.12)\n",
            "Requirement already satisfied: setuptools>=18.5 in /usr/local/lib/python3.10/dist-packages (from ipython==7.34.0->google-colab) (67.7.2)\n",
            "Requirement already satisfied: jedi>=0.16 in /usr/local/lib/python3.10/dist-packages (from ipython==7.34.0->google-colab) (0.18.2)\n",
            "Requirement already satisfied: decorator in /usr/local/lib/python3.10/dist-packages (from ipython==7.34.0->google-colab) (4.4.2)\n",
            "Requirement already satisfied: pickleshare in /usr/local/lib/python3.10/dist-packages (from ipython==7.34.0->google-colab) (0.7.5)\n",
            "Requirement already satisfied: prompt-toolkit!=3.0.0,!=3.0.1,<3.1.0,>=2.0.0 in /usr/local/lib/python3.10/dist-packages (from ipython==7.34.0->google-colab) (3.0.38)\n",
            "Requirement already satisfied: pygments in /usr/local/lib/python3.10/dist-packages (from ipython==7.34.0->google-colab) (2.14.0)\n",
            "Requirement already satisfied: backcall in /usr/local/lib/python3.10/dist-packages (from ipython==7.34.0->google-colab) (0.2.0)\n",
            "Requirement already satisfied: matplotlib-inline in /usr/local/lib/python3.10/dist-packages (from ipython==7.34.0->google-colab) (0.1.6)\n",
            "Requirement already satisfied: pexpect>4.3 in /usr/local/lib/python3.10/dist-packages (from ipython==7.34.0->google-colab) (4.8.0)\n",
            "Requirement already satisfied: jinja2 in /usr/local/lib/python3.10/dist-packages (from notebook==6.4.8->google-colab) (3.1.2)\n",
            "Requirement already satisfied: pyzmq>=17 in /usr/local/lib/python3.10/dist-packages (from notebook==6.4.8->google-colab) (23.2.1)\n",
            "Requirement already satisfied: argon2-cffi in /usr/local/lib/python3.10/dist-packages (from notebook==6.4.8->google-colab) (21.3.0)\n",
            "Requirement already satisfied: jupyter-core>=4.6.1 in /usr/local/lib/python3.10/dist-packages (from notebook==6.4.8->google-colab) (5.3.1)\n",
            "Requirement already satisfied: nbformat in /usr/local/lib/python3.10/dist-packages (from notebook==6.4.8->google-colab) (5.9.0)\n",
            "Requirement already satisfied: nbconvert in /usr/local/lib/python3.10/dist-packages (from notebook==6.4.8->google-colab) (6.5.4)\n",
            "Requirement already satisfied: nest-asyncio>=1.5 in /usr/local/lib/python3.10/dist-packages (from notebook==6.4.8->google-colab) (1.5.6)\n",
            "Requirement already satisfied: Send2Trash>=1.8.0 in /usr/local/lib/python3.10/dist-packages (from notebook==6.4.8->google-colab) (1.8.2)\n",
            "Requirement already satisfied: terminado>=0.8.3 in /usr/local/lib/python3.10/dist-packages (from notebook==6.4.8->google-colab) (0.17.1)\n",
            "Requirement already satisfied: prometheus-client in /usr/local/lib/python3.10/dist-packages (from notebook==6.4.8->google-colab) (0.17.0)\n",
            "Requirement already satisfied: python-dateutil>=2.8.1 in /usr/local/lib/python3.10/dist-packages (from pandas==1.5.3->google-colab) (2.8.2)\n",
            "Requirement already satisfied: pytz>=2020.1 in /usr/local/lib/python3.10/dist-packages (from pandas==1.5.3->google-colab) (2022.7.1)\n",
            "Requirement already satisfied: numpy>=1.21.0 in /usr/local/lib/python3.10/dist-packages (from pandas==1.5.3->google-colab) (1.22.4)\n",
            "Requirement already satisfied: psutil in /usr/local/lib/python3.10/dist-packages (from portpicker==1.5.2->google-colab) (5.9.5)\n",
            "Requirement already satisfied: urllib3<1.27,>=1.21.1 in /usr/local/lib/python3.10/dist-packages (from requests==2.27.1->google-colab) (1.26.16)\n",
            "Requirement already satisfied: certifi>=2017.4.17 in /usr/local/lib/python3.10/dist-packages (from requests==2.27.1->google-colab) (2023.5.7)\n",
            "Requirement already satisfied: charset-normalizer~=2.0.0 in /usr/local/lib/python3.10/dist-packages (from requests==2.27.1->google-colab) (2.0.12)\n",
            "Requirement already satisfied: idna<4,>=2.5 in /usr/local/lib/python3.10/dist-packages (from requests==2.27.1->google-colab) (3.4)\n",
            "Requirement already satisfied: parso<0.9.0,>=0.8.0 in /usr/local/lib/python3.10/dist-packages (from jedi>=0.16->ipython==7.34.0->google-colab) (0.8.3)\n",
            "Requirement already satisfied: platformdirs>=2.5 in /usr/local/lib/python3.10/dist-packages (from jupyter-core>=4.6.1->notebook==6.4.8->google-colab) (3.7.0)\n",
            "Requirement already satisfied: ptyprocess>=0.5 in /usr/local/lib/python3.10/dist-packages (from pexpect>4.3->ipython==7.34.0->google-colab) (0.7.0)\n",
            "Requirement already satisfied: wcwidth in /usr/local/lib/python3.10/dist-packages (from prompt-toolkit!=3.0.0,!=3.0.1,<3.1.0,>=2.0.0->ipython==7.34.0->google-colab) (0.2.6)\n",
            "Requirement already satisfied: pyasn1<0.6.0,>=0.4.6 in /usr/local/lib/python3.10/dist-packages (from pyasn1-modules>=0.2.1->google-auth==2.17.3->google-colab) (0.5.0)\n",
            "Requirement already satisfied: argon2-cffi-bindings in /usr/local/lib/python3.10/dist-packages (from argon2-cffi->notebook==6.4.8->google-colab) (21.2.0)\n",
            "Requirement already satisfied: MarkupSafe>=2.0 in /usr/local/lib/python3.10/dist-packages (from jinja2->notebook==6.4.8->google-colab) (2.1.3)\n",
            "Requirement already satisfied: lxml in /usr/local/lib/python3.10/dist-packages (from nbconvert->notebook==6.4.8->google-colab) (4.9.2)\n",
            "Requirement already satisfied: beautifulsoup4 in /usr/local/lib/python3.10/dist-packages (from nbconvert->notebook==6.4.8->google-colab) (4.11.2)\n",
            "Requirement already satisfied: bleach in /usr/local/lib/python3.10/dist-packages (from nbconvert->notebook==6.4.8->google-colab) (6.0.0)\n",
            "Requirement already satisfied: defusedxml in /usr/local/lib/python3.10/dist-packages (from nbconvert->notebook==6.4.8->google-colab) (0.7.1)\n",
            "Requirement already satisfied: entrypoints>=0.2.2 in /usr/local/lib/python3.10/dist-packages (from nbconvert->notebook==6.4.8->google-colab) (0.4)\n",
            "Requirement already satisfied: jupyterlab-pygments in /usr/local/lib/python3.10/dist-packages (from nbconvert->notebook==6.4.8->google-colab) (0.2.2)\n",
            "Requirement already satisfied: mistune<2,>=0.8.1 in /usr/local/lib/python3.10/dist-packages (from nbconvert->notebook==6.4.8->google-colab) (0.8.4)\n",
            "Requirement already satisfied: nbclient>=0.5.0 in /usr/local/lib/python3.10/dist-packages (from nbconvert->notebook==6.4.8->google-colab) (0.8.0)\n",
            "Requirement already satisfied: packaging in /usr/local/lib/python3.10/dist-packages (from nbconvert->notebook==6.4.8->google-colab) (23.1)\n",
            "Requirement already satisfied: pandocfilters>=1.4.1 in /usr/local/lib/python3.10/dist-packages (from nbconvert->notebook==6.4.8->google-colab) (1.5.0)\n",
            "Requirement already satisfied: tinycss2 in /usr/local/lib/python3.10/dist-packages (from nbconvert->notebook==6.4.8->google-colab) (1.2.1)\n",
            "Requirement already satisfied: fastjsonschema in /usr/local/lib/python3.10/dist-packages (from nbformat->notebook==6.4.8->google-colab) (2.17.1)\n",
            "Requirement already satisfied: jsonschema>=2.6 in /usr/local/lib/python3.10/dist-packages (from nbformat->notebook==6.4.8->google-colab) (4.3.3)\n",
            "Requirement already satisfied: attrs>=17.4.0 in /usr/local/lib/python3.10/dist-packages (from jsonschema>=2.6->nbformat->notebook==6.4.8->google-colab) (23.1.0)\n",
            "Requirement already satisfied: pyrsistent!=0.17.0,!=0.17.1,!=0.17.2,>=0.14.0 in /usr/local/lib/python3.10/dist-packages (from jsonschema>=2.6->nbformat->notebook==6.4.8->google-colab) (0.19.3)\n",
            "Requirement already satisfied: cffi>=1.0.1 in /usr/local/lib/python3.10/dist-packages (from argon2-cffi-bindings->argon2-cffi->notebook==6.4.8->google-colab) (1.15.1)\n",
            "Requirement already satisfied: soupsieve>1.2 in /usr/local/lib/python3.10/dist-packages (from beautifulsoup4->nbconvert->notebook==6.4.8->google-colab) (2.4.1)\n",
            "Requirement already satisfied: webencodings in /usr/local/lib/python3.10/dist-packages (from bleach->nbconvert->notebook==6.4.8->google-colab) (0.5.1)\n",
            "Requirement already satisfied: pycparser in /usr/local/lib/python3.10/dist-packages (from cffi>=1.0.1->argon2-cffi-bindings->argon2-cffi->notebook==6.4.8->google-colab) (2.21)\n"
          ]
        }
      ],
      "source": [
        "!pip3 install google-colab"
      ]
    },
    {
      "cell_type": "code",
      "execution_count": null,
      "metadata": {
        "id": "i1nJM4827IWE"
      },
      "outputs": [],
      "source": [
        "import pandas as pd\n",
        "import os\n",
        "from sklearn.preprocessing import StandardScaler\n",
        "from sklearn.model_selection import train_test_split, KFold\n",
        "from sklearn.metrics import accuracy_score\n",
        "import torch\n",
        "import torch.nn as nn\n",
        "import torch.nn.functional as F\n",
        "import copy\n",
        "from torchinfo import summary\n",
        "import numpy as np\n",
        "import matplotlib.pyplot as plt\n",
        "\n",
        "from imblearn.over_sampling import SMOTE\n",
        "from imblearn.under_sampling import OneSidedSelection, InstanceHardnessThreshold, NearMiss, ClusterCentroids\n",
        "from sklearn.ensemble import AdaBoostClassifier\n",
        "from sklearn.preprocessing import LabelBinarizer\n",
        "\n",
        "from sklearn.metrics import classification_report, confusion_matrix, ConfusionMatrixDisplay\n",
        "from torch import nn, optim\n",
        "from torch.utils.data import TensorDataset, DataLoader\n",
        "import seaborn as sns\n"
      ]
    },
    {
      "cell_type": "code",
      "execution_count": null,
      "metadata": {
        "colab": {
          "base_uri": "https://localhost:8080/"
        },
        "id": "uquAXNAzpjba",
        "outputId": "0d1bc2d4-75a1-435b-cdf0-2ab3a0d18fcf"
      },
      "outputs": [
        {
          "output_type": "stream",
          "name": "stdout",
          "text": [
            "Drive already mounted at /content/drive; to attempt to forcibly remount, call drive.mount(\"/content/drive\", force_remount=True).\n"
          ]
        }
      ],
      "source": [
        "'''CONFIG FOR LOCAL / CLOUD RUNNING'''\n",
        "running_local = 'content' not in os.getcwd()\n",
        "if running_local:\n",
        "    path = ''\n",
        "else:\n",
        "    from google.colab import drive\n",
        "    drive.mount('/content/drive')\n",
        "    path = 'drive/MyDrive/StructuralBioinformatics/'"
      ]
    },
    {
      "cell_type": "code",
      "execution_count": null,
      "metadata": {
        "id": "_GVRc7Ky7IWG"
      },
      "outputs": [],
      "source": [
        "# RUN ONLY TO REBUILD DATASET CSV\n",
        "#dfs = []\n",
        "#for filename in os.listdir('features_ring'):\n",
        "#    if filename[-4:] == '.tsv':\n",
        "#        dfs.append(pd.read_csv('features_ring/' + filename, sep='\\t'))\n",
        "#df = pd.concat(dfs)\n",
        "#df"
      ]
    },
    {
      "cell_type": "code",
      "execution_count": null,
      "metadata": {
        "id": "rmKCVbWQ7IWG"
      },
      "outputs": [],
      "source": [
        "# don't need to execute - only to export df for training in cloud\n",
        "#df.to_csv('contact_df.csv')"
      ]
    },
    {
      "cell_type": "code",
      "execution_count": null,
      "metadata": {
        "colab": {
          "base_uri": "https://localhost:8080/"
        },
        "id": "PcBk80rJ7IWI",
        "outputId": "0649cba1-0aca-4352-95d1-b1792af8123c"
      },
      "outputs": [
        {
          "output_type": "execute_result",
          "data": {
            "text/plain": [
              "0               VDW\n",
              "1             HBOND\n",
              "2             HBOND\n",
              "3         PIPISTACK\n",
              "4             HBOND\n",
              "            ...    \n",
              "454188          VDW\n",
              "454189        HBOND\n",
              "454190          VDW\n",
              "454191        HBOND\n",
              "454192        HBOND\n",
              "Name: Interaction, Length: 454193, dtype: category\n",
              "Categories (6, object): ['HBOND', 'IONIC', 'PICATION', 'PIPISTACK', 'SSBOND', 'VDW']"
            ]
          },
          "metadata": {},
          "execution_count": 6
        }
      ],
      "source": [
        "df = pd.read_csv(path + 'data/contact_df.csv')\n",
        "df.dropna(inplace=True)\n",
        "\n",
        "# Define ground truth values\n",
        "y = df['Interaction'].astype('category')\n",
        "y_oneHot = pd.get_dummies(y)\n",
        "cat_names = list(y.cat.categories)\n",
        "y\n"
      ]
    },
    {
      "cell_type": "code",
      "source": [
        "# Define training features\n",
        "X = df[['s_rsa', 's_up', 's_down', 's_phi', 's_psi', 's_a1', 's_a2', 's_a3', 's_a4', 's_a5',\n",
        "        't_rsa', 't_up', 't_down', 't_phi', 't_psi', 't_a1', 't_a2', 't_a3', 't_a4', 't_a5']]\n",
        "\n",
        "#is this working?\n",
        "X = X.fillna({col: X[col].mode()[0] for col in X.columns})\n",
        "\n",
        "print(\"Scaling data...\")\n",
        "scaler = StandardScaler()\n",
        "X_scaled = scaler.fit_transform(X)"
      ],
      "metadata": {
        "colab": {
          "base_uri": "https://localhost:8080/"
        },
        "id": "xwKYDnU7qLwa",
        "outputId": "68f75351-a0fb-404c-9423-51cd5427715c"
      },
      "execution_count": null,
      "outputs": [
        {
          "output_type": "stream",
          "name": "stdout",
          "text": [
            "Scaling data...\n"
          ]
        }
      ]
    },
    {
      "cell_type": "code",
      "execution_count": null,
      "metadata": {
        "id": "tPxPV5w_7IWK"
      },
      "outputs": [],
      "source": [
        "# Create the test and train split (from ORIGINAL data)\n",
        "\n",
        "X_train, X_test, y_train, y_test = train_test_split(X_scaled, y_oneHot, test_size=0.1, random_state=123, stratify=y_oneHot)\n",
        "\n",
        "# TO FIX: WE NEED A VALIDATION SET THAT IS NOT AFFECTED BY THE PREPROCESSING!\n",
        "# For now, I'm using the test set with a constraint on the indexes in the training function to use as a validation set, but we need a better solution.\n",
        "\n",
        "n_splits=10\n",
        "kf = KFold(n_splits=n_splits, shuffle=True)"
      ]
    },
    {
      "cell_type": "code",
      "execution_count": null,
      "metadata": {
        "colab": {
          "base_uri": "https://localhost:8080/"
        },
        "id": "God_1B2t7IWJ",
        "outputId": "79e0b1b8-473a-4dcd-c9dc-b1723792dd6e"
      },
      "outputs": [
        {
          "output_type": "stream",
          "name": "stdout",
          "text": [
            "Undersampling data...\n",
            "Oversampling data...\n"
          ]
        }
      ],
      "source": [
        "# Preprocessing TRAIN DATA ONLY\n",
        "\n",
        "#X_scaled = pd.DataFrame(X_scaled, columns=X.columns) #why are we casting it to a DF?\n",
        "X_train = np.array(X_train) #undersampler and oversampler expects arrays\n",
        "y_train = np.array(y_train) #undersampler and oversampler expects arrays\n",
        "\n",
        "\n",
        "if True:\n",
        "  print(\"Undersampling data...\")\n",
        "  undersample = InstanceHardnessThreshold(estimator=AdaBoostClassifier(),sampling_strategy={0:3*22703,5:2*21318})\n",
        "  X_train, y_train = undersample.fit_resample(X_train, y_train)\n",
        "\n",
        "  print(\"Oversampling data...\")\n",
        "  oversample = SMOTE(sampling_strategy={1:16189,2:11349,3:16444,4:11997})\n",
        "  X_train, y_train = oversample.fit_resample(X_train, y_train)"
      ]
    },
    {
      "cell_type": "code",
      "source": [
        "np.sum(count)"
      ],
      "metadata": {
        "colab": {
          "base_uri": "https://localhost:8080/"
        },
        "id": "yOO9d8m68C3U",
        "outputId": "49a96cac-3c1e-42a6-c214-5cf986e21336"
      },
      "execution_count": null,
      "outputs": [
        {
          "output_type": "execute_result",
          "data": {
            "text/plain": [
              "454193"
            ]
          },
          "metadata": {},
          "execution_count": 96
        }
      ]
    },
    {
      "cell_type": "code",
      "source": [
        "count"
      ],
      "metadata": {
        "colab": {
          "base_uri": "https://localhost:8080/"
        },
        "id": "Funtvayd5HwL",
        "outputId": "065d243e-060c-443a-c393-a375bfdaf17e"
      },
      "execution_count": null,
      "outputs": [
        {
          "output_type": "execute_result",
          "data": {
            "text/plain": [
              "array([297636,   8002,    545,   9218,    781, 138011])"
            ]
          },
          "metadata": {},
          "execution_count": 88
        }
      ]
    },
    {
      "cell_type": "code",
      "source": [
        "lc = np.log10(count)\n",
        "normlc = lc / np.sum(lc)\n",
        "np.round(normlc*100000)"
      ],
      "metadata": {
        "colab": {
          "base_uri": "https://localhost:8080/"
        },
        "id": "fPTeKJIy4kum",
        "outputId": "6cd5a3e2-d467-4c8f-a5e4-d85ed57b701f"
      },
      "execution_count": null,
      "outputs": [
        {
          "output_type": "execute_result",
          "data": {
            "text/plain": [
              "array([22703., 16189., 11349., 16444., 11997., 21318.])"
            ]
          },
          "metadata": {},
          "execution_count": 124
        }
      ]
    },
    {
      "cell_type": "code",
      "execution_count": null,
      "metadata": {
        "id": "uy9HuXulU1gw"
      },
      "outputs": [],
      "source": [
        "# Recast into Dataframes (to fix: conventionally np.arrays are to be fed to the network, not DataFrames)\n",
        "\n",
        "X_train = pd.DataFrame(X_train, columns=X.columns)\n",
        "y_train = pd.DataFrame(y_train)\n",
        "\n",
        "X_test = pd.DataFrame(X_test, columns=X.columns)\n",
        "y_test = pd.DataFrame(y_test)"
      ]
    },
    {
      "cell_type": "code",
      "execution_count": null,
      "metadata": {
        "colab": {
          "base_uri": "https://localhost:8080/",
          "height": 452
        },
        "id": "Hb14_Lg-pjbb",
        "outputId": "d14bbd54-9f82-4a47-91d8-90604ea5e381"
      },
      "outputs": [
        {
          "output_type": "display_data",
          "data": {
            "text/plain": [
              "<Figure size 640x480 with 1 Axes>"
            ],
            "image/png": "[encoded data removed]"
          },
          "metadata": {}
        }
      ],
      "source": [
        "y_arg = np.argmax(y_oneHot.values, axis=1)\n",
        "y_arg_processed = np.argmax(y_train.values, axis=1)\n",
        "_, count = np.unique(y_arg, return_counts=True)\n",
        "class_count = dict(zip(cat_names, count))\n",
        "_, count_processed = np.unique(y_arg_processed, return_counts=True)\n",
        "class_count_processed = dict(zip(cat_names, count_processed))\n",
        "\n",
        "fig, ax = plt.subplots()\n",
        "x = np.arange(len(cat_names))  # label locations\n",
        "width = 0.35  # width of the bars\n",
        "rects1 = ax.bar(x - width/2, count, width, label='Orginal')\n",
        "rects2 = ax.bar(x + width/2, count_processed, width, label='Preprocessed')\n",
        "\n",
        "# Add labels, title, and legend\n",
        "ax.set_ylabel('Examples')\n",
        "ax.set_ylabel('Contact type')\n",
        "ax.set_title('Number of contacts by bond type')\n",
        "ax.set_xticks(x)\n",
        "ax.set_xticklabels(cat_names)\n",
        "ax.legend()\n",
        "\n",
        "plt.show()"
      ]
    },
    {
      "cell_type": "code",
      "execution_count": null,
      "metadata": {
        "colab": {
          "base_uri": "https://localhost:8080/"
        },
        "id": "u0Y845Xj7IWL",
        "outputId": "3843e8e8-7316-4563-988b-a78d84889024"
      },
      "outputs": [
        {
          "output_type": "execute_result",
          "data": {
            "text/plain": [
              "=================================================================\n",
              "Layer (type:depth-idx)                   Param #\n",
              "=================================================================\n",
              "ContactNet                               --\n",
              "├─ModuleList: 1-1                        --\n",
              "│    └─Linear: 2-1                       1,344\n",
              "│    └─Dropout: 2-2                      --\n",
              "│    └─Linear: 2-3                       8,320\n",
              "│    └─Dropout: 2-4                      --\n",
              "│    └─Linear: 2-5                       33,024\n",
              "│    └─Dropout: 2-6                      --\n",
              "│    └─Linear: 2-7                       65,792\n",
              "│    └─Dropout: 2-8                      --\n",
              "│    └─Linear: 2-9                       514\n",
              "=================================================================\n",
              "Total params: 108,994\n",
              "Trainable params: 108,994\n",
              "Non-trainable params: 0\n",
              "================================================================="
            ]
          },
          "metadata": {},
          "execution_count": 37
        }
      ],
      "source": [
        "class ContactNet(nn.Module):\n",
        "    def __init__(self, input_dim, num_classes, hidden_layers_dim=[], dropout_prob=0.2):\n",
        "        super().__init__()\n",
        "        self.layers = nn.ModuleList()\n",
        "        if len(hidden_layers_dim) == 0:\n",
        "            self.layers = self.layers.append(nn.Linear(input_dim, num_classes))\n",
        "        else:\n",
        "            for layer_idx in range(len(hidden_layers_dim)):\n",
        "                if layer_idx == 0:  # first layer, from input to hidden\n",
        "                    self.layers = self.layers.append(nn.Linear(input_dim, hidden_layers_dim[layer_idx]))\n",
        "                else:  # hidden layers, depending on the input\n",
        "                    self.layers = self.layers.append(nn.Linear(hidden_layers_dim[layer_idx-1], hidden_layers_dim[layer_idx]))\n",
        "                self.layers.append(nn.Dropout(p=dropout_prob)) # add dropout layer after each hidden layer\n",
        "            self.layers = self.layers.append(nn.Linear(hidden_layers_dim[-1], 1))  # final output layer\n",
        "        self.apply(self._init_weights)\n",
        "\n",
        "    def _init_weights(self, module):\n",
        "        if isinstance(module, nn.Linear):\n",
        "            module.weight.data.normal_(mean=0.0, std=.1)\n",
        "            if module.bias is not None:\n",
        "                module.bias.data.zero_()\n",
        "\n",
        "    def forward(self, x):\n",
        "        if not isinstance(x, torch.Tensor):\n",
        "            x = torch.Tensor(x)\n",
        "        if x.dtype != torch.float32:\n",
        "            x = x.float()\n",
        "        if len(self.layers) == 1:\n",
        "            return self.layers[0](x)\n",
        "        else:\n",
        "            for layer in self.layers[:-1]:\n",
        "                x = F.relu(layer(x))\n",
        "        return F.log_softmax(x, dim=1)#self.layers[-1](x)\n",
        "\n",
        "input_size = X.shape[1]  # The number of input features\n",
        "num_classes = y_oneHot.shape[1] # The number of output classes\n",
        "\n",
        "model = ContactNet(input_size, num_classes, [64, 128, 256, 256])\n",
        "\n",
        "# Criterion and optimizer\n",
        "#criterion = nn.CrossEntropyLoss()\n",
        "criterion = nn.BCELoss ()\n",
        "lr = 1e-3\n",
        "optimizer = torch.optim.Adam(model.parameters(), lr=lr)\n",
        "\n",
        "summary(model)"
      ]
    },
    {
      "cell_type": "code",
      "execution_count": null,
      "metadata": {
        "id": "Ik79A97A7IWM"
      },
      "outputs": [],
      "source": [
        "class EarlyStopping:\n",
        "    def __init__(self, tolerance, min_delta):\n",
        "        self.tolerance = tolerance\n",
        "        self.min_delta = min_delta\n",
        "        self.counter = 0\n",
        "        self.early_stop = False\n",
        "\n",
        "    def __call__(self, train_loss, validation_loss):\n",
        "        if abs(validation_loss - train_loss) > self.min_delta:\n",
        "            self.counter += 1\n",
        "            if self.counter >= self.tolerance:\n",
        "                self.early_stop = True\n",
        "\n",
        "device = torch.device(\"cuda\" if torch.cuda.is_available() else \"cpu\")\n",
        "\n",
        "# TO DO: Cast all dataframes to np.arrays or torch.tensors\n",
        "\n",
        "def train(model, optimizer, num_epochs, l2_lambda=0.01):\n",
        "    early_stopping = EarlyStopping(tolerance=10, min_delta=0.01) # slow to learn, so it has to be VERY tolerant\n",
        "\n",
        "    train_losses = []\n",
        "    val_losses = []\n",
        "    train_accuracies = []\n",
        "    val_accuracies = []\n",
        "\n",
        "    current_fold_counter=0\n",
        "\n",
        "    for train_index, val_index in kf.split(X_train): # temporarily discarding kfold to test on test set and have a baseline. Remember to reindent all under this\n",
        "\n",
        "      current_fold_counter += 1\n",
        "\n",
        "      early_stopping.early_stop = False\n",
        "      early_stopping.counter = 0\n",
        "\n",
        "      X_train_fold = X_train.values #Recasted to a pd.DataFrame but ideally we should use np.ndarray everywhere\n",
        "      y_train_fold = y_train.values\n",
        "\n",
        "\n",
        "      # Here I'm just trying to see if maybe I can reuse the entire test set with validation indexes from X_train without going out of bound.\n",
        "      # I don't even know if this makes sense but that's the only thing that I could think as of right now\n",
        "      # val_index_adjusted = val_index[val_index < len(X_test)]\n",
        "      # X_val_fold = X_test.values[val_index_adjusted]\n",
        "      # y_val_fold = y_test.values[val_index_adjusted]\n",
        "      X_val_fold = X_train.values[val_index]\n",
        "      y_val_fold = y_train.values[val_index]\n",
        "\n",
        "      for epoch in range(num_epochs):\n",
        "          out = model(torch.tensor(X_train_fold))\n",
        "          y_train_fold_labels = np.argmax(y_train_fold, axis=1)\n",
        "          loss = criterion(out, torch.tensor(y_train_fold_labels).long())\n",
        "\n",
        "          ############## L2 Regularization ################\n",
        "          parameters = torch.tensor([], device=device)\n",
        "\n",
        "          for param in model.parameters():\n",
        "              flattened_param = param.view(-1)\n",
        "              parameters = torch.cat((parameters, flattened_param), dim=0)\n",
        "\n",
        "          l2_norm = torch.linalg.norm(parameters, 2).pow(2)\n",
        "          loss = loss + l2_norm * l2_lambda\n",
        "\n",
        "          #################################################\n",
        "\n",
        "          optimizer.zero_grad()\n",
        "          loss.backward()\n",
        "          optimizer.step()\n",
        "\n",
        "          with torch.no_grad():\n",
        "\n",
        "            val_outputs = model(torch.tensor(X_val_fold))\n",
        "            y_val_fold_labels = np.argmax(y_val_fold, axis=1)\n",
        "            val_loss = criterion(val_outputs, torch.tensor(y_val_fold_labels).long())\n",
        "            _, val_preds = torch.max(val_outputs, 1)\n",
        "            val_accuracy = accuracy_score(y_val_fold_labels, val_preds) # are we sure this is correct?\n",
        "            train_accuracy = accuracy_score(y_train_fold_labels, torch.argmax(out, 1))\n",
        "\n",
        "            ############# Testing other ways ###############\n",
        "\n",
        "            #train_outputs = model(torch.tensor(X_train_fold))\n",
        "            #y_train_fold_labels = np.argmax(y_train_fold, axis=1)\n",
        "            #train_loss = criterion(train_outputs, torch.tensor(y_train_fold_labels).long())\n",
        "            #_, train_preds = torch.max(train_outputs, 1)\n",
        "            #train_accuracy = accuracy_score(y_train_fold_labels, train_preds)\n",
        "\n",
        "            #val_outputs = model(torch.tensor(X_val_fold))\n",
        "            #y_val_fold_labels = np.argmax(y_val_fold, axis=1)\n",
        "            #val_loss = criterion(val_outputs, torch.tensor(y_val_fold_labels).long())\n",
        "            #_, val_preds = torch.max(val_outputs, 1)\n",
        "            #val_accuracy = accuracy_score(y_val_fold_labels, val_preds)\n",
        "\n",
        "            ################################################\n",
        "\n",
        "\n",
        "\n",
        "\n",
        "\n",
        "          print(f'Fold: {current_fold_counter}/{n_splits} - Epoch {epoch+1}/{num_epochs}')\n",
        "          print(f'Train Loss: {loss.item()} - Validation Loss: {val_loss.item()} - Train Accuracy: {train_accuracy} - Validation Accuracy: {val_accuracy}')\n",
        "\n",
        "          train_losses.append(loss.item())\n",
        "          val_losses.append(val_loss.item())\n",
        "          train_accuracies.append(train_accuracy)\n",
        "          val_accuracies.append(val_accuracy)\n",
        "\n",
        "\n",
        "            # Check for early stopping\n",
        "            #early_stopping(loss.item(), val_loss.item())\n",
        "            #if early_stopping.early_stop:\n",
        "            #    print('Early stopping triggered...')\n",
        "            #    break\n",
        "\n",
        "        #if early_stopping.early_stop:\n",
        "        #    break\n",
        "\n",
        "    return train_losses, val_losses, train_accuracies, val_accuracies"
      ]
    },
    {
      "cell_type": "code",
      "source": [
        "class OvAClassifier:\n",
        "    def __init__(self, base_model, num_classes):\n",
        "        self.models = [copy.deepcopy(base_model) for _ in range(num_classes)]\n",
        "\n",
        "    def fit(self, X, y, num_epochs):\n",
        "      X = torch.tensor(X)\n",
        "      y = torch.tensor(y)\n",
        "      for i, model in enumerate(self.models):\n",
        "          # Adjust labels so that the class of interest is 1 and all others are 0\n",
        "          y_arg = torch.argmax(y, dim=1)\n",
        "          y_adjusted = (y_arg == i).float()\n",
        "          #y_adjusted = (torch.tensor(y) == i).float()\n",
        "          optimizer = torch.optim.Adam(model.parameters())\n",
        "          criterion = nn.BCEWithLogitsLoss()\n",
        "\n",
        "          for epoch in range(num_epochs):\n",
        "              optimizer.zero_grad()\n",
        "              outputs = model(X)\n",
        "              loss = criterion(outputs, y_arg)\n",
        "              loss.backward()\n",
        "              optimizer.step()\n",
        "\n",
        "    def predict(self, X):\n",
        "        with torch.no_grad():\n",
        "            outputs = [model(X) for model in self.models]\n",
        "        # Choose the class with the highest output\n",
        "        return torch.argmax(torch.stack(outputs), dim=0)\n"
      ],
      "metadata": {
        "id": "StjTfOMRbq5i"
      },
      "execution_count": null,
      "outputs": []
    },
    {
      "cell_type": "code",
      "source": [
        "model(torch.tensor(X_train.values)).shape"
      ],
      "metadata": {
        "colab": {
          "base_uri": "https://localhost:8080/"
        },
        "id": "6EP8v5QOkf6-",
        "outputId": "e7f64f22-293f-4788-95b3-a73968261e3c"
      },
      "execution_count": null,
      "outputs": [
        {
          "output_type": "execute_result",
          "data": {
            "text/plain": [
              "torch.Size([170533, 256])"
            ]
          },
          "metadata": {},
          "execution_count": 17
        }
      ]
    },
    {
      "cell_type": "code",
      "source": [
        "ova = OvAClassifier(model, num_classes)"
      ],
      "metadata": {
        "id": "lxcGEXjfcwLq"
      },
      "execution_count": null,
      "outputs": []
    },
    {
      "cell_type": "code",
      "source": [
        "(torch.tensor(y_train.values)==1).float().shape"
      ],
      "metadata": {
        "colab": {
          "base_uri": "https://localhost:8080/"
        },
        "id": "vSL1-OaBeE-A",
        "outputId": "cf2ab762-911b-49da-b4ea-e384fe7c6f00"
      },
      "execution_count": null,
      "outputs": [
        {
          "output_type": "execute_result",
          "data": {
            "text/plain": [
              "torch.Size([170533, 6])"
            ]
          },
          "metadata": {},
          "execution_count": 16
        }
      ]
    },
    {
      "cell_type": "code",
      "source": [
        "ova.fit(X_train.values, y_train.values, 10)"
      ],
      "metadata": {
        "colab": {
          "base_uri": "https://localhost:8080/",
          "height": 345
        },
        "id": "DRE7-oIHd7hL",
        "outputId": "b685eab2-06d6-4253-b58f-8b28330cc371"
      },
      "execution_count": null,
      "outputs": [
        {
          "output_type": "error",
          "ename": "ValueError",
          "evalue": "ignored",
          "traceback": [
            "\u001b[0;31m---------------------------------------------------------------------------\u001b[0m",
            "\u001b[0;31mValueError\u001b[0m                                Traceback (most recent call last)",
            "\u001b[0;32m<ipython-input-34-0d3fa83d538e>\u001b[0m in \u001b[0;36m<cell line: 1>\u001b[0;34m()\u001b[0m\n\u001b[0;32m----> 1\u001b[0;31m \u001b[0mova\u001b[0m\u001b[0;34m.\u001b[0m\u001b[0mfit\u001b[0m\u001b[0;34m(\u001b[0m\u001b[0mX_train\u001b[0m\u001b[0;34m.\u001b[0m\u001b[0mvalues\u001b[0m\u001b[0;34m,\u001b[0m \u001b[0my_train\u001b[0m\u001b[0;34m.\u001b[0m\u001b[0mvalues\u001b[0m\u001b[0;34m,\u001b[0m \u001b[0;36m10\u001b[0m\u001b[0;34m)\u001b[0m\u001b[0;34m\u001b[0m\u001b[0;34m\u001b[0m\u001b[0m\n\u001b[0m",
            "\u001b[0;32m<ipython-input-28-c30136c3c702>\u001b[0m in \u001b[0;36mfit\u001b[0;34m(self, X, y, num_epochs)\u001b[0m\n\u001b[1;32m     17\u001b[0m               \u001b[0moptimizer\u001b[0m\u001b[0;34m.\u001b[0m\u001b[0mzero_grad\u001b[0m\u001b[0;34m(\u001b[0m\u001b[0;34m)\u001b[0m\u001b[0;34m\u001b[0m\u001b[0;34m\u001b[0m\u001b[0m\n\u001b[1;32m     18\u001b[0m               \u001b[0moutputs\u001b[0m \u001b[0;34m=\u001b[0m \u001b[0mmodel\u001b[0m\u001b[0;34m(\u001b[0m\u001b[0mX\u001b[0m\u001b[0;34m)\u001b[0m\u001b[0;34m\u001b[0m\u001b[0;34m\u001b[0m\u001b[0m\n\u001b[0;32m---> 19\u001b[0;31m               \u001b[0mloss\u001b[0m \u001b[0;34m=\u001b[0m \u001b[0mcriterion\u001b[0m\u001b[0;34m(\u001b[0m\u001b[0moutputs\u001b[0m\u001b[0;34m,\u001b[0m \u001b[0my_arg\u001b[0m\u001b[0;34m)\u001b[0m\u001b[0;34m\u001b[0m\u001b[0;34m\u001b[0m\u001b[0m\n\u001b[0m\u001b[1;32m     20\u001b[0m               \u001b[0mloss\u001b[0m\u001b[0;34m.\u001b[0m\u001b[0mbackward\u001b[0m\u001b[0;34m(\u001b[0m\u001b[0;34m)\u001b[0m\u001b[0;34m\u001b[0m\u001b[0;34m\u001b[0m\u001b[0m\n\u001b[1;32m     21\u001b[0m               \u001b[0moptimizer\u001b[0m\u001b[0;34m.\u001b[0m\u001b[0mstep\u001b[0m\u001b[0;34m(\u001b[0m\u001b[0;34m)\u001b[0m\u001b[0;34m\u001b[0m\u001b[0;34m\u001b[0m\u001b[0m\n",
            "\u001b[0;32m/usr/local/lib/python3.10/dist-packages/torch/nn/modules/module.py\u001b[0m in \u001b[0;36m_call_impl\u001b[0;34m(self, *args, **kwargs)\u001b[0m\n\u001b[1;32m   1499\u001b[0m                 \u001b[0;32mor\u001b[0m \u001b[0m_global_backward_pre_hooks\u001b[0m \u001b[0;32mor\u001b[0m \u001b[0m_global_backward_hooks\u001b[0m\u001b[0;34m\u001b[0m\u001b[0;34m\u001b[0m\u001b[0m\n\u001b[1;32m   1500\u001b[0m                 or _global_forward_hooks or _global_forward_pre_hooks):\n\u001b[0;32m-> 1501\u001b[0;31m             \u001b[0;32mreturn\u001b[0m \u001b[0mforward_call\u001b[0m\u001b[0;34m(\u001b[0m\u001b[0;34m*\u001b[0m\u001b[0margs\u001b[0m\u001b[0;34m,\u001b[0m \u001b[0;34m**\u001b[0m\u001b[0mkwargs\u001b[0m\u001b[0;34m)\u001b[0m\u001b[0;34m\u001b[0m\u001b[0;34m\u001b[0m\u001b[0m\n\u001b[0m\u001b[1;32m   1502\u001b[0m         \u001b[0;31m# Do not call functions when jit is used\u001b[0m\u001b[0;34m\u001b[0m\u001b[0;34m\u001b[0m\u001b[0m\n\u001b[1;32m   1503\u001b[0m         \u001b[0mfull_backward_hooks\u001b[0m\u001b[0;34m,\u001b[0m \u001b[0mnon_full_backward_hooks\u001b[0m \u001b[0;34m=\u001b[0m \u001b[0;34m[\u001b[0m\u001b[0;34m]\u001b[0m\u001b[0;34m,\u001b[0m \u001b[0;34m[\u001b[0m\u001b[0;34m]\u001b[0m\u001b[0;34m\u001b[0m\u001b[0;34m\u001b[0m\u001b[0m\n",
            "\u001b[0;32m/usr/local/lib/python3.10/dist-packages/torch/nn/modules/loss.py\u001b[0m in \u001b[0;36mforward\u001b[0;34m(self, input, target)\u001b[0m\n\u001b[1;32m    718\u001b[0m \u001b[0;34m\u001b[0m\u001b[0m\n\u001b[1;32m    719\u001b[0m     \u001b[0;32mdef\u001b[0m \u001b[0mforward\u001b[0m\u001b[0;34m(\u001b[0m\u001b[0mself\u001b[0m\u001b[0;34m,\u001b[0m \u001b[0minput\u001b[0m\u001b[0;34m:\u001b[0m \u001b[0mTensor\u001b[0m\u001b[0;34m,\u001b[0m \u001b[0mtarget\u001b[0m\u001b[0;34m:\u001b[0m \u001b[0mTensor\u001b[0m\u001b[0;34m)\u001b[0m \u001b[0;34m->\u001b[0m \u001b[0mTensor\u001b[0m\u001b[0;34m:\u001b[0m\u001b[0;34m\u001b[0m\u001b[0;34m\u001b[0m\u001b[0m\n\u001b[0;32m--> 720\u001b[0;31m         return F.binary_cross_entropy_with_logits(input, target,\n\u001b[0m\u001b[1;32m    721\u001b[0m                                                   \u001b[0mself\u001b[0m\u001b[0;34m.\u001b[0m\u001b[0mweight\u001b[0m\u001b[0;34m,\u001b[0m\u001b[0;34m\u001b[0m\u001b[0;34m\u001b[0m\u001b[0m\n\u001b[1;32m    722\u001b[0m                                                   \u001b[0mpos_weight\u001b[0m\u001b[0;34m=\u001b[0m\u001b[0mself\u001b[0m\u001b[0;34m.\u001b[0m\u001b[0mpos_weight\u001b[0m\u001b[0;34m,\u001b[0m\u001b[0;34m\u001b[0m\u001b[0;34m\u001b[0m\u001b[0m\n",
            "\u001b[0;32m/usr/local/lib/python3.10/dist-packages/torch/nn/functional.py\u001b[0m in \u001b[0;36mbinary_cross_entropy_with_logits\u001b[0;34m(input, target, weight, size_average, reduce, reduction, pos_weight)\u001b[0m\n\u001b[1;32m   3161\u001b[0m \u001b[0;34m\u001b[0m\u001b[0m\n\u001b[1;32m   3162\u001b[0m     \u001b[0;32mif\u001b[0m \u001b[0;32mnot\u001b[0m \u001b[0;34m(\u001b[0m\u001b[0mtarget\u001b[0m\u001b[0;34m.\u001b[0m\u001b[0msize\u001b[0m\u001b[0;34m(\u001b[0m\u001b[0;34m)\u001b[0m \u001b[0;34m==\u001b[0m \u001b[0minput\u001b[0m\u001b[0;34m.\u001b[0m\u001b[0msize\u001b[0m\u001b[0;34m(\u001b[0m\u001b[0;34m)\u001b[0m\u001b[0;34m)\u001b[0m\u001b[0;34m:\u001b[0m\u001b[0;34m\u001b[0m\u001b[0;34m\u001b[0m\u001b[0m\n\u001b[0;32m-> 3163\u001b[0;31m         \u001b[0;32mraise\u001b[0m \u001b[0mValueError\u001b[0m\u001b[0;34m(\u001b[0m\u001b[0;34m\"Target size ({}) must be the same as input size ({})\"\u001b[0m\u001b[0;34m.\u001b[0m\u001b[0mformat\u001b[0m\u001b[0;34m(\u001b[0m\u001b[0mtarget\u001b[0m\u001b[0;34m.\u001b[0m\u001b[0msize\u001b[0m\u001b[0;34m(\u001b[0m\u001b[0;34m)\u001b[0m\u001b[0;34m,\u001b[0m \u001b[0minput\u001b[0m\u001b[0;34m.\u001b[0m\u001b[0msize\u001b[0m\u001b[0;34m(\u001b[0m\u001b[0;34m)\u001b[0m\u001b[0;34m)\u001b[0m\u001b[0;34m)\u001b[0m\u001b[0;34m\u001b[0m\u001b[0;34m\u001b[0m\u001b[0m\n\u001b[0m\u001b[1;32m   3164\u001b[0m \u001b[0;34m\u001b[0m\u001b[0m\n\u001b[1;32m   3165\u001b[0m     \u001b[0;32mreturn\u001b[0m \u001b[0mtorch\u001b[0m\u001b[0;34m.\u001b[0m\u001b[0mbinary_cross_entropy_with_logits\u001b[0m\u001b[0;34m(\u001b[0m\u001b[0minput\u001b[0m\u001b[0;34m,\u001b[0m \u001b[0mtarget\u001b[0m\u001b[0;34m,\u001b[0m \u001b[0mweight\u001b[0m\u001b[0;34m,\u001b[0m \u001b[0mpos_weight\u001b[0m\u001b[0;34m,\u001b[0m \u001b[0mreduction_enum\u001b[0m\u001b[0;34m)\u001b[0m\u001b[0;34m\u001b[0m\u001b[0;34m\u001b[0m\u001b[0m\n",
            "\u001b[0;31mValueError\u001b[0m: Target size (torch.Size([170533])) must be the same as input size (torch.Size([170533, 256]))"
          ]
        }
      ]
    },
    {
      "cell_type": "code",
      "execution_count": null,
      "metadata": {
        "colab": {
          "base_uri": "https://localhost:8080/"
        },
        "id": "ywIQxX5ZhY8e",
        "outputId": "389b56a1-6eef-4ee5-c75e-15bf1080d43b"
      },
      "outputs": [
        {
          "output_type": "stream",
          "name": "stdout",
          "text": [
            "Fold: 1/10 - Epoch 1/20\n",
            "Train Loss: 5.567069053649902 - Validation Loss: 5.540438175201416 - Train Accuracy: 0.00032286848099185195 - Validation Accuracy: 0.006046375110067508\n",
            "Fold: 1/10 - Epoch 2/20\n",
            "Train Loss: 5.5404229164123535 - Validation Loss: 5.507997035980225 - Train Accuracy: 0.006304740883368164 - Validation Accuracy: 0.03105371294393895\n",
            "Fold: 1/10 - Epoch 3/20\n",
            "Train Loss: 5.508038520812988 - Validation Loss: 5.468595027923584 - Train Accuracy: 0.032280977763167164 - Validation Accuracy: 0.07285001467566775\n",
            "Fold: 1/10 - Epoch 4/20\n",
            "Train Loss: 5.468201160430908 - Validation Loss: 5.419612884521484 - Train Accuracy: 0.07386643811491769 - Validation Accuracy: 0.11987085412386264\n",
            "Fold: 1/10 - Epoch 5/20\n",
            "Train Loss: 5.419787883758545 - Validation Loss: 5.362026691436768 - Train Accuracy: 0.12136919717284618 - Validation Accuracy: 0.1760493102436161\n",
            "Fold: 1/10 - Epoch 6/20\n",
            "Train Loss: 5.363181114196777 - Validation Loss: 5.29461145401001 - Train Accuracy: 0.1734508183248409 - Validation Accuracy: 0.22494863516289992\n",
            "Fold: 1/10 - Epoch 7/20\n",
            "Train Loss: 5.296581268310547 - Validation Loss: 5.215452194213867 - Train Accuracy: 0.21929227228966586 - Validation Accuracy: 0.2586439683005577\n",
            "Fold: 1/10 - Epoch 8/20\n",
            "Train Loss: 5.215710639953613 - Validation Loss: 5.116976261138916 - Train Accuracy: 0.25976236879799 - Validation Accuracy: 0.2910478426768418\n",
            "Fold: 1/10 - Epoch 9/20\n",
            "Train Loss: 5.1181488037109375 - Validation Loss: 4.9976372718811035 - Train Accuracy: 0.29139760959917343 - Validation Accuracy: 0.3172879366011154\n",
            "Fold: 1/10 - Epoch 10/20\n",
            "Train Loss: 5.001938819885254 - Validation Loss: 4.855708599090576 - Train Accuracy: 0.3152487848404443 - Validation Accuracy: 0.3293806868212504\n",
            "Fold: 1/10 - Epoch 11/20\n",
            "Train Loss: 4.858940601348877 - Validation Loss: 4.684220790863037 - Train Accuracy: 0.33218470425247143 - Validation Accuracy: 0.3442911652480188\n",
            "Fold: 1/10 - Epoch 12/20\n",
            "Train Loss: 4.69098424911499 - Validation Loss: 4.484095573425293 - Train Accuracy: 0.3423579965717238 - Validation Accuracy: 0.35086586439683004\n",
            "Fold: 1/10 - Epoch 13/20\n",
            "Train Loss: 4.488671779632568 - Validation Loss: 4.250516891479492 - Train Accuracy: 0.34828703594993776 - Validation Accuracy: 0.354740240680951\n",
            "Fold: 1/10 - Epoch 14/20\n",
            "Train Loss: 4.259526252746582 - Validation Loss: 3.999028205871582 - Train Accuracy: 0.3504003569164299 - Validation Accuracy: 0.3522160258291752\n",
            "Fold: 1/10 - Epoch 15/20\n",
            "Train Loss: 3.9981417655944824 - Validation Loss: 3.727555274963379 - Train Accuracy: 0.3516037758001268 - Validation Accuracy: 0.3579688875843851\n",
            "Fold: 1/10 - Epoch 16/20\n",
            "Train Loss: 3.720963478088379 - Validation Loss: 3.4675838947296143 - Train Accuracy: 0.35230821612229085 - Validation Accuracy: 0.35092456706780156\n",
            "Fold: 1/10 - Epoch 17/20\n",
            "Train Loss: 3.459617853164673 - Validation Loss: 3.2531161308288574 - Train Accuracy: 0.35131025899922513 - Validation Accuracy: 0.35203991781626065\n",
            "Fold: 1/10 - Epoch 18/20\n",
            "Train Loss: 3.2416982650756836 - Validation Loss: 3.095479726791382 - Train Accuracy: 0.3520792730175875 - Validation Accuracy: 0.3575579688875844\n",
            "Fold: 1/10 - Epoch 19/20\n",
            "Train Loss: 3.1125905513763428 - Validation Loss: 3.0311450958251953 - Train Accuracy: 0.35265456594735484 - Validation Accuracy: 0.3582036982682712\n",
            "Fold: 1/10 - Epoch 20/20\n",
            "Train Loss: 3.048631429672241 - Validation Loss: 3.0432636737823486 - Train Accuracy: 0.3543569633925846 - Validation Accuracy: 0.35914294100381566\n",
            "Fold: 2/10 - Epoch 1/20\n",
            "Train Loss: 3.028353452682495 - Validation Loss: 2.9683401584625244 - Train Accuracy: 0.35647028435907674 - Validation Accuracy: 0.3611975344878192\n",
            "Fold: 2/10 - Epoch 2/20\n",
            "Train Loss: 2.9683070182800293 - Validation Loss: 2.951233148574829 - Train Accuracy: 0.36386690774179914 - Validation Accuracy: 0.3712943938949222\n",
            "Fold: 2/10 - Epoch 3/20\n",
            "Train Loss: 2.9228413105010986 - Validation Loss: 2.8635101318359375 - Train Accuracy: 0.3714044191889544 - Validation Accuracy: 0.3703551511593777\n",
            "Fold: 2/10 - Epoch 4/20\n",
            "Train Loss: 2.900418281555176 - Validation Loss: 2.892781972885132 - Train Accuracy: 0.3709524033155658 - Validation Accuracy: 0.3577927795714705\n",
            "Fold: 2/10 - Epoch 5/20\n",
            "Train Loss: 2.9075164794921875 - Validation Loss: 2.9043452739715576 - Train Accuracy: 0.3573214830816916 - Validation Accuracy: 0.3404167889638979\n",
            "Fold: 2/10 - Epoch 6/20\n",
            "Train Loss: 2.9049549102783203 - Validation Loss: 2.899395704269409 - Train Accuracy: 0.346925117993754 - Validation Accuracy: 0.34018197828001173\n",
            "Fold: 2/10 - Epoch 7/20\n",
            "Train Loss: 2.8767483234405518 - Validation Loss: 2.839993715286255 - Train Accuracy: 0.34338530537487966 - Validation Accuracy: 0.34769592016436746\n",
            "Fold: 2/10 - Epoch 8/20\n",
            "Train Loss: 2.818617343902588 - Validation Loss: 2.7520487308502197 - Train Accuracy: 0.3516155164721629 - Validation Accuracy: 0.36131493982976226\n",
            "Fold: 2/10 - Epoch 9/20\n",
            "Train Loss: 2.7700300216674805 - Validation Loss: 2.738236904144287 - Train Accuracy: 0.36285133961067934 - Validation Accuracy: 0.3792779571470502\n",
            "Fold: 2/10 - Epoch 10/20\n",
            "Train Loss: 2.7228310108184814 - Validation Loss: 2.709484577178955 - Train Accuracy: 0.38081456782586237 - Validation Accuracy: 0.3952450836513061\n",
            "Fold: 2/10 - Epoch 11/20\n",
            "Train Loss: 2.6864511966705322 - Validation Loss: 2.6772139072418213 - Train Accuracy: 0.3938114917697889 - Validation Accuracy: 0.40498972703257996\n",
            "Fold: 2/10 - Epoch 12/20\n",
            "Train Loss: 2.6635854244232178 - Validation Loss: 2.647036075592041 - Train Accuracy: 0.40620964143987603 - Validation Accuracy: 0.41215145289110655\n",
            "Fold: 2/10 - Epoch 13/20\n",
            "Train Loss: 2.65539288520813 - Validation Loss: 2.6826982498168945 - Train Accuracy: 0.41226195787446873 - Validation Accuracy: 0.4074552392133842\n",
            "Fold: 2/10 - Epoch 14/20\n",
            "Train Loss: 2.6541380882263184 - Validation Loss: 2.652717113494873 - Train Accuracy: 0.41641815577523655 - Validation Accuracy: 0.416084531846199\n",
            "Fold: 2/10 - Epoch 15/20\n",
            "Train Loss: 2.6590263843536377 - Validation Loss: 2.67043399810791 - Train Accuracy: 0.41796205414797943 - Validation Accuracy: 0.41391253302025244\n",
            "Fold: 2/10 - Epoch 16/20\n",
            "Train Loss: 2.652214527130127 - Validation Loss: 2.6177916526794434 - Train Accuracy: 0.41888956723882875 - Validation Accuracy: 0.4268858233049604\n",
            "Fold: 2/10 - Epoch 17/20\n",
            "Train Loss: 2.6377508640289307 - Validation Loss: 2.621917724609375 - Train Accuracy: 0.42263484161833426 - Validation Accuracy: 0.4228940416788964\n",
            "Fold: 2/10 - Epoch 18/20\n",
            "Train Loss: 2.630524158477783 - Validation Loss: 2.6135644912719727 - Train Accuracy: 0.4237795571418508 - Validation Accuracy: 0.4229527443498679\n",
            "Fold: 2/10 - Epoch 19/20\n",
            "Train Loss: 2.6143720149993896 - Validation Loss: 2.6030280590057373 - Train Accuracy: 0.42420809167116724 - Validation Accuracy: 0.42524214851775755\n",
            "Fold: 2/10 - Epoch 20/20\n",
            "Train Loss: 2.5897932052612305 - Validation Loss: 2.6127097606658936 - Train Accuracy: 0.42774790429004156 - Validation Accuracy: 0.4233049603756971\n",
            "Fold: 3/10 - Epoch 1/20\n",
            "Train Loss: 2.573525905609131 - Validation Loss: 2.562936305999756 - Train Accuracy: 0.43017235306548945 - Validation Accuracy: 0.43105371294393896\n",
            "Fold: 3/10 - Epoch 2/20\n",
            "Train Loss: 2.551811933517456 - Validation Loss: 2.5295145511627197 - Train Accuracy: 0.43444008735059997 - Validation Accuracy: 0.4329321984150279\n",
            "Fold: 3/10 - Epoch 3/20\n",
            "Train Loss: 2.535639762878418 - Validation Loss: 2.5339131355285645 - Train Accuracy: 0.43627750252424446 - Validation Accuracy: 0.4362195479894335\n",
            "Fold: 3/10 - Epoch 4/20\n",
            "Train Loss: 2.5237295627593994 - Validation Loss: 2.464587688446045 - Train Accuracy: 0.43972338976683023 - Validation Accuracy: 0.44373348987378924\n",
            "Fold: 3/10 - Epoch 5/20\n",
            "Train Loss: 2.5116446018218994 - Validation Loss: 2.5006821155548096 - Train Accuracy: 0.4395942423744335 - Validation Accuracy: 0.44167889638978575\n",
            "Fold: 3/10 - Epoch 6/20\n",
            "Train Loss: 2.5046257972717285 - Validation Loss: 2.499345541000366 - Train Accuracy: 0.44014018362411067 - Validation Accuracy: 0.43809803346052245\n",
            "Fold: 3/10 - Epoch 7/20\n",
            "Train Loss: 2.506196975708008 - Validation Loss: 2.516094207763672 - Train Accuracy: 0.4406156808415714 - Validation Accuracy: 0.4375697094217787\n",
            "Fold: 3/10 - Epoch 8/20\n",
            "Train Loss: 2.488912582397461 - Validation Loss: 2.467172145843506 - Train Accuracy: 0.442640946767793 - Validation Accuracy: 0.44525975931904904\n",
            "Fold: 3/10 - Epoch 9/20\n",
            "Train Loss: 2.4915618896484375 - Validation Loss: 2.4832005500793457 - Train Accuracy: 0.44467208303003264 - Validation Accuracy: 0.44531846199002056\n",
            "Fold: 3/10 - Epoch 10/20\n",
            "Train Loss: 2.481605052947998 - Validation Loss: 2.480762004852295 - Train Accuracy: 0.4467032192922723 - Validation Accuracy: 0.447255650132081\n",
            "Fold: 3/10 - Epoch 11/20\n",
            "Train Loss: 2.4681448936462402 - Validation Loss: 2.4437808990478516 - Train Accuracy: 0.4511294526498697 - Validation Accuracy: 0.45694159084238334\n",
            "Fold: 3/10 - Epoch 12/20\n",
            "Train Loss: 2.4589085578918457 - Validation Loss: 2.4493772983551025 - Train Accuracy: 0.453624345457534 - Validation Accuracy: 0.46058115644261816\n",
            "Fold: 3/10 - Epoch 13/20\n",
            "Train Loss: 2.4537155628204346 - Validation Loss: 2.4485714435577393 - Train Accuracy: 0.45586681381642286 - Validation Accuracy: 0.4585265629586146\n",
            "Fold: 3/10 - Epoch 14/20\n",
            "Train Loss: 2.4445738792419434 - Validation Loss: 2.4422872066497803 - Train Accuracy: 0.45764552562988703 - Validation Accuracy: 0.45905488699735836\n",
            "Fold: 3/10 - Epoch 15/20\n",
            "Train Loss: 2.4303507804870605 - Validation Loss: 2.459684133529663 - Train Accuracy: 0.4604104538943809 - Validation Accuracy: 0.4596419137070737\n",
            "Fold: 3/10 - Epoch 16/20\n",
            "Train Loss: 2.437587022781372 - Validation Loss: 2.444603204727173 - Train Accuracy: 0.45901918425810695 - Validation Accuracy: 0.45441737599060755\n",
            "Fold: 3/10 - Epoch 17/20\n",
            "Train Loss: 2.425032377243042 - Validation Loss: 2.4354944229125977 - Train Accuracy: 0.4626235705731796 - Validation Accuracy: 0.45588494276489583\n",
            "Fold: 3/10 - Epoch 18/20\n",
            "Train Loss: 2.4332215785980225 - Validation Loss: 2.44553279876709 - Train Accuracy: 0.4595299034916759 - Validation Accuracy: 0.45723510419724095\n",
            "Fold: 3/10 - Epoch 19/20\n",
            "Train Loss: 2.4183924198150635 - Validation Loss: 2.432697057723999 - Train Accuracy: 0.464607744147275 - Validation Accuracy: 0.469327854417376\n",
            "Fold: 3/10 - Epoch 20/20\n",
            "Train Loss: 2.4032461643218994 - Validation Loss: 2.39605712890625 - Train Accuracy: 0.4685291286073215 - Validation Accuracy: 0.47654828294687407\n",
            "Fold: 4/10 - Epoch 1/20\n",
            "Train Loss: 2.407104015350342 - Validation Loss: 2.4066567420959473 - Train Accuracy: 0.4685995726395379 - Validation Accuracy: 0.47085412386263575\n",
            "Fold: 4/10 - Epoch 2/20\n",
            "Train Loss: 2.386739492416382 - Validation Loss: 2.4024388790130615 - Train Accuracy: 0.4729612323009369 - Validation Accuracy: 0.47226298796595245\n",
            "Fold: 4/10 - Epoch 3/20\n",
            "Train Loss: 2.396040678024292 - Validation Loss: 2.3866851329803467 - Train Accuracy: 0.47353065489468615 - Validation Accuracy: 0.4771940123275609\n",
            "Fold: 4/10 - Epoch 4/20\n",
            "Train Loss: 2.382981538772583 - Validation Loss: 2.3933987617492676 - Train Accuracy: 0.47641886021555874 - Validation Accuracy: 0.47326093337246844\n",
            "Fold: 4/10 - Epoch 5/20\n",
            "Train Loss: 2.37215518951416 - Validation Loss: 2.3283028602600098 - Train Accuracy: 0.4780566839645901 - Validation Accuracy: 0.4862342236571764\n",
            "Fold: 4/10 - Epoch 6/20\n",
            "Train Loss: 2.365253210067749 - Validation Loss: 2.3417181968688965 - Train Accuracy: 0.47975321107380187 - Validation Accuracy: 0.4800117405341943\n",
            "Fold: 4/10 - Epoch 7/20\n",
            "Train Loss: 2.3570399284362793 - Validation Loss: 2.3172717094421387 - Train Accuracy: 0.4830758212600089 - Validation Accuracy: 0.48834751981215146\n",
            "Fold: 4/10 - Epoch 8/20\n",
            "Train Loss: 2.3589155673980713 - Validation Loss: 2.3329546451568604 - Train Accuracy: 0.48037546669171344 - Validation Accuracy: 0.486410331670091\n",
            "Fold: 4/10 - Epoch 9/20\n",
            "Train Loss: 2.3499579429626465 - Validation Loss: 2.3101561069488525 - Train Accuracy: 0.48393876065465985 - Validation Accuracy: 0.488406222483123\n",
            "Fold: 4/10 - Epoch 10/20\n",
            "Train Loss: 2.345979690551758 - Validation Loss: 2.3466455936431885 - Train Accuracy: 0.484484701904337 - Validation Accuracy: 0.48646903434106253\n",
            "Fold: 4/10 - Epoch 11/20\n",
            "Train Loss: 2.3541464805603027 - Validation Loss: 2.322664260864258 - Train Accuracy: 0.4839739826707681 - Validation Accuracy: 0.492398004109187\n",
            "Fold: 4/10 - Epoch 12/20\n",
            "Train Loss: 2.33296275138855 - Validation Loss: 2.361929178237915 - Train Accuracy: 0.488840491229718 - Validation Accuracy: 0.48787789844437923\n",
            "Fold: 4/10 - Epoch 13/20\n",
            "Train Loss: 2.3405544757843018 - Validation Loss: 2.342454433441162 - Train Accuracy: 0.4882710686359687 - Validation Accuracy: 0.4928676254769592\n",
            "Fold: 4/10 - Epoch 14/20\n",
            "Train Loss: 2.3323001861572266 - Validation Loss: 2.343702793121338 - Train Accuracy: 0.48882288022166387 - Validation Accuracy: 0.48541238626357497\n",
            "Fold: 4/10 - Epoch 15/20\n",
            "Train Loss: 2.3118948936462402 - Validation Loss: 2.3287904262542725 - Train Accuracy: 0.49297907812243175 - Validation Accuracy: 0.4940416788963898\n",
            "Fold: 4/10 - Epoch 16/20\n",
            "Train Loss: 2.3129379749298096 - Validation Loss: 2.308830738067627 - Train Accuracy: 0.49317866954704487 - Validation Accuracy: 0.49498092163193425\n",
            "Fold: 4/10 - Epoch 17/20\n",
            "Train Loss: 2.3117802143096924 - Validation Loss: 2.325282335281372 - Train Accuracy: 0.49478127127996807 - Validation Accuracy: 0.490519518638098\n",
            "Fold: 4/10 - Epoch 18/20\n",
            "Train Loss: 2.3026773929595947 - Validation Loss: 2.3129711151123047 - Train Accuracy: 0.49582032075516 - Validation Accuracy: 0.4969181097739947\n",
            "Fold: 4/10 - Epoch 19/20\n",
            "Train Loss: 2.30039381980896 - Validation Loss: 2.283923864364624 - Train Accuracy: 0.49896682086082605 - Validation Accuracy: 0.5006750807161726\n",
            "Fold: 4/10 - Epoch 20/20\n",
            "Train Loss: 2.288043737411499 - Validation Loss: 2.2874131202697754 - Train Accuracy: 0.4999647779838918 - Validation Accuracy: 0.49638978573525094\n",
            "Fold: 5/10 - Epoch 1/20\n",
            "Train Loss: 2.2849225997924805 - Validation Loss: 2.259399652481079 - Train Accuracy: 0.500352220161082 - Validation Accuracy: 0.5040211329615497\n",
            "Fold: 5/10 - Epoch 2/20\n",
            "Train Loss: 2.2906837463378906 - Validation Loss: 2.2872090339660645 - Train Accuracy: 0.5009803461150116 - Validation Accuracy: 0.5031992955679483\n",
            "Fold: 5/10 - Epoch 3/20\n",
            "Train Loss: 2.2903330326080322 - Validation Loss: 2.276581048965454 - Train Accuracy: 0.5009275130908494 - Validation Accuracy: 0.5042559436454359\n",
            "Fold: 5/10 - Epoch 4/20\n",
            "Train Loss: 2.281874179840088 - Validation Loss: 2.301121473312378 - Train Accuracy: 0.5015497687087609 - Validation Accuracy: 0.4963310830642794\n",
            "Fold: 5/10 - Epoch 5/20\n",
            "Train Loss: 2.2773690223693848 - Validation Loss: 2.2831802368164062 - Train Accuracy: 0.5032052034658464 - Validation Accuracy: 0.505606105077781\n",
            "Fold: 5/10 - Epoch 6/20\n",
            "Train Loss: 2.2673301696777344 - Validation Loss: 2.269760847091675 - Train Accuracy: 0.5037628853875595 - Validation Accuracy: 0.5064279424713825\n",
            "Fold: 5/10 - Epoch 7/20\n",
            "Train Loss: 2.26389741897583 - Validation Loss: 2.2860405445098877 - Train Accuracy: 0.5058292436659074 - Validation Accuracy: 0.5033167009098914\n",
            "Fold: 5/10 - Epoch 8/20\n",
            "Train Loss: 2.266638994216919 - Validation Loss: 2.2788641452789307 - Train Accuracy: 0.5061345011388452 - Validation Accuracy: 0.5030231875550337\n",
            "Fold: 5/10 - Epoch 9/20\n",
            "Train Loss: 2.2544989585876465 - Validation Loss: 2.256424903869629 - Train Accuracy: 0.5088465963791767 - Validation Accuracy: 0.5116524801878486\n",
            "Fold: 5/10 - Epoch 10/20\n",
            "Train Loss: 2.2468130588531494 - Validation Loss: 2.2292771339416504 - Train Accuracy: 0.5098973865264048 - Validation Accuracy: 0.5107132374523041\n",
            "Fold: 5/10 - Epoch 11/20\n",
            "Train Loss: 2.244184970855713 - Validation Loss: 2.236532211303711 - Train Accuracy: 0.5116115246436707 - Validation Accuracy: 0.5106545347813326\n",
            "Fold: 5/10 - Epoch 12/20\n",
            "Train Loss: 2.245777130126953 - Validation Loss: 2.218764066696167 - Train Accuracy: 0.5115352102754361 - Validation Accuracy: 0.5128852362782507\n",
            "Fold: 5/10 - Epoch 13/20\n",
            "Train Loss: 2.241635322570801 - Validation Loss: 2.2606265544891357 - Train Accuracy: 0.5109246953295606 - Validation Accuracy: 0.5126504255943646\n",
            "Fold: 5/10 - Epoch 14/20\n",
            "Train Loss: 2.2335503101348877 - Validation Loss: 2.2192373275756836 - Train Accuracy: 0.5127092774790429 - Validation Accuracy: 0.51746404461403\n",
            "Fold: 5/10 - Epoch 15/20\n",
            "Train Loss: 2.2331557273864746 - Validation Loss: 2.2567901611328125 - Train Accuracy: 0.5129851832718905 - Validation Accuracy: 0.5124156149104784\n",
            "Fold: 5/10 - Epoch 16/20\n",
            "Train Loss: 2.2080559730529785 - Validation Loss: 2.1796953678131104 - Train Accuracy: 0.5185267804729142 - Validation Accuracy: 0.5201056648077488\n",
            "Fold: 5/10 - Epoch 17/20\n",
            "Train Loss: 2.218717098236084 - Validation Loss: 2.2113194465637207 - Train Accuracy: 0.5176873224223355 - Validation Accuracy: 0.5141766950396243\n",
            "Fold: 5/10 - Epoch 18/20\n",
            "Train Loss: 2.2166402339935303 - Validation Loss: 2.2014994621276855 - Train Accuracy: 0.5175229530138306 - Validation Accuracy: 0.5219841502788377\n",
            "Fold: 5/10 - Epoch 19/20\n",
            "Train Loss: 2.210296630859375 - Validation Loss: 2.2213497161865234 - Train Accuracy: 0.5203583253105408 - Validation Accuracy: 0.520692691517464\n",
            "Fold: 5/10 - Epoch 20/20\n",
            "Train Loss: 2.2055904865264893 - Validation Loss: 2.200099229812622 - Train Accuracy: 0.5199708831333506 - Validation Accuracy: 0.5233930143821544\n",
            "Fold: 6/10 - Epoch 1/20\n",
            "Train Loss: 2.207857847213745 - Validation Loss: 2.1879982948303223 - Train Accuracy: 0.5206342311033884 - Validation Accuracy: 0.5253889051951863\n",
            "Fold: 6/10 - Epoch 2/20\n",
            "Train Loss: 2.1993308067321777 - Validation Loss: 2.1640102863311768 - Train Accuracy: 0.5211860426890835 - Validation Accuracy: 0.5260346345758732\n",
            "Fold: 6/10 - Epoch 3/20\n",
            "Train Loss: 2.1962027549743652 - Validation Loss: 2.2009353637695312 - Train Accuracy: 0.5230586798788363 - Validation Accuracy: 0.5223950689756384\n",
            "Fold: 6/10 - Epoch 4/20\n",
            "Train Loss: 2.1791834831237793 - Validation Loss: 2.1991398334503174 - Train Accuracy: 0.5256768497428793 - Validation Accuracy: 0.5193425300851189\n",
            "Fold: 6/10 - Epoch 5/20\n",
            "Train Loss: 2.185182571411133 - Validation Loss: 2.159877300262451 - Train Accuracy: 0.5246554112757414 - Validation Accuracy: 0.526445553272674\n",
            "Fold: 6/10 - Epoch 6/20\n",
            "Train Loss: 2.185922861099243 - Validation Loss: 2.169861316680908 - Train Accuracy: 0.526504567121422 - Validation Accuracy: 0.52668036395656\n",
            "Fold: 6/10 - Epoch 7/20\n",
            "Train Loss: 2.172679901123047 - Validation Loss: 2.206792116165161 - Train Accuracy: 0.5291403479935192 - Validation Accuracy: 0.5283240387437629\n",
            "Fold: 6/10 - Epoch 8/20\n",
            "Train Loss: 2.1690673828125 - Validation Loss: 2.16353178024292 - Train Accuracy: 0.5294221241223848 - Validation Accuracy: 0.5286175520986205\n",
            "Fold: 6/10 - Epoch 9/20\n",
            "Train Loss: 2.1590559482574463 - Validation Loss: 2.1561193466186523 - Train Accuracy: 0.5313417240002818 - Validation Accuracy: 0.5302025242148518\n",
            "Fold: 6/10 - Epoch 10/20\n",
            "Train Loss: 2.1639626026153564 - Validation Loss: 2.137676954269409 - Train Accuracy: 0.531200835935849 - Validation Accuracy: 0.5326093337246844\n",
            "Fold: 6/10 - Epoch 11/20\n",
            "Train Loss: 2.152271270751953 - Validation Loss: 2.151287078857422 - Train Accuracy: 0.5339188015121985 - Validation Accuracy: 0.5333724684473143\n",
            "Fold: 6/10 - Epoch 12/20\n",
            "Train Loss: 2.1532492637634277 - Validation Loss: 2.1602184772491455 - Train Accuracy: 0.5338659684880362 - Validation Accuracy: 0.5344291165248019\n",
            "Fold: 6/10 - Epoch 13/20\n",
            "Train Loss: 2.1557793617248535 - Validation Loss: 2.1263620853424072 - Train Accuracy: 0.5327212529645197 - Validation Accuracy: 0.5404754916348694\n",
            "Fold: 6/10 - Epoch 14/20\n",
            "Train Loss: 2.1424763202667236 - Validation Loss: 2.1196582317352295 - Train Accuracy: 0.5358207903820414 - Validation Accuracy: 0.5435280305253889\n",
            "Fold: 6/10 - Epoch 15/20\n",
            "Train Loss: 2.1446661949157715 - Validation Loss: 2.1281702518463135 - Train Accuracy: 0.5354744405569775 - Validation Accuracy: 0.5340181978280012\n",
            "Fold: 6/10 - Epoch 16/20\n",
            "Train Loss: 2.133193254470825 - Validation Loss: 2.125906467437744 - Train Accuracy: 0.5379752037006599 - Validation Accuracy: 0.5378925741121221\n",
            "Fold: 6/10 - Epoch 17/20\n",
            "Train Loss: 2.1379990577697754 - Validation Loss: 2.1172492504119873 - Train Accuracy: 0.5384330899100664 - Validation Accuracy: 0.5448781919577341\n",
            "Fold: 6/10 - Epoch 18/20\n",
            "Train Loss: 2.1337647438049316 - Validation Loss: 2.143162250518799 - Train Accuracy: 0.5391140488881584 - Validation Accuracy: 0.5361314939829762\n",
            "Fold: 6/10 - Epoch 19/20\n",
            "Train Loss: 2.1332926750183105 - Validation Loss: 2.10892391204834 - Train Accuracy: 0.5394662690492403 - Validation Accuracy: 0.5429997064866452\n",
            "Fold: 6/10 - Epoch 20/20\n",
            "Train Loss: 2.1254944801330566 - Validation Loss: 2.1523187160491943 - Train Accuracy: 0.5411627961584521 - Validation Accuracy: 0.5392427355444672\n",
            "Fold: 7/10 - Epoch 1/20\n",
            "Train Loss: 2.1094112396240234 - Validation Loss: 2.1467108726501465 - Train Accuracy: 0.5426714725150867 - Validation Accuracy: 0.5431758144995598\n",
            "Fold: 7/10 - Epoch 2/20\n",
            "Train Loss: 2.1174678802490234 - Validation Loss: 2.1182444095611572 - Train Accuracy: 0.5438631507267476 - Validation Accuracy: 0.538773114176695\n",
            "Fold: 7/10 - Epoch 3/20\n",
            "Train Loss: 2.1071128845214844 - Validation Loss: 2.104736566543579 - Train Accuracy: 0.5456359922041938 - Validation Accuracy: 0.5433519225124743\n",
            "Fold: 7/10 - Epoch 4/20\n",
            "Train Loss: 2.1016530990600586 - Validation Loss: 2.093646287918091 - Train Accuracy: 0.5452309390189495 - Validation Accuracy: 0.5456413266803639\n",
            "Fold: 7/10 - Epoch 5/20\n",
            "Train Loss: 2.1004998683929443 - Validation Loss: 2.1055095195770264 - Train Accuracy: 0.5456653438842839 - Validation Accuracy: 0.5483416495450543\n",
            "Fold: 7/10 - Epoch 6/20\n",
            "Train Loss: 2.1066956520080566 - Validation Loss: 2.124757766723633 - Train Accuracy: 0.5458473243008429 - Validation Accuracy: 0.5448194892867625\n",
            "Fold: 7/10 - Epoch 7/20\n",
            "Train Loss: 2.094602346420288 - Validation Loss: 2.0862579345703125 - Train Accuracy: 0.5496219503604386 - Validation Accuracy: 0.5464044614029938\n",
            "Fold: 7/10 - Epoch 8/20\n",
            "Train Loss: 2.0964455604553223 - Validation Loss: 2.084238290786743 - Train Accuracy: 0.5490407870946533 - Validation Accuracy: 0.5481655415321397\n",
            "Fold: 7/10 - Epoch 9/20\n",
            "Train Loss: 2.084869384765625 - Validation Loss: 2.0747547149658203 - Train Accuracy: 0.5509721276445864 - Validation Accuracy: 0.5510419724097446\n",
            "Fold: 7/10 - Epoch 10/20\n",
            "Train Loss: 2.0831074714660645 - Validation Loss: 2.102630138397217 - Train Accuracy: 0.5510014793246766 - Validation Accuracy: 0.5493395949515703\n",
            "Fold: 7/10 - Epoch 11/20\n",
            "Train Loss: 2.0908358097076416 - Validation Loss: 2.085758924484253 - Train Accuracy: 0.5514887172141734 - Validation Accuracy: 0.5541532139712357\n",
            "Fold: 7/10 - Epoch 12/20\n",
            "Train Loss: 2.0766191482543945 - Validation Loss: 2.087184429168701 - Train Accuracy: 0.5539659990137835 - Validation Accuracy: 0.5494570002935134\n",
            "Fold: 7/10 - Epoch 13/20\n",
            "Train Loss: 2.076925754547119 - Validation Loss: 2.1140999794006348 - Train Accuracy: 0.5525512480334375 - Validation Accuracy: 0.5488112709128266\n",
            "Fold: 7/10 - Epoch 14/20\n",
            "Train Loss: 2.077862024307251 - Validation Loss: 2.095996618270874 - Train Accuracy: 0.5542419048066312 - Validation Accuracy: 0.5523334311711183\n",
            "Fold: 7/10 - Epoch 15/20\n",
            "Train Loss: 2.0716826915740967 - Validation Loss: 2.0737178325653076 - Train Accuracy: 0.5567661492943856 - Validation Accuracy: 0.553742295274435\n",
            "Fold: 7/10 - Epoch 16/20\n",
            "Train Loss: 2.065062999725342 - Validation Loss: 2.072932481765747 - Train Accuracy: 0.5561732453565642 - Validation Accuracy: 0.5540945113002642\n",
            "Fold: 7/10 - Epoch 17/20\n",
            "Train Loss: 2.0591254234313965 - Validation Loss: 2.079930543899536 - Train Accuracy: 0.5574236269284054 - Validation Accuracy: 0.5563252127971823\n",
            "Fold: 7/10 - Epoch 18/20\n",
            "Train Loss: 2.0628902912139893 - Validation Loss: 2.073667526245117 - Train Accuracy: 0.5569187780308544 - Validation Accuracy: 0.5553272673906663\n",
            "Fold: 7/10 - Epoch 19/20\n",
            "Train Loss: 2.0497078895568848 - Validation Loss: 2.0806705951690674 - Train Accuracy: 0.5599420010801418 - Validation Accuracy: 0.554740240680951\n",
            "Fold: 7/10 - Epoch 20/20\n",
            "Train Loss: 2.063093662261963 - Validation Loss: 2.0727243423461914 - Train Accuracy: 0.5591495057177073 - Validation Accuracy: 0.5511006750807161\n",
            "Fold: 8/10 - Epoch 1/20\n",
            "Train Loss: 2.0508832931518555 - Validation Loss: 2.067549228668213 - Train Accuracy: 0.5595193368868434 - Validation Accuracy: 0.5564426181391253\n",
            "Fold: 8/10 - Epoch 2/20\n",
            "Train Loss: 2.046748161315918 - Validation Loss: 2.054178237915039 - Train Accuracy: 0.5624427642238242 - Validation Accuracy: 0.559612562371588\n",
            "Fold: 8/10 - Epoch 3/20\n",
            "Train Loss: 2.0432839393615723 - Validation Loss: 2.071423292160034 - Train Accuracy: 0.5604116279615845 - Validation Accuracy: 0.5565013208100968\n",
            "Fold: 8/10 - Epoch 4/20\n",
            "Train Loss: 2.0483274459838867 - Validation Loss: 2.0368072986602783 - Train Accuracy: 0.56242515321577 - Validation Accuracy: 0.5617845611975345\n",
            "Fold: 8/10 - Epoch 5/20\n",
            "Train Loss: 2.0311341285705566 - Validation Loss: 1.991539478302002 - Train Accuracy: 0.5643564937657032 - Validation Accuracy: 0.5689462870560611\n",
            "Fold: 8/10 - Epoch 6/20\n",
            "Train Loss: 2.041576623916626 - Validation Loss: 2.0212595462799072 - Train Accuracy: 0.5626482259844553 - Validation Accuracy: 0.566950396243029\n",
            "Fold: 8/10 - Epoch 7/20\n",
            "Train Loss: 2.0440196990966797 - Validation Loss: 2.038015365600586 - Train Accuracy: 0.5627010590086177 - Validation Accuracy: 0.565952450836513\n",
            "Fold: 8/10 - Epoch 8/20\n",
            "Train Loss: 2.0260252952575684 - Validation Loss: 2.0486814975738525 - Train Accuracy: 0.5649259163594524 - Validation Accuracy: 0.5646609920751394\n",
            "Fold: 8/10 - Epoch 9/20\n",
            "Train Loss: 2.0394368171691895 - Validation Loss: 2.05116868019104 - Train Accuracy: 0.5615211214689929 - Validation Accuracy: 0.5646609920751394\n",
            "Fold: 8/10 - Epoch 10/20\n",
            "Train Loss: 2.045775890350342 - Validation Loss: 2.0267035961151123 - Train Accuracy: 0.5634935543710522 - Validation Accuracy: 0.5691810977399472\n",
            "Fold: 8/10 - Epoch 11/20\n",
            "Train Loss: 2.036591053009033 - Validation Loss: 2.0238354206085205 - Train Accuracy: 0.5671390330382511 - Validation Accuracy: 0.5663633695333138\n",
            "Fold: 8/10 - Epoch 12/20\n",
            "Train Loss: 2.03314471244812 - Validation Loss: 2.0230791568756104 - Train Accuracy: 0.5649493977035246 - Validation Accuracy: 0.571705312591723\n",
            "Fold: 8/10 - Epoch 13/20\n",
            "Train Loss: 2.025038242340088 - Validation Loss: 2.025310516357422 - Train Accuracy: 0.5673621058069364 - Validation Accuracy: 0.5683005576753742\n",
            "Fold: 8/10 - Epoch 14/20\n",
            "Train Loss: 2.0285427570343018 - Validation Loss: 2.0484402179718018 - Train Accuracy: 0.5674031981590626 - Validation Accuracy: 0.5624302905782214\n",
            "Fold: 8/10 - Epoch 15/20\n",
            "Train Loss: 2.0159499645233154 - Validation Loss: 2.0238144397735596 - Train Accuracy: 0.5692230023246531 - Validation Accuracy: 0.5708834751981215\n",
            "Fold: 8/10 - Epoch 16/20\n",
            "Train Loss: 2.01990008354187 - Validation Loss: 2.020923137664795 - Train Accuracy: 0.5697806842463663 - Validation Accuracy: 0.5722336366304667\n",
            "Fold: 8/10 - Epoch 17/20\n",
            "Train Loss: 2.0178778171539307 - Validation Loss: 2.001006841659546 - Train Accuracy: 0.5695869631577711 - Validation Accuracy: 0.5685940710302319\n",
            "Fold: 8/10 - Epoch 18/20\n",
            "Train Loss: 2.0185956954956055 - Validation Loss: 2.0113492012023926 - Train Accuracy: 0.5688062084673726 - Validation Accuracy: 0.5759906075726445\n",
            "Fold: 8/10 - Epoch 19/20\n",
            "Train Loss: 2.00780987739563 - Validation Loss: 1.9881407022476196 - Train Accuracy: 0.5719761899171109 - Validation Accuracy: 0.5682418550044027\n",
            "Fold: 8/10 - Epoch 20/20\n",
            "Train Loss: 2.0085935592651367 - Validation Loss: 2.007150888442993 - Train Accuracy: 0.5707316786812877 - Validation Accuracy: 0.5723510419724097\n",
            "Fold: 9/10 - Epoch 1/20\n",
            "Train Loss: 2.0052247047424316 - Validation Loss: 1.988423228263855 - Train Accuracy: 0.5711132505224599 - Validation Accuracy: 0.5761418339791006\n",
            "Fold: 9/10 - Epoch 2/20\n",
            "Train Loss: 2.0012855529785156 - Validation Loss: 2.0263986587524414 - Train Accuracy: 0.5725632235189142 - Validation Accuracy: 0.5712692262533756\n",
            "Fold: 9/10 - Epoch 3/20\n",
            "Train Loss: 2.002598762512207 - Validation Loss: 2.0027055740356445 - Train Accuracy: 0.573396811233475 - Validation Accuracy: 0.5738522954091816\n",
            "Fold: 9/10 - Epoch 4/20\n",
            "Train Loss: 2.0002644062042236 - Validation Loss: 2.0206589698791504 - Train Accuracy: 0.5737255500504849 - Validation Accuracy: 0.5738522954091816\n",
            "Fold: 9/10 - Epoch 5/20\n",
            "Train Loss: 2.0043766498565674 - Validation Loss: 1.9726532697677612 - Train Accuracy: 0.5724751684786438 - Validation Accuracy: 0.5773746624398263\n",
            "Fold: 9/10 - Epoch 6/20\n",
            "Train Loss: 1.9896363019943237 - Validation Loss: 1.991618275642395 - Train Accuracy: 0.5757155939605983 - Validation Accuracy: 0.5759657156275684\n",
            "Fold: 9/10 - Epoch 7/20\n",
            "Train Loss: 1.985008955001831 - Validation Loss: 2.0143051147460938 - Train Accuracy: 0.576537441003123 - Validation Accuracy: 0.576905013502407\n",
            "Fold: 9/10 - Epoch 8/20\n",
            "Train Loss: 1.9964317083358765 - Validation Loss: 1.9710760116577148 - Train Accuracy: 0.5757332049686524 - Validation Accuracy: 0.5828343313373253\n",
            "Fold: 9/10 - Epoch 9/20\n",
            "Train Loss: 1.9958713054656982 - Validation Loss: 1.9797216653823853 - Train Accuracy: 0.5736961983703948 - Validation Accuracy: 0.5809557355876482\n",
            "Fold: 9/10 - Epoch 10/20\n",
            "Train Loss: 1.990580677986145 - Validation Loss: 1.9994131326675415 - Train Accuracy: 0.5771420856129805 - Validation Accuracy: 0.5761418339791006\n",
            "Fold: 9/10 - Epoch 11/20\n",
            "Train Loss: 2.0042238235473633 - Validation Loss: 1.9753862619400024 - Train Accuracy: 0.5751461713668491 - Validation Accuracy: 0.5783139603146648\n",
            "Fold: 9/10 - Epoch 12/20\n",
            "Train Loss: 1.9886044263839722 - Validation Loss: 1.975681185722351 - Train Accuracy: 0.5770011975485477 - Validation Accuracy: 0.5787249031349067\n",
            "Fold: 9/10 - Epoch 13/20\n",
            "Train Loss: 1.9796726703643799 - Validation Loss: 1.987117886543274 - Train Accuracy: 0.5778289149270904 - Validation Accuracy: 0.5776681930257133\n",
            "Fold: 9/10 - Epoch 14/20\n",
            "Train Loss: 1.9895167350769043 - Validation Loss: 1.993204116821289 - Train Accuracy: 0.5775647498062789 - Validation Accuracy: 0.5825995068686157\n",
            "Fold: 9/10 - Epoch 15/20\n",
            "Train Loss: 1.9853485822677612 - Validation Loss: 1.9531724452972412 - Train Accuracy: 0.577764341230892 - Validation Accuracy: 0.5855935188446636\n",
            "Fold: 9/10 - Epoch 16/20\n",
            "Train Loss: 1.9746309518814087 - Validation Loss: 1.955432415008545 - Train Accuracy: 0.5811984878014418 - Validation Accuracy: 0.5828930374545027\n",
            "Fold: 9/10 - Epoch 17/20\n",
            "Train Loss: 1.9766250848770142 - Validation Loss: 1.9905455112457275 - Train Accuracy: 0.5796839411087891 - Validation Accuracy: 0.5812492661735352\n",
            "Fold: 9/10 - Epoch 18/20\n",
            "Train Loss: 1.9719254970550537 - Validation Loss: 1.9413071870803833 - Train Accuracy: 0.5811280437692253 - Validation Accuracy: 0.5916402489139369\n",
            "Fold: 9/10 - Epoch 19/20\n",
            "Train Loss: 1.9748311042785645 - Validation Loss: 1.9635597467422485 - Train Accuracy: 0.5801007349660695 - Validation Accuracy: 0.5831278619232124\n",
            "Fold: 9/10 - Epoch 20/20\n",
            "Train Loss: 1.9669318199157715 - Validation Loss: 1.9597175121307373 - Train Accuracy: 0.58227862962876 - Validation Accuracy: 0.5858283433133733\n",
            "Fold: 10/10 - Epoch 1/20\n",
            "Train Loss: 1.9739716053009033 - Validation Loss: 1.9774142503738403 - Train Accuracy: 0.5806349355437105 - Validation Accuracy: 0.5831278619232124\n",
            "Fold: 10/10 - Epoch 2/20\n",
            "Train Loss: 1.9716511964797974 - Validation Loss: 1.9675769805908203 - Train Accuracy: 0.5825251837415174 - Validation Accuracy: 0.5838910414465187\n",
            "Fold: 10/10 - Epoch 3/20\n",
            "Train Loss: 1.9679529666900635 - Validation Loss: 1.9723451137542725 - Train Accuracy: 0.5827365158381665 - Validation Accuracy: 0.580779617236116\n",
            "Fold: 10/10 - Epoch 4/20\n",
            "Train Loss: 1.972536563873291 - Validation Loss: 2.0189855098724365 - Train Accuracy: 0.5817561697231549 - Validation Accuracy: 0.5757308911588588\n",
            "Fold: 10/10 - Epoch 5/20\n",
            "Train Loss: 1.9727925062179565 - Validation Loss: 1.9514296054840088 - Train Accuracy: 0.5823608143330125 - Validation Accuracy: 0.5858283433133733\n",
            "Fold: 10/10 - Epoch 6/20\n",
            "Train Loss: 1.9606444835662842 - Validation Loss: 1.9474841356277466 - Train Accuracy: 0.5846795970601357 - Validation Accuracy: 0.5842432781495832\n",
            "Fold: 10/10 - Epoch 7/20\n",
            "Train Loss: 1.9568086862564087 - Validation Loss: 1.9569846391677856 - Train Accuracy: 0.5850376875572357 - Validation Accuracy: 0.588939767523776\n",
            "Fold: 10/10 - Epoch 8/20\n",
            "Train Loss: 1.9545153379440308 - Validation Loss: 1.9341131448745728 - Train Accuracy: 0.5860532556883556 - Validation Accuracy: 0.5883527063520019\n",
            "Fold: 10/10 - Epoch 9/20\n",
            "Train Loss: 1.9543458223342896 - Validation Loss: 1.9764070510864258 - Train Accuracy: 0.5863585131612934 - Validation Accuracy: 0.585652224961841\n",
            "Fold: 10/10 - Epoch 10/20\n",
            "Train Loss: 1.956113576889038 - Validation Loss: 1.9429566860198975 - Train Accuracy: 0.5864641792096179 - Validation Accuracy: 0.5865915228366796\n",
            "Fold: 10/10 - Epoch 11/20\n",
            "Train Loss: 1.959573745727539 - Validation Loss: 1.9626858234405518 - Train Accuracy: 0.5867694366825557 - Validation Accuracy: 0.5867089350710344\n",
            "Fold: 10/10 - Epoch 12/20\n",
            "Train Loss: 1.9457151889801025 - Validation Loss: 1.942038893699646 - Train Accuracy: 0.5868633620588443 - Validation Accuracy: 0.5871785840084537\n",
            "Fold: 10/10 - Epoch 13/20\n",
            "Train Loss: 1.963746428489685 - Validation Loss: 1.9520829916000366 - Train Accuracy: 0.5856716838471834 - Validation Accuracy: 0.5887636491722438\n",
            "Fold: 10/10 - Epoch 14/20\n",
            "Train Loss: 1.9595155715942383 - Validation Loss: 1.9615038633346558 - Train Accuracy: 0.587514969356846 - Validation Accuracy: 0.5877656451802278\n",
            "Fold: 10/10 - Epoch 15/20\n",
            "Train Loss: 1.9559314250946045 - Validation Loss: 1.9449448585510254 - Train Accuracy: 0.5872566745720526 - Validation Accuracy: 0.5938710813666784\n",
            "Fold: 10/10 - Epoch 16/20\n",
            "Train Loss: 1.9537923336029053 - Validation Loss: 1.9461504220962524 - Train Accuracy: 0.5881900579989199 - Validation Accuracy: 0.5893507103440179\n",
            "Fold: 10/10 - Epoch 17/20\n",
            "Train Loss: 1.9445018768310547 - Validation Loss: 1.9348623752593994 - Train Accuracy: 0.5893523845304905 - Validation Accuracy: 0.593107901843372\n",
            "Fold: 10/10 - Epoch 18/20\n",
            "Train Loss: 1.9414619207382202 - Validation Loss: 1.9399585723876953 - Train Accuracy: 0.5901448798929251 - Validation Accuracy: 0.5901725959845016\n",
            "Fold: 10/10 - Epoch 19/20\n",
            "Train Loss: 1.9396400451660156 - Validation Loss: 1.955489993095398 - Train Accuracy: 0.5898983257801677 - Validation Accuracy: 0.5932253140777269\n",
            "Fold: 10/10 - Epoch 20/20\n",
            "Train Loss: 1.9488192796707153 - Validation Loss: 1.945184350013733 - Train Accuracy: 0.5891645337779134 - Validation Accuracy: 0.5871198778912763\n"
          ]
        }
      ],
      "source": [
        "EPOCHS = 20\n",
        "l2_lambda = 0\n",
        "\n",
        "train_loss, val_loss, train_accuracy, val_accuracy = train(model, optimizer, num_epochs=EPOCHS, l2_lambda=l2_lambda)"
      ]
    },
    {
      "cell_type": "code",
      "execution_count": null,
      "metadata": {
        "colab": {
          "base_uri": "https://localhost:8080/",
          "height": 949
        },
        "id": "KO6yjMr_oKcV",
        "outputId": "28635bff-36fe-409c-8056-aada0fbe207c"
      },
      "outputs": [
        {
          "output_type": "display_data",
          "data": {
            "text/plain": [
              "<Figure size 1000x500 with 1 Axes>"
            ],
            "image/png": "[encoded data removed]"
          },
          "metadata": {}
        },
        {
          "output_type": "display_data",
          "data": {
            "text/plain": [
              "<Figure size 1000x500 with 1 Axes>"
            ],
            "image/png": "[encoded data removed]"
          },
          "metadata": {}
        }
      ],
      "source": [
        "\n",
        "\n",
        "# Plotting the losses\n",
        "plt.figure(figsize=(10, 5))\n",
        "plt.plot(train_loss, label='Train Loss')\n",
        "plt.plot(val_loss, label='Validation Loss')\n",
        "plt.xlabel('Epoch')\n",
        "plt.ylabel('Loss')\n",
        "plt.title('Training and Validation Loss')\n",
        "plt.legend()\n",
        "plt.show()\n",
        "\n",
        "# Plotting the accuracies\n",
        "plt.figure(figsize=(10, 5))\n",
        "plt.plot(train_accuracy, label='Train Accuracy')\n",
        "plt.plot(val_accuracy, label='Validation Accuracy')\n",
        "plt.xlabel('Epoch')\n",
        "plt.ylabel('Accuracy')\n",
        "plt.title('Training and Validation Accuracy')\n",
        "plt.legend()\n",
        "plt.show()"
      ]
    },
    {
      "cell_type": "code",
      "execution_count": null,
      "metadata": {
        "id": "7hHhzJHPpjbd"
      },
      "outputs": [],
      "source": [
        "\n",
        "if running_local:\n",
        "    PATH = \"model/model.pth\"\n",
        "else:\n",
        "    PATH = \"drive/MyDrive/StructuralBioinformatics/model/model.pth\""
      ]
    },
    {
      "cell_type": "code",
      "execution_count": null,
      "metadata": {
        "id": "AL2RgH5lYOnV"
      },
      "outputs": [],
      "source": [
        "torch.save(model, PATH)"
      ]
    },
    {
      "cell_type": "code",
      "execution_count": null,
      "metadata": {
        "id": "7D3Bjqr5X9xs",
        "colab": {
          "base_uri": "https://localhost:8080/"
        },
        "outputId": "1d376a0c-e961-451d-e851-6454e5cc5fca"
      },
      "outputs": [
        {
          "output_type": "execute_result",
          "data": {
            "text/plain": [
              "ContactNet(\n",
              "  (layers): ModuleList(\n",
              "    (0): Linear(in_features=20, out_features=32, bias=True)\n",
              "    (1): Dropout(p=0.2, inplace=False)\n",
              "    (2): Linear(in_features=32, out_features=64, bias=True)\n",
              "    (3): Dropout(p=0.2, inplace=False)\n",
              "    (4): Linear(in_features=64, out_features=128, bias=True)\n",
              "    (5): Dropout(p=0.2, inplace=False)\n",
              "    (6): Linear(in_features=128, out_features=128, bias=True)\n",
              "    (7): Dropout(p=0.2, inplace=False)\n",
              "    (8): Linear(in_features=128, out_features=6, bias=True)\n",
              "  )\n",
              ")"
            ]
          },
          "metadata": {},
          "execution_count": 112
        }
      ],
      "source": [
        "# Load Model For Inference\n",
        "\n",
        "model = torch.load(PATH)\n",
        "model.eval()"
      ]
    },
    {
      "cell_type": "code",
      "execution_count": null,
      "metadata": {
        "id": "_6Fz_SP6pjbd"
      },
      "outputs": [],
      "source": [
        "# Convert your test dataset into PyTorch tensors\n",
        "X_test_torch = torch.tensor(X_test.values).float()\n",
        "y_test_torch = torch.tensor(y_test.values).long()\n",
        "\n",
        "# Create a DataLoader for your test set\n",
        "test_dataset = TensorDataset(X_test_torch, y_test_torch)\n",
        "test_loader = DataLoader(test_dataset, batch_size=32)"
      ]
    },
    {
      "cell_type": "code",
      "execution_count": null,
      "metadata": {
        "colab": {
          "base_uri": "https://localhost:8080/"
        },
        "id": "IQJyqKtgpjbd",
        "outputId": "2b9e0e4f-c082-40a9-9a9f-005d3b5b979b"
      },
      "outputs": [
        {
          "output_type": "stream",
          "name": "stdout",
          "text": [
            "              precision    recall  f1-score   support\n",
            "\n",
            "       HBOND       0.80      0.60      0.69     29764\n",
            "       IONIC       0.23      0.90      0.36       800\n",
            "    PICATION       0.05      0.96      0.09        55\n",
            "   PIPISTACK       0.22      1.00      0.35       922\n",
            "      SSBOND       0.22      1.00      0.37        78\n",
            "         VDW       0.42      0.44      0.43     13801\n",
            "\n",
            "   micro avg       0.57      0.57      0.57     45420\n",
            "   macro avg       0.32      0.82      0.38     45420\n",
            "weighted avg       0.67      0.57      0.60     45420\n",
            " samples avg       0.57      0.57      0.57     45420\n",
            "\n"
          ]
        }
      ],
      "source": [
        "model.eval()\n",
        "y_pred = []\n",
        "y_true = []\n",
        "\n",
        "with torch.no_grad():\n",
        "    for inputs, labels in test_loader:\n",
        "        # Forward pass\n",
        "        outputs = model(inputs)\n",
        "\n",
        "        # Get predicted class indices\n",
        "        _, preds = torch.max(outputs, 1)\n",
        "\n",
        "        y_pred.extend(preds.tolist())\n",
        "        y_true.extend(labels.tolist())\n",
        "\n",
        "y_pred_oneHot = pd.get_dummies(y_pred, columns=5).values\n",
        "print(classification_report(y_true, y_pred_oneHot, target_names = cat_names))"
      ]
    },
    {
      "cell_type": "code",
      "source": [
        "accuracy_score(y_true, y_pred_oneHot)"
      ],
      "metadata": {
        "colab": {
          "base_uri": "https://localhost:8080/"
        },
        "id": "8GWy7IEgOOTe",
        "outputId": "1d6ceb75-9b13-473a-fb22-c425acd4578d"
      },
      "execution_count": null,
      "outputs": [
        {
          "output_type": "execute_result",
          "data": {
            "text/plain": [
              "0.5668428005284016"
            ]
          },
          "metadata": {},
          "execution_count": 170
        }
      ]
    },
    {
      "cell_type": "code",
      "execution_count": null,
      "metadata": {
        "id": "3rJpN91_pjbd",
        "colab": {
          "base_uri": "https://localhost:8080/",
          "height": 703
        },
        "outputId": "cb15b591-dc0e-43ad-fa1d-ca6b8469a8cf"
      },
      "outputs": [
        {
          "output_type": "display_data",
          "data": {
            "text/plain": [
              "<Figure size 1000x800 with 2 Axes>"
            ],
            "image/png": "[encoded data removed]"
          },
          "metadata": {}
        }
      ],
      "source": [
        "cm = confusion_matrix(np.argmax(y_true,axis=1), y_pred)\n",
        "cm_norm = cm.astype('float') / cm.sum(axis=1)[:, np.newaxis]\n",
        "\n",
        "fig, ax = plt.subplots(figsize=(10, 8))\n",
        "cm_display = ConfusionMatrixDisplay(confusion_matrix=cm, display_labels=cat_names)\n",
        "cm_display.plot(cmap='Blues', ax=ax)\n",
        "\n",
        "plt.title('Confusion Matrix')\n",
        "plt.ylabel('Actual Contact')\n",
        "plt.xlabel('Predicted Contact')\n",
        "plt.show()"
      ]
    }
  ],
  "metadata": {
    "colab": {
      "provenance": []
    },
    "kernelspec": {
      "display_name": "biopy",
      "language": "python",
      "name": "python3"
    },
    "language_info": {
      "codemirror_mode": {
        "name": "ipython",
        "version": 3
      },
      "file_extension": ".py",
      "mimetype": "text/x-python",
      "name": "python",
      "nbconvert_exporter": "python",
      "pygments_lexer": "ipython3",
      "version": "3.9.16"
    },
    "orig_nbformat": 4
  },
  "nbformat": 4,
  "nbformat_minor": 0
}