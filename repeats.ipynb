{
 "cells": [
  {
   "cell_type": "code",
   "execution_count": 26,
   "metadata": {},
   "outputs": [],
   "source": [
    "from Bio.SVDSuperimposer import SVDSuperimposer\n",
    "from Bio.PDB.PDBParser import PDBParser\n",
    "from Bio.PDB import PDBList\n",
    "import numpy as np\n",
    "from scipy.spatial.transform import Rotation"
   ]
  },
  {
   "cell_type": "code",
   "execution_count": 14,
   "metadata": {},
   "outputs": [
    {
     "name": "stdout",
     "output_type": "stream",
     "text": [
      "Downloading PDB structure '2q4g'...\n",
      "Desired structure doesn't exist\n"
     ]
    }
   ],
   "source": [
    "pdbid = '2q4g'\n",
    "chain = 'Y'\n",
    "repeats = \"2-30,31-58,59-87,88-115,116-144,145-172,173-201,202-229,230-258,259-286,287-315,316-343,344-372,373-400,401-429,430-455\"\n",
    "repeats = repeats.split(',')\n",
    "repeats = [[int(idx.split('-')[0]), int(idx.split('-')[1])] for idx in repeats]\n",
    "path = '/home/bio'\n",
    "pdbl = PDBList()\n",
    "pdbl.retrieve_pdb_file(pdbid, pdir=path, file_format='pdb')\n",
    "structure = PDBParser(QUIET=True).get_structure(pdbid, path + \"/pdb/{}.pdb\".format(pdbid))"
   ]
  },
  {
   "cell_type": "code",
   "execution_count": 3,
   "metadata": {},
   "outputs": [],
   "source": [
    "selected_chain = structure[0][chain]\n",
    "selected_residues = [res for res in selected_chain if res.id[0] == \" \"] # Exclude hetero groups and solvent\n",
    "#selected_atoms = [atom for residue in selected_residues for atom in residue.get_atoms()]"
   ]
  },
  {
   "cell_type": "code",
   "execution_count": 20,
   "metadata": {},
   "outputs": [],
   "source": [
    "sup = SVDSuperimposer()\n"
   ]
  },
  {
   "cell_type": "code",
   "execution_count": 4,
   "metadata": {},
   "outputs": [
    {
     "data": {
      "text/plain": [
       "array([[40.02899933, 66.65399933, -7.58500004],\n",
       "       [40.98899841, 66.28099823, -3.92400002],\n",
       "       [41.83599854, 68.98300171, -1.38300002],\n",
       "       ...,\n",
       "       [70.87000275, 64.84100342, 18.00399971],\n",
       "       [67.98200226, 64.83899689, 20.47200012],\n",
       "       [68.51300049, 66.33499908, 23.92399979]])"
      ]
     },
     "execution_count": 4,
     "metadata": {},
     "output_type": "execute_result"
    }
   ],
   "source": [
    "CA_pos = []\n",
    "for res in selected_residues:\n",
    "    CA_pos.append(list(res['CA'].get_vector()))\n",
    "CA_pos = np.array(CA_pos)\n",
    "CA_pos"
   ]
  },
  {
   "attachments": {},
   "cell_type": "markdown",
   "metadata": {},
   "source": [
    "Basic proof of concept for getting the translation matricies that super-imposes one unit onto the next.\\\n",
    "TODO: Probably explore using vinilla SVD from scipy to get all of the principal vectors so the torsion angles can be calculated according to this paper;\n",
    "https://onlinelibrary.wiley.com/doi/10.1002/jcc.20237 \\\n",
    "also SVD could be unstable if two principal directions have similar magnitude leading to axes being permutated. this would need to be investigated if this is actually a problem, or if another method of getting unit orientation needs to be worked out.\n",
    "more info on calculating torsion angles;\n",
    "https://www.youtube.com/watch?v=NSU0OnW9yLk\n"
   ]
  },
  {
   "cell_type": "code",
   "execution_count": 33,
   "metadata": {},
   "outputs": [
    {
     "name": "stdout",
     "output_type": "stream",
     "text": [
      "start: 2 end: 30\n",
      "[2.12895929e-15 0.00000000e+00 3.35576870e-15]\n",
      "5.567585431281865e-15\n",
      "start: 31 end: 58\n",
      "[10.60353611  7.1784923  14.20340711]\n",
      "1.9946231013279503\n",
      "start: 59 end: 87\n",
      "[12.54213776  9.12186992 35.71250996]\n",
      "0.8048565196023998\n",
      "start: 88 end: 115\n",
      "[26.3629371  12.13177285 49.8124651 ]\n",
      "1.775551708233427\n",
      "start: 116 end: 144\n",
      "[23.17833634  7.12621479 68.25783158]\n",
      "0.9347210121042736\n",
      "start: 145 end: 172\n",
      "[36.18823676  5.20982894 86.19644706]\n",
      "1.5234843371875706\n",
      "start: 173 end: 201\n",
      "[ 30.46230124  -4.83860572 103.81079032]\n",
      "0.9081724066283013\n",
      "start: 202 end: 229\n",
      "[ 40.36132362  -7.55923786 118.10703203]\n",
      "1.713198926058325\n",
      "start: 230 end: 258\n",
      "[ 32.73224262 -14.31634412 138.42227007]\n",
      "1.0494587132352233\n",
      "start: 259 end: 286\n",
      "[ 41.32873758 -18.1379075  159.10189417]\n",
      "1.960044811875689\n",
      "start: 287 end: 315\n",
      "[ 29.81894344 -23.47110775 177.8759162 ]\n",
      "1.2253490330171815\n",
      "start: 316 end: 343\n",
      "[  33.55572411  -22.64647885 -164.46154847]\n",
      "1.9768536140431958\n",
      "start: 344 end: 372\n",
      "[  25.55169608  -30.20603766 -148.52524979]\n",
      "0.9660672924563859\n",
      "start: 373 end: 400\n",
      "[  21.9952489   -26.46825972 -126.88499322]\n",
      "2.332466806779401\n",
      "start: 401 end: 429\n",
      "[  4.14957551 -27.12411945 -97.7322438 ]\n",
      "1.8204350301848022\n"
     ]
    }
   ],
   "source": [
    "for i in range(len(repeats) - 1):\n",
    "    print(f\"start: {repeats[i][0]} end: {repeats[i][1]}\")\n",
    "    x = CA_pos[repeats[1][0]:repeats[1][1]+1,:] # compare to constant refrence\n",
    "    #x = CA_pos[repeats[i][0]:repeats[i][1]+1,:] # compare consecuitive units\n",
    "    y = CA_pos[repeats[i+1][0]:repeats[i+1][1]+1,:]\n",
    "    min_len = min(x.shape[0], y.shape[0])\n",
    "    sup.set(x[0:min_len,:],y[0:min_len,:])\n",
    "    sup.run()\n",
    "    rot, tran = sup.get_rotran()\n",
    "    print(Rotation.from_matrix(rot).as_euler('xyz', degrees=True))\n",
    "    print(sup.get_rms())"
   ]
  },
  {
   "attachments": {},
   "cell_type": "markdown",
   "metadata": {},
   "source": []
  }
 ],
 "metadata": {
  "kernelspec": {
   "display_name": "biopy",
   "language": "python",
   "name": "python3"
  },
  "language_info": {
   "codemirror_mode": {
    "name": "ipython",
    "version": 3
   },
   "file_extension": ".py",
   "mimetype": "text/x-python",
   "name": "python",
   "nbconvert_exporter": "python",
   "pygments_lexer": "ipython3",
   "version": "3.9.16"
  },
  "orig_nbformat": 4
 },
 "nbformat": 4,
 "nbformat_minor": 2
}
