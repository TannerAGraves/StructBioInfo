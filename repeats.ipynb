{
 "cells": [
  {
   "cell_type": "code",
   "execution_count": 31,
   "metadata": {},
   "outputs": [],
   "source": [
    "from Bio.SVDSuperimposer import SVDSuperimposer\n",
    "from Bio.PDB.PDBParser import PDBParser\n",
    "from Bio.PDB import PDBList\n",
    "import numpy as np\n",
    "from scipy.spatial.transform import Rotation\n",
    "import matplotlib.pyplot as plt"
   ]
  },
  {
   "cell_type": "code",
   "execution_count": 3,
   "metadata": {},
   "outputs": [
    {
     "name": "stdout",
     "output_type": "stream",
     "text": [
      "Downloading PDB structure '2q4g'...\n"
     ]
    }
   ],
   "source": [
    "pdbid = '2q4g'\n",
    "chain = 'Y'\n",
    "repeats = \"2-30,31-58,59-87,88-115,116-144,145-172,173-201,202-229,230-258,259-286,287-315,316-343,344-372,373-400,401-429,430-455\"\n",
    "repeats = repeats.split(',')\n",
    "repeats = [[int(idx.split('-')[0]), int(idx.split('-')[1])] for idx in repeats]\n",
    "path = '/home/bio'\n",
    "pdbl = PDBList()\n",
    "pdbl.retrieve_pdb_file(pdbid, pdir=path, file_format='pdb')\n",
    "structure = PDBParser(QUIET=True).get_structure(pdbid, path + \"/pdb/{}.pdb\".format(pdbid))"
   ]
  },
  {
   "cell_type": "code",
   "execution_count": 4,
   "metadata": {},
   "outputs": [],
   "source": [
    "selected_chain = structure[0][chain]\n",
    "selected_residues = [res for res in selected_chain if res.id[0] == \" \"] # Exclude hetero groups and solvent\n",
    "#selected_atoms = [atom for residue in selected_residues for atom in residue.get_atoms()]"
   ]
  },
  {
   "cell_type": "code",
   "execution_count": 5,
   "metadata": {},
   "outputs": [],
   "source": [
    "sup = SVDSuperimposer()\n"
   ]
  },
  {
   "cell_type": "code",
   "execution_count": 6,
   "metadata": {},
   "outputs": [
    {
     "data": {
      "text/plain": [
       "array([[40.02899933, 66.65399933, -7.58500004],\n",
       "       [40.98899841, 66.28099823, -3.92400002],\n",
       "       [41.83599854, 68.98300171, -1.38300002],\n",
       "       ...,\n",
       "       [70.87000275, 64.84100342, 18.00399971],\n",
       "       [67.98200226, 64.83899689, 20.47200012],\n",
       "       [68.51300049, 66.33499908, 23.92399979]])"
      ]
     },
     "execution_count": 6,
     "metadata": {},
     "output_type": "execute_result"
    }
   ],
   "source": [
    "CA_pos = []\n",
    "for res in selected_residues:\n",
    "    CA_pos.append(list(res['CA'].get_vector()))\n",
    "CA_pos = np.array(CA_pos)\n",
    "CA_pos"
   ]
  },
  {
   "attachments": {},
   "cell_type": "markdown",
   "metadata": {},
   "source": [
    "Basic proof of concept for getting the translation matricies that super-imposes one unit onto the next.\\\n",
    "TODO: Probably explore using vinilla SVD from scipy to get all of the principal vectors so the torsion angles can be calculated according to this paper;\n",
    "https://onlinelibrary.wiley.com/doi/10.1002/jcc.20237 \\\n",
    "also SVD could be unstable if two principal directions have similar magnitude leading to axes being permutated. this would need to be investigated if this is actually a problem, or if another method of getting unit orientation needs to be worked out.\n",
    "more info on calculating torsion angles;\n",
    "https://www.youtube.com/watch?v=NSU0OnW9yLk \\ \n",
    "\n",
    "here is  blog detailing the re-implementation of the SVD-superimposer (very simple)\n",
    "\n",
    "https://ideasbyjin.github.io/post/2019-10-06-rmsd/\n"
   ]
  },
  {
   "cell_type": "code",
   "execution_count": 37,
   "metadata": {},
   "outputs": [],
   "source": [
    "def get_rot_tran(coord_true, coord_pred):\n",
    "    \"\"\"\n",
    "    Given two matrices, return a rotation and translation matrix to move\n",
    "    pred coords onto true coords.\n",
    "    Largely based on SVDSuperimposer implementation from BioPython with some tweaks.\n",
    "    \"\"\"\n",
    "    centroid_pred = np.sum(coord_pred, axis=0) / coord_pred.shape[0]\n",
    "    centroid_true = np.sum(coord_true, axis=0) / coord_true.shape[0]\n",
    "    \n",
    "    p_prime = coord_pred - centroid_pred\n",
    "    q_prime = coord_true - centroid_true\n",
    "    \n",
    "    W = np.dot(q_prime.T, p_prime)\n",
    "    U, S, Vt = np.linalg.svd(W)\n",
    "    \n",
    "    V = Vt.T\n",
    "    \n",
    "    rot = np.dot(V, U.T)\n",
    "    det = np.linalg.det(rot)\n",
    "    \n",
    "    # The determinant is needed to detect whether we need a right-hand coordinate system or not\n",
    "    # This basically means we just have to flip the Z-axis\n",
    "    if det < 0:\n",
    "        Vt[:,2] = -Vt[:,2]\n",
    "        V = Vt.T\n",
    "        rot = np.dot(V, U.T)\n",
    "        \n",
    "    tran = centroid_true - np.dot(centroid_pred, rot)\n",
    "    return W, U, V"
   ]
  },
  {
   "cell_type": "code",
   "execution_count": 38,
   "metadata": {},
   "outputs": [
    {
     "data": {
      "text/plain": [
       "16"
      ]
     },
     "execution_count": 38,
     "metadata": {},
     "output_type": "execute_result"
    }
   ],
   "source": [
    "len(repeats)"
   ]
  },
  {
   "cell_type": "code",
   "execution_count": 64,
   "metadata": {},
   "outputs": [
    {
     "name": "stdout",
     "output_type": "stream",
     "text": [
      "[474.16867855  32.3833624   24.46880987] -- [[-0.49095808  0.20849532 -0.84586634]\n",
      " [-0.858365   -0.28171375  0.42877369]\n",
      " [-0.14889487  0.93657197  0.31727473]]\n",
      "[435.8056346   33.96607976  29.20339418] -- [[-0.43996192  0.37457199  0.81616747]\n",
      " [-0.87487513 -0.38377981 -0.29547683]\n",
      " [-0.20255126  0.84404317 -0.49655222]]\n",
      "[412.73667456  35.11003883  28.94768798] -- [[-0.42527292  0.23054915  0.87520857]\n",
      " [-0.86940369 -0.37283523 -0.32423929]\n",
      " [-0.2515555   0.89879974 -0.35899701]]\n",
      "[378.6361637   34.36558508  23.09492641] -- [[-0.43117515  0.55952934 -0.70782407]\n",
      " [-0.84134219  0.03405527  0.53942892]\n",
      " [-0.32593144 -0.8281106  -0.45607185]]\n",
      "[362.22041521  33.33471549  20.92428104] -- [[-0.45878951  0.41875748 -0.78368001]\n",
      " [-0.80150688  0.18566121  0.5684335 ]\n",
      " [-0.38353476 -0.88891624 -0.25045759]]\n",
      "[339.94120517  34.1719626   10.10115962] -- [[-0.52877727  0.40599352  0.74536157]\n",
      " [-0.73554777  0.218996   -0.6411008 ]\n",
      " [-0.42351397 -0.88724856  0.18282752]]\n",
      "[340.07687847  35.6361316   11.14806684] -- [[-0.60147855 -0.32883367  0.72807415]\n",
      " [-0.66333908 -0.30230883 -0.6845368 ]\n",
      " [-0.445202    0.89469424  0.03629595]]\n",
      "[341.88105731  35.88642226  18.99256703] -- [[-0.68419011  0.28307476  0.67212542]\n",
      " [-0.58833061  0.33039575 -0.73804183]\n",
      " [-0.43098839 -0.90039288 -0.05951196]]\n",
      "[362.04962581  34.99197164  25.68013074] -- [[-0.74987571  0.2758909   0.60130743]\n",
      " [-0.52289485  0.3096529  -0.79416375]\n",
      " [-0.40529914 -0.90994467 -0.08793926]]\n",
      "[385.35857304  35.269916    28.73367924] -- [[-0.7954055   0.39526978  0.45944738]\n",
      " [-0.48616452  0.0365492  -0.87310264]\n",
      " [-0.36190352 -0.91783765  0.16309471]]\n",
      "[424.88815781  38.38525936  27.06877042] -- [[-0.82449745 -0.49459578 -0.27491629]\n",
      " [-0.46829577  0.3236684   0.82215439]\n",
      " [-0.31765238  0.80660633 -0.49848088]]\n",
      "[453.72027066  39.4586209   24.77296099] -- [[-0.8322971  -0.39134306 -0.39259668]\n",
      " [-0.48044739  0.15599894  0.86303803]\n",
      " [-0.27649927  0.9069261  -0.31785721]]\n",
      "[492.89585526  42.67403429  20.65944966] -- [[-0.82973811 -0.35499856 -0.43070952]\n",
      " [-0.50399495  0.14493668  0.85145901]\n",
      " [-0.23984112  0.92356341 -0.29917697]]\n",
      "[511.20836395  39.90295732  15.85290558] -- [[-0.80858989 -0.2850117  -0.51473364]\n",
      " [-0.54743851  0.04382868  0.83569739]\n",
      " [-0.21562344  0.95752148 -0.19146581]]\n",
      "[542.38657649  43.16476539  11.81983748] -- [[-0.78008431 -0.19579697 -0.59424912]\n",
      " [-0.59640484 -0.05440002  0.80083825]\n",
      " [-0.18912887  0.97913441 -0.07433765]]\n"
     ]
    },
    {
     "data": {
      "text/plain": [
       "[array([[-0.49095808,  0.20849532, -0.84586634],\n",
       "        [-0.858365  , -0.28171375,  0.42877369],\n",
       "        [-0.14889487,  0.93657197,  0.31727473]]),\n",
       " array([[-0.43996192,  0.37457199,  0.81616747],\n",
       "        [-0.87487513, -0.38377981, -0.29547683],\n",
       "        [-0.20255126,  0.84404317, -0.49655222]]),\n",
       " array([[-0.42527292,  0.23054915,  0.87520857],\n",
       "        [-0.86940369, -0.37283523, -0.32423929],\n",
       "        [-0.2515555 ,  0.89879974, -0.35899701]]),\n",
       " array([[-0.43117515,  0.55952934, -0.70782407],\n",
       "        [-0.84134219,  0.03405527,  0.53942892],\n",
       "        [-0.32593144, -0.8281106 , -0.45607185]]),\n",
       " array([[-0.45878951,  0.41875748, -0.78368001],\n",
       "        [-0.80150688,  0.18566121,  0.5684335 ],\n",
       "        [-0.38353476, -0.88891624, -0.25045759]]),\n",
       " array([[-0.52877727,  0.40599352,  0.74536157],\n",
       "        [-0.73554777,  0.218996  , -0.6411008 ],\n",
       "        [-0.42351397, -0.88724856,  0.18282752]]),\n",
       " array([[-0.60147855, -0.32883367,  0.72807415],\n",
       "        [-0.66333908, -0.30230883, -0.6845368 ],\n",
       "        [-0.445202  ,  0.89469424,  0.03629595]]),\n",
       " array([[-0.68419011,  0.28307476,  0.67212542],\n",
       "        [-0.58833061,  0.33039575, -0.73804183],\n",
       "        [-0.43098839, -0.90039288, -0.05951196]]),\n",
       " array([[-0.74987571,  0.2758909 ,  0.60130743],\n",
       "        [-0.52289485,  0.3096529 , -0.79416375],\n",
       "        [-0.40529914, -0.90994467, -0.08793926]]),\n",
       " array([[-0.7954055 ,  0.39526978,  0.45944738],\n",
       "        [-0.48616452,  0.0365492 , -0.87310264],\n",
       "        [-0.36190352, -0.91783765,  0.16309471]]),\n",
       " array([[-0.82449745, -0.49459578, -0.27491629],\n",
       "        [-0.46829577,  0.3236684 ,  0.82215439],\n",
       "        [-0.31765238,  0.80660633, -0.49848088]]),\n",
       " array([[-0.8322971 , -0.39134306, -0.39259668],\n",
       "        [-0.48044739,  0.15599894,  0.86303803],\n",
       "        [-0.27649927,  0.9069261 , -0.31785721]]),\n",
       " array([[-0.82973811, -0.35499856, -0.43070952],\n",
       "        [-0.50399495,  0.14493668,  0.85145901],\n",
       "        [-0.23984112,  0.92356341, -0.29917697]]),\n",
       " array([[-0.80858989, -0.2850117 , -0.51473364],\n",
       "        [-0.54743851,  0.04382868,  0.83569739],\n",
       "        [-0.21562344,  0.95752148, -0.19146581]]),\n",
       " array([[-0.78008431, -0.19579697, -0.59424912],\n",
       "        [-0.59640484, -0.05440002,  0.80083825],\n",
       "        [-0.18912887,  0.97913441, -0.07433765]])]"
      ]
     },
     "execution_count": 64,
     "metadata": {},
     "output_type": "execute_result"
    }
   ],
   "source": [
    "Vt_hist = []\n",
    "for i in range(len(repeats) - 1):\n",
    "    unit = CA_pos[repeats[i][0]:repeats[i][1]+1,:]\n",
    "    U, S, V = np.linalg.svd(unit)\n",
    "    Vt_hist.append(V.T)\n",
    "    print(F\"{S} -- {V.T}\")\n",
    "Vt_hist"
   ]
  },
  {
   "cell_type": "code",
   "execution_count": 57,
   "metadata": {},
   "outputs": [
    {
     "data": {
      "text/plain": [
       "array([542.38657649,  43.16476539,  11.81983748])"
      ]
     },
     "execution_count": 57,
     "metadata": {},
     "output_type": "execute_result"
    }
   ],
   "source": [
    "S"
   ]
  },
  {
   "cell_type": "code",
   "execution_count": 52,
   "metadata": {},
   "outputs": [
    {
     "data": {
      "text/plain": [
       "[<matplotlib.lines.Line2D at 0x7f1618872220>]"
      ]
     },
     "execution_count": 52,
     "metadata": {},
     "output_type": "execute_result"
    },
    {
     "data": {
      "image/png": "[encoded data removed]",
      "text/plain": [
       "<Figure size 640x480 with 1 Axes>"
      ]
     },
     "metadata": {},
     "output_type": "display_data"
    }
   ],
   "source": [
    "hist = np.array(Vt_hist)\n",
    "plt.plot(hist[:, 0])\n",
    "plt.plot(hist[:, 1])\n",
    "plt.plot(hist[:, 2])"
   ]
  },
  {
   "cell_type": "code",
   "execution_count": 71,
   "metadata": {},
   "outputs": [
    {
     "name": "stdout",
     "output_type": "stream",
     "text": [
      "[-0.10235919 -0.34121453 -3.14104675]\n",
      "[-8.51447806 -1.98885876 -2.17675026]\n",
      "[129.10312126  -0.7125726   -4.51259455]\n",
      "[12.10063695 -3.85924875  1.93030821]\n",
      "[-0.11788465 -0.0316004   2.29075816]\n",
      "[-1.79930751e+02  7.36025188e-02  1.31023792e+00]\n",
      "[-1.79908759e+02 -4.41409608e-02  1.64259729e+00]\n",
      "[ 0.63589261  5.39216143 -1.15711106]\n",
      "[16.85168237  3.46067614 -2.33542182]\n",
      "[-157.76707596    1.24630128   -2.9505254 ]\n",
      "[-12.49359907   1.62514325   1.89868605]\n",
      "[-1.66868946  1.88990833  1.63813475]\n",
      "[-7.27160457  3.05786733  0.49129544]\n",
      "[-7.60791323  3.47807743  0.86671382]\n"
     ]
    },
    {
     "data": {
      "text/plain": [
       "[]"
      ]
     },
     "execution_count": 71,
     "metadata": {},
     "output_type": "execute_result"
    }
   ],
   "source": [
    "def compute_angles(mats):\n",
    "    angles = []\n",
    "    for i in range(1, len(mats)):\n",
    "        m1 = mats[i-1]\n",
    "        m2 = mats[i]\n",
    "        #v1 = vectors[i-1]\n",
    "        #v2 = vectors[i]\n",
    "        #cos_angle = np.dot(v1, v2) / (np.linalg.norm(v1) * np.linalg.norm(v2))\n",
    "        #angle = np.arccos(np.clip(cos_angle, -1, 1))  # avoid floating point errors\n",
    "        #angles.append(np.degrees(angle))\n",
    "        rel_rot_mat = np.dot(m1.T,m2)\n",
    "        euler = Rotation.from_matrix(rel_rot_mat).as_euler('xyz', degrees=True)\n",
    "        '''\n",
    "        torsion = []\n",
    "        for j in range(3):\n",
    "            v1 = rel_rot_mat[:,j]\n",
    "            v2 = rel_rot_mat[:,j]\n",
    "            theta = np.dot(v1, v2) / (np.linalg.norm(v1) * np.linalg.norm(v2))\n",
    "            torsion.append(theta)\n",
    "        '''\n",
    "        print(euler)\n",
    "        #angles.append(torsion)\n",
    "    return angles\n",
    "compute_angles(Vt_hist)"
   ]
  },
  {
   "cell_type": "code",
   "execution_count": 33,
   "metadata": {},
   "outputs": [
    {
     "name": "stdout",
     "output_type": "stream",
     "text": [
      "start: 2 end: 30\n",
      "[2.12895929e-15 0.00000000e+00 3.35576870e-15]\n",
      "5.567585431281865e-15\n",
      "start: 31 end: 58\n",
      "[10.60353611  7.1784923  14.20340711]\n",
      "1.9946231013279503\n",
      "start: 59 end: 87\n",
      "[12.54213776  9.12186992 35.71250996]\n",
      "0.8048565196023998\n",
      "start: 88 end: 115\n",
      "[26.3629371  12.13177285 49.8124651 ]\n",
      "1.775551708233427\n",
      "start: 116 end: 144\n",
      "[23.17833634  7.12621479 68.25783158]\n",
      "0.9347210121042736\n",
      "start: 145 end: 172\n",
      "[36.18823676  5.20982894 86.19644706]\n",
      "1.5234843371875706\n",
      "start: 173 end: 201\n",
      "[ 30.46230124  -4.83860572 103.81079032]\n",
      "0.9081724066283013\n",
      "start: 202 end: 229\n",
      "[ 40.36132362  -7.55923786 118.10703203]\n",
      "1.713198926058325\n",
      "start: 230 end: 258\n",
      "[ 32.73224262 -14.31634412 138.42227007]\n",
      "1.0494587132352233\n",
      "start: 259 end: 286\n",
      "[ 41.32873758 -18.1379075  159.10189417]\n",
      "1.960044811875689\n",
      "start: 287 end: 315\n",
      "[ 29.81894344 -23.47110775 177.8759162 ]\n",
      "1.2253490330171815\n",
      "start: 316 end: 343\n",
      "[  33.55572411  -22.64647885 -164.46154847]\n",
      "1.9768536140431958\n",
      "start: 344 end: 372\n",
      "[  25.55169608  -30.20603766 -148.52524979]\n",
      "0.9660672924563859\n",
      "start: 373 end: 400\n",
      "[  21.9952489   -26.46825972 -126.88499322]\n",
      "2.332466806779401\n",
      "start: 401 end: 429\n",
      "[  4.14957551 -27.12411945 -97.7322438 ]\n",
      "1.8204350301848022\n"
     ]
    }
   ],
   "source": [
    "for i in range(len(repeats) - 1):\n",
    "    print(f\"start: {repeats[i][0]} end: {repeats[i][1]}\")\n",
    "    x = CA_pos[repeats[1][0]:repeats[1][1]+1,:] # compare to constant refrence\n",
    "    #x = CA_pos[repeats[i][0]:repeats[i][1]+1,:] # compare consecuitive units\n",
    "    y = CA_pos[repeats[i+1][0]:repeats[i+1][1]+1,:]\n",
    "    min_len = min(x.shape[0], y.shape[0])\n",
    "    sup.set(x[0:min_len,:],y[0:min_len,:])\n",
    "    sup.run()\n",
    "    rot, tran = sup.get_rotran()\n",
    "    print(Rotation.from_matrix(rot).as_euler('xyz', degrees=True))\n",
    "    print(sup.get_rms())"
   ]
  },
  {
   "attachments": {},
   "cell_type": "markdown",
   "metadata": {},
   "source": []
  }
 ],
 "metadata": {
  "kernelspec": {
   "display_name": "biopy",
   "language": "python",
   "name": "python3"
  },
  "language_info": {
   "codemirror_mode": {
    "name": "ipython",
    "version": 3
   },
   "file_extension": ".py",
   "mimetype": "text/x-python",
   "name": "python",
   "nbconvert_exporter": "python",
   "pygments_lexer": "ipython3",
   "version": "3.9.16"
  },
  "orig_nbformat": 4
 },
 "nbformat": 4,
 "nbformat_minor": 2
}
